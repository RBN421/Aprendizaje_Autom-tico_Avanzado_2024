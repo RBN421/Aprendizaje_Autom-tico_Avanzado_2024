{
 "cells": [
  {
   "cell_type": "markdown",
   "id": "bd7206b8",
   "metadata": {},
   "source": [
    "<img style=\"float: left;;\" src='Figures/alinco.png' /></a>\n",
    "\n",
    "# <center> <font color= #000047> Actividad 1.</font>\n",
    "    "
   ]
  },
  {
   "cell_type": "markdown",
   "id": "fb32389a",
   "metadata": {},
   "source": [
    "<div class=\"alert alert-block alert-info\">\n",
    "    <br><font face = \"Times New Roman\" size = \"6\"><b><center>Relaciones Lineales</center></b></font>\n",
    "</div>"
   ]
  },
  {
   "cell_type": "markdown",
   "id": "d4d3b2c1",
   "metadata": {},
   "source": [
    "## 1. Ejercicio\n",
    "Encuentre la mejor función lineal\n",
    "\n",
    "$$ y = a_0 + a_1x_1 + a_2x_2 $$\n",
    "\n",
    "para **$x_1$ = flavanoid, $x_2$ = alcalinity_of_ash y $y$ = ash**, usando la función `minimize` y el criterio del promedio de las diferencias al cuadrado (Mínimos cuadrados)."
   ]
  },
  {
   "cell_type": "markdown",
   "id": "79346a34",
   "metadata": {},
   "source": [
    "## 2. Importación de Librerías \n",
    "* **sklearn.datasets:** Aprendizaje automático en Python.\n",
    "   * **load_wine:** Función que carga el conjunto de datos multiclase 'Wine', utilizado comúnmente como ejemplo en aprendizaje automático.\n",
    "* **numpy:** Computación numérica en Python.\n",
    "* **scipy.optimize:** Matemáticas científicas y funciones de optimización en Python.\n",
    "   * **minimize:** Función python para encontrar el valor mínimo de una función.\n",
    "* **matplotlib.pyplot:** Crear visualizaciones en Python.\n",
    "* **pandas:** Manipulación y análisis de datos (datos estructurados y series temporales) en Python."
   ]
  },
  {
   "cell_type": "code",
   "execution_count": null,
   "id": "113fd07c",
   "metadata": {},
   "outputs": [],
   "source": [
    "from sklearn.datasets import load_wine\n",
    "import numpy as np\n",
    "from scipy.optimize import minimize\n",
    "import matplotlib.pyplot as plt\n",
    "import pandas as pd"
   ]
  },
  {
   "cell_type": "markdown",
   "id": "f509ee58",
   "metadata": {},
   "source": [
    "## 2. Carga de Conj. de Datos Ejemplo 'Wine'"
   ]
  },
  {
   "cell_type": "code",
   "execution_count": null,
   "id": "62906431",
   "metadata": {},
   "outputs": [],
   "source": [
    "\n",
    "#print(names)\n",
    "\n",
    "#Solo para efectos de visualización, se convierte en df y se imprime\n"
   ]
  },
  {
   "cell_type": "code",
   "execution_count": null,
   "id": "7bf64e2d",
   "metadata": {},
   "outputs": [],
   "source": [
    "# Gráfica de flavanoids vs alcalinity_of_ash vs ash\n"
   ]
  },
  {
   "cell_type": "markdown",
   "id": "03586587",
   "metadata": {},
   "source": [
    "## 3. Definición de variables"
   ]
  },
  {
   "cell_type": "code",
   "execution_count": null,
   "id": "32ba3489",
   "metadata": {},
   "outputs": [],
   "source": [
    "#Variable independiente x1 = flavanoid, resulta de columna 6 del df\n",
    "\n",
    "\n",
    "#Variable independiente x2 = alcalinity_of_ash, col 3 del df\n",
    "\n",
    "\n",
    "#Variable dependiente y = ash, col 2 del df\n"
   ]
  },
  {
   "cell_type": "code",
   "execution_count": null,
   "id": "6ab56fef",
   "metadata": {},
   "outputs": [],
   "source": [
    "#Valido que se guardaron las columnas/valores correct@s\n",
    "#flavanoids[2] = 3.24\n"
   ]
  },
  {
   "cell_type": "code",
   "execution_count": null,
   "id": "2154bb9f",
   "metadata": {},
   "outputs": [],
   "source": [
    "#Valido que se guardaron las columnas/valores correct@s\n",
    "#alcalinity[0] = 15.6\n"
   ]
  },
  {
   "cell_type": "code",
   "execution_count": null,
   "id": "6bb5f133",
   "metadata": {},
   "outputs": [],
   "source": [
    "#Valido que se guardaron las columnas/valores correct@s\n",
    "#ash[4] = 2.87\n"
   ]
  },
  {
   "cell_type": "markdown",
   "id": "fa0ca0a2",
   "metadata": {},
   "source": [
    "## 4. Definición de función de error"
   ]
  },
  {
   "cell_type": "code",
   "execution_count": null,
   "id": "fcac5d8b",
   "metadata": {},
   "outputs": [],
   "source": [
    "# Definir la función criterio de minimizacion\n",
    "# ash = a[0] + a[1] * flavanoids + a[2] * alcalinity_of_ash\n",
    "\n"
   ]
  },
  {
   "cell_type": "markdown",
   "id": "661d14b2",
   "metadata": {},
   "source": [
    "## 5. Determinación de coeficientes óptimos"
   ]
  },
  {
   "cell_type": "code",
   "execution_count": null,
   "id": "435e5fc3",
   "metadata": {},
   "outputs": [],
   "source": [
    "#minimize?"
   ]
  },
  {
   "cell_type": "code",
   "execution_count": null,
   "id": "b90f7c41",
   "metadata": {},
   "outputs": [],
   "source": [
    "# Definición de arreglo 'Initial Guess' para pasarle a minimize() \n",
    "# como dice la documentación\n",
    "# Tamaño: 3 porque son 3 variables, Valores: Aleatorios entre 0 y 2.\n",
    "\n",
    "\n",
    "# Minimizar función de error\n"
   ]
  },
  {
   "cell_type": "markdown",
   "id": "f804e15e",
   "metadata": {},
   "source": [
    "## 6. Resultados de actividad"
   ]
  },
  {
   "cell_type": "code",
   "execution_count": null,
   "id": "ba3abea5",
   "metadata": {},
   "outputs": [],
   "source": [
    "# Imprimir el resultado luego de minimizar función de error\n"
   ]
  },
  {
   "cell_type": "code",
   "execution_count": null,
   "id": "b8000ba7",
   "metadata": {},
   "outputs": [],
   "source": [
    "# Se guardan los coef y mse en variables para imprimirlos en mensaje\n",
    "\n",
    "# x contiene los coeficientes a0, a1, a2\n",
    "\n",
    "\n",
    "# fun contiene el msn\n"
   ]
  },
  {
   "cell_type": "code",
   "execution_count": null,
   "id": "d8948be0",
   "metadata": {},
   "outputs": [],
   "source": [
    "# Se imprimen los resultados en mensajes\n",
    "\n",
    "print(\"Los coeficientes óptimos son los siguientes:\")\n",
    "print(\"a0 =\", None)\n",
    "print(\"a1 =\", None)\n",
    "print(\"a2 =\", None)\n",
    "print(\"\\nEl Mean Squared Error (Error Cuadrático Medio) es:\", mse)"
   ]
  },
  {
   "cell_type": "code",
   "execution_count": null,
   "id": "a4de84d7",
   "metadata": {},
   "outputs": [],
   "source": [
    "print(\"La mejor función lineal que relaciona 'flavanoid', 'alcalinity_of_ash' y 'ash' es:\")\n",
    "print(\"\\nash = \", round(None,2), \"+\", round(None,2), \"* flavanoids +\", round(None,2), \"* alcalinity_of_ash\")"
   ]
  }
 ],
 "metadata": {
  "kernelspec": {
   "display_name": "Python 3 (ipykernel)",
   "language": "python",
   "name": "python3"
  },
  "language_info": {
   "codemirror_mode": {
    "name": "ipython",
    "version": 3
   },
   "file_extension": ".py",
   "mimetype": "text/x-python",
   "name": "python",
   "nbconvert_exporter": "python",
   "pygments_lexer": "ipython3",
   "version": "3.8.8"
  }
 },
 "nbformat": 4,
 "nbformat_minor": 5
}
