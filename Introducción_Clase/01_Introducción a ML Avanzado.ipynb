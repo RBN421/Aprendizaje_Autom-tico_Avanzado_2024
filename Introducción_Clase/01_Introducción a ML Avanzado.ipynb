{
 "cells": [
  {
   "cell_type": "markdown",
   "metadata": {},
   "source": [
    "<img style=\"float: left;;\" src='Figures/alinco.png' /></a>\n",
    "\n",
    "# <center> <font color= #000047> Introducción: Aprendizaje Automático Avanzado.</font>\n",
    "    \n",
    "___"
   ]
  },
  {
   "cell_type": "markdown",
   "metadata": {},
   "source": [
    "Una de las ramas de estudio que cada vez esta ganando más popularidad dentro de las [ciencias de la computación](https://es.wikipedia.org/wiki/Ciencias_de_la_computaci%C3%B3n) es el ***aprendizaje automático*** o ***[Machine Learning](https://es.wikipedia.org/wiki/Aprendizaje_autom%C3%A1tico)***. Muchos de los servicios que utilizamos en nuestro día a día como google, gmail, netflix, spotify o amazon se valen de las herramientas que les brinda el [Machine Learning](https://es.wikipedia.org/wiki/Aprendizaje_autom%C3%A1tico) para alcanzar un servicio cada vez más personalizado y lograr así ventajas competitivas sobre sus rivales. "
   ]
  },
  {
   "cell_type": "markdown",
   "metadata": {},
   "source": [
    "## Qué es Machine Learning?"
   ]
  },
  {
   "cell_type": "markdown",
   "metadata": {},
   "source": [
    "Pero, ¿qué es exactamente [Machine Learning](https://es.wikipedia.org/wiki/Aprendizaje_autom%C3%A1tico)?. El [Machine Learning](https://es.wikipedia.org/wiki/Aprendizaje_autom%C3%A1tico) es el diseño y estudio de las herramientas informáticas que utilizan la experiencia pasada para tomar decisiones futuras; es el estudio de programas que pueden aprenden de los datos. El objetivo fundamental del [Machine Learning](https://es.wikipedia.org/wiki/Aprendizaje_autom%C3%A1tico) es ***generalizar, o inducir una regla desconocida\n",
    "a partir de ejemplos donde esa regla es aplicada***. El ejemplo más típico donde podemos ver el uso del [Machine Learning](https://es.wikipedia.org/wiki/Aprendizaje_autom%C3%A1tico) es en el filtrado de los correo basura o spam. Mediante la observación de miles de correos electrónicos que han sido marcados previamente como basura, los filtros de spam aprenden a clasificar los mensajes nuevos. El [Machine Learning](https://es.wikipedia.org/wiki/Aprendizaje_autom%C3%A1tico) combina conceptos y técnicas de diferentes áreas del conocimiento, como las [matemáticas](https://es.wikipedia.org/wiki/Matem%C3%A1ticas), [estadísticas](https://es.wikipedia.org/wiki/Estad%C3%ADstica) y las [ciencias de la computación](https://es.wikipedia.org/wiki/Ciencias_de_la_computaci%C3%B3n); por tal motivo, hay muchas maneras de aprender la disciplina."
   ]
  },
  {
   "cell_type": "markdown",
   "metadata": {},
   "source": [
    "## Tipos de Machine Learning\n",
    "\n",
    "El [Machine Learning](https://es.wikipedia.org/wiki/Aprendizaje_autom%C3%A1tico) tiene una amplia gama de aplicaciones, incluyendo motores de búsqueda, diagnósticos médicos, detección de fraude en el uso de tarjetas de crédito, análisis del mercado de valores, clasificación de secuencias de ADN, reconocimiento del habla y del lenguaje escrito, juegos y robótica. Pero para poder abordar cada uno de estos temas es crucial en primer lugar distingir los distintos tipos de problemas de [Machine Learning](https://es.wikipedia.org/wiki/Aprendizaje_autom%C3%A1tico) con los que nos podemos encontrar.\n",
    "\n",
    "### Aprendizaje supervisado\n",
    "\n",
    "En los problemas de [aprendizaje supervisado](https://es.wikipedia.org/wiki/Aprendizaje_supervisado) se enseña o entrena al [algoritmo](https://es.wikipedia.org/wiki/Algoritmo) a partir de datos que ya vienen etiquetados con la respuesta correcta. Cuanto mayor es el conjunto de datos más el [algoritmo](https://es.wikipedia.org/wiki/Algoritmo) puede aprender sobre el tema. Una vez concluído el entrenamiento, se le brindan nuevos datos, ya sin las etiquetas de las respuestas correctas, y el [algoritmo](https://es.wikipedia.org/wiki/Algoritmo) de aprendizaje utiliza la experiencia pasada que adquirió durante la etapa de entrenamiento para predecir un resultado. Esto es similar al método de aprendizaje que se utiliza en las escuelas, donde se nos enseñan problemas y las formas de resolverlos, para que luego podamos aplicar los mismos métodos en situaciones similares.\n",
    "\n",
    "### Aprendizaje no supervisado\n",
    "\n",
    "En los problemas de [aprendizaje no supervisado](https://es.wikipedia.org/wiki/Aprendizaje_no_supervisado) el [algoritmo](https://es.wikipedia.org/wiki/Algoritmo) es entrenado usando un conjunto de datos que no tiene ninguna etiqueta; en este caso, nunca se le dice al [algoritmo](https://es.wikipedia.org/wiki/Algoritmo) lo que representan los datos. La idea es que el [algoritmo](https://es.wikipedia.org/wiki/Algoritmo) pueda encontrar por si solo patrones que ayuden a entender el conjunto de datos. El [aprendizaje no supervisado](https://es.wikipedia.org/wiki/Aprendizaje_no_supervisado) es similar al método que utilizamos para aprender a hablar cuando somos bebes, en un principio escuchamos hablar a nuestros padres y no entendemos nada; pero a medida que vamos escuchando miles de conversaciones, nuestro cerebro comenzará a formar un modelo sobre cómo funciona el lenguaje y comenzaremos a reconocer patrones y a esperar ciertos sonidos. \n",
    "\n",
    "### Aprendizaje por refuerzo\n",
    "\n",
    "En los problemas de aprendizaje por refuerzo, el [algoritmo](https://es.wikipedia.org/wiki/Algoritmo) aprende observando el mundo que le rodea. Su información de entrada es el feedback o retroalimentación que obtiene del mundo exterior como respuesta a sus acciones. Por lo tanto, el sistema aprende a base de ensayo-error. Un buen ejemplo de este tipo de aprendizaje lo podemos encontrar en los juegos, donde vamos probando nuevas estrategias y vamos seleccionando y perfeccionando aquellas que nos ayudan a ganar el juego. A medida que vamos adquiriendo más practica, el efecto acumulativo del refuerzo a nuestras acciones victoriosas terminará creando una estrategia ganadora."
   ]
  },
  {
   "cell_type": "markdown",
   "metadata": {},
   "source": [
    "## Sobreentrenamiento\n",
    "\n",
    "Como mencionamos cuando definimos al [Machine Learning](https://es.wikipedia.org/wiki/Aprendizaje_autom%C3%A1tico), la idea fundamental es encontrar patrones que podamos generalizar para luego poder aplicar esta generalización sobre los casos que todavía no hemos observado y realizar predicciones. Pero también puede ocurrir que durante el entrenamiento solo descubramos casualidades en los datos que se parecen a patrones interesantes, pero que no generalicen. Esto es lo que se conoce con el nombre de *[sobreentrenamiento](https://es.wikipedia.org/wiki/Sobreajuste) o sobreajuste*.\n",
    "\n",
    "El *[sobreentrenamiento](https://es.wikipedia.org/wiki/Sobreajuste)* es la tendencia que tienen la mayoría de los [algoritmos](https://es.wikipedia.org/wiki/Algoritmo) de [Machine Learning](https://es.wikipedia.org/wiki/Aprendizaje_autom%C3%A1tico) a ajustarse a unas características muy específicas de los datos de entrenamiento que no tienen relación causal con la *función objetivo* que estamos buscando para generalizar. El ejemplo más extremo de un modelo *sobreentrenado* es un modelo que solo memoriza las respuestas correctas; este modelo al ser utilizado con datos que nunca antes ha visto va a tener un rendimiento azaroso, ya que nunca logró generalizar un patrón para predecir.\n",
    "\n",
    "### Como evitar el sobreentrenamiento\n",
    "\n",
    "Como mencionamos anteriormente, todos los modelos de [Machine Learning](https://es.wikipedia.org/wiki/Aprendizaje_autom%C3%A1tico) tienen tendencia al *[sobreentrenamiento](https://es.wikipedia.org/wiki/Sobreajuste)*; es por esto que debemos aprender a convivir con el mismo y tratar de tomar medidas preventivas para reducirlo lo más posible. Las dos principales estrategias para lidiar son el *[sobreentrenamiento](https://es.wikipedia.org/wiki/Sobreajuste)* son: la ***retención de datos*** y la ***[validación cruzada](https://es.wikipedia.org/wiki/Validaci%C3%B3n_cruzada)***.\n",
    "\n",
    "En el primer caso, la idea es dividir nuestro [conjunto de datos](https://es.wikipedia.org/wiki/Conjunto_de_datos), en uno o varios conjuntos de entrenamiento y otro/s conjuntos de evaluación. Es decir, que no le vamos a pasar todos nuestros datos al [algoritmo](https://es.wikipedia.org/wiki/Algoritmo) durante el entrenamiento, sino que vamos a *retener* una parte de los datos de entrenamiento para realizar una evaluación de la efectividad del modelo. Con esto lo que buscamos es evitar que los mismos datos que usamos para entrenar sean los mismos que utilizamos para evaluar. De esta forma vamos a poder analizar con más precisión como el modelo se va comportando a medida que más lo vamos entrenando y poder detectar el punto crítico en el que el modelo deja de generalizar y comienza a *sobreajustarse* a los datos de entrenamiento.\n",
    "\n",
    "La *[validación cruzada](https://es.wikipedia.org/wiki/Validaci%C3%B3n_cruzada)* es un procedimiento más sofisticado que el anterior. En lugar de solo obtener una simple estimación de la efectividad de la *generalización*; la idea es realizar un análisis estadístico para obtener otras medidas del rendimiento estimado, como la media y la varianza, y así poder entender cómo se espera que el rendimiento varíe a través de los distintos conjuntos de datos. Esta variación es fundamental para la evaluación de la confianza en la estimación del rendimiento.\n",
    "La *[validación cruzada](https://es.wikipedia.org/wiki/Validaci%C3%B3n_cruzada)* también hace un mejor uso de un conjunto de datos limitado; ya que a diferencia de la simple división de los datos en uno el entrenamiento y otro de evaluación; la *[validación cruzada](https://es.wikipedia.org/wiki/Validaci%C3%B3n_cruzada)* calcula sus estimaciones sobre todo el [conjunto de datos](https://es.wikipedia.org/wiki/Conjunto_de_datos) mediante la realización de múltiples divisiones e intercambios sistemáticos entre datos de entrenamiento y datos de evaluación.\n"
   ]
  },
  {
   "cell_type": "markdown",
   "metadata": {
    "collapsed": true
   },
   "source": [
    "## Pasos para construir un modelo de machine learning\n",
    "\n",
    "Construir un modelo de [Machine Learning](https://es.wikipedia.org/wiki/Aprendizaje_autom%C3%A1tico), no se reduce solo a utilizar un [algoritmo](https://es.wikipedia.org/wiki/Algoritmo) de aprendizaje o utilizar una librería de [Machine Learning](https://es.wikipedia.org/wiki/Aprendizaje_autom%C3%A1tico); sino que es todo un proceso que suele involucrar los siguientes pasos:\n",
    "\n",
    "1. **Recolectar los datos**. Podemos recolectar los datos desde muchas fuentes, podemos por ejemplo extraer los datos de un sitio web o obtener los datos utilizando una [API](https://es.wikipedia.org/wiki/Interfaz_de_programaci%C3%B3n_de_aplicaciones) o desde una base de datos. Podemos también utilizar otros dispositivos que recolectan los datos por nosotros; o utilizar datos que son de dominio público. El número de opciones que tenemos para recolectar datos no tiene fin!. Este paso parece obvio, pero es uno de los que más complicaciones trae y más tiempo consume. \n",
    "\n",
    "2. **Preprocesar los datos**. Una vez que tenemos los datos, tenemos que asegurarnos que tiene el formato correcto para nutrir nuestro [algoritmo](https://es.wikipedia.org/wiki/Algoritmo) de aprendizaje. Es prácticamente inevitable tener que realizar varias tareas de preprocesamiento antes de poder utilizar los datos. Igualmente este punto suele ser mucho más sencillo que el paso anterior.\n",
    "\n",
    "3. **Explorar los datos**. Una vez que ya tenemos los datos y están con el formato correcto, podemos realizar un pre análisis para corregir los casos de valores faltantes o intentar encontrar a simple vista algún patrón en los mismos que nos facilite la construcción del modelo. En esta etapa suelen ser de mucha utilidad las medidas estadísticas y los gráficos en 2 y 3 dimensiones para tener una idea visual de como se comportan nuestros datos. En este punto podemos detectar [valores atípicos](https://es.wikipedia.org/wiki/Valor_at%C3%ADpico) que debamos descartar; o encontrar las características que más influencia tienen para realizar una predicción.\n",
    "\n",
    "4. **Entrenar el [algoritmo](https://es.wikipedia.org/wiki/Algoritmo)**. Aquí es donde comenzamos a utilizar las técnicas de [Machine Learning](https://es.wikipedia.org/wiki/Aprendizaje_autom%C3%A1tico) realmente. En esta etapa nutrimos al o los [algoritmos](https://es.wikipedia.org/wiki/Algoritmo) de aprendizaje con los datos que venimos procesando en las etapas anteriores. La idea es que los [algoritmos](https://es.wikipedia.org/wiki/Algoritmo) puedan extraer información útil de los datos que le pasamos para luego poder hacer predicciones. \n",
    "\n",
    "5. **Evaluar el [algoritmo](https://es.wikipedia.org/wiki/Algoritmo)**. En esta etapa ponemos a prueba la información o conocimiento que el [algoritmo](https://es.wikipedia.org/wiki/Algoritmo) obtuvo del entrenamiento del paso anterior. Evaluamos que tan preciso es el algoritmo en sus predicciones y si no estamos muy conforme con su rendimiento, podemos volver a la etapa anterior y continuar entrenando el [algoritmo](https://es.wikipedia.org/wiki/Algoritmo) cambiando algunos parámetros hasta lograr un rendimiento aceptable.  \n",
    "\n",
    "6. **Utilizar el modelo**. En esta ultima etapa, ya ponemos a nuestro modelo a enfrentarse al problema real. Aquí también podemos medir su rendimiento, lo que tal vez nos obligue a revisar todos los pasos anteriores. "
   ]
  },
  {
   "cell_type": "markdown",
   "metadata": {},
   "source": [
    "## Librerías de Python para machine learning\n",
    "\n",
    "Como siempre me gusta comentar, una de las grandes ventajas que ofrece [Python](http://python.org/) sobre otros lenguajes de programación; es lo grande y prolifera que es la comunidad de desarrolladores que lo rodean; comunidad que ha contribuido con una gran variedad de librerías de primer nivel que extienden la funcionalidades del lenguaje. Para el caso de [Machine Learning](https://es.wikipedia.org/wiki/Aprendizaje_autom%C3%A1tico), las principales librerías que podemos utilizar son: \n",
    "\n",
    "### Scikit-Learn\n",
    "\n",
    "[Scikit-learn](http://scikit-learn.org/stable/) es la principal librería que existe para trabajar con [Machine Learning](https://es.wikipedia.org/wiki/Aprendizaje_autom%C3%A1tico), incluye la implementación de un gran número de [algoritmos](https://es.wikipedia.org/wiki/Algoritmo) de aprendizaje. La podemos utilizar para <a href='http://scikit-learn.org/stable/supervised_learning.html#supervised-learning' target='_blank'>clasificaciones</a>, <a href='http://scikit-learn.org/stable/modules/feature_extraction.html#feature-extractionfeature' target='_blank'>extraccion de características</a>, <a href='http://scikit-learn.org/stable/supervised_learning.html#supervised-learning' target='_blank'>regresiones</a>, <a href='http://scikit-learn.org/stable/modules/clustering.html#clustering' target='_blank'>agrupaciones</a>, <a href='http://scikit-learn.org/stable/modules/decomposition.html#decompositions' target='_blank'>reducción de dimensiones</a>, <a href='http://scikit-learn.org/stable/model_selection.html#model-selection' target='_blank'>selección de modelos</a>, o <a href='http://scikit-learn.org/stable/modules/preprocessing.html#preprocessing' target='_blank'>preprocesamiento</a>. Posee una [API](https://es.wikipedia.org/wiki/Interfaz_de_programaci%C3%B3n_de_aplicaciones) que es consistente en todos los modelos y se integra muy bien con el resto de los paquetes científicos que ofrece [Python](http://python.org/). Esta librería también nos facilita las tareas de evaluación, diagnostico y [validaciones cruzadas](https://es.wikipedia.org/wiki/Validaci%C3%B3n_cruzada) ya que nos proporciona varios métodos de fábrica para poder realizar estas tareas en forma muy simple. \n",
    "\n",
    "\n",
    "### Statsmodels\n",
    "\n",
    "[Statsmodels](http://statsmodels.sourceforge.net/) es otra gran librería que hace foco en modelos estadísticos y se utiliza principalmente para análisis predictivos y exploratorios. Al igual que [Scikit-learn](http://scikit-learn.org/stable/), también se integra muy bien con el resto de los paquetes cientificos de [Python](http://python.org/). Si deseamos ajustar modelos lineales, hacer una análisis estadístico, o tal vez un poco de modelado predictivo, entonces [Statsmodels](http://statsmodels.sourceforge.net/) es la librería ideal. Las pruebas estadísticas que ofrece son bastante amplias y abarcan tareas de validación para la mayoría de los casos. \n",
    "\n",
    "### PyMC\n",
    "\n",
    "[pyMC](http://pymc-devs.github.io/pymc/index.html) es un módulo de [Python](http://python.org/) que implementa modelos estadísticos bayesianos, incluyendo la [cadena de Markov Monte Carlo(MCMC)](https://en.wikipedia.org/wiki/Markov_chain_Monte_Carlo). [pyMC](http://pymc-devs.github.io/pymc/index.html)  ofrece funcionalidades para hacer el análisis bayesiano lo mas simple posible. Incluye los modelos [bayesianos](https://es.wikipedia.org/wiki/Inferencia_bayesiana),  distribuciones estadísticas y herramientas de diagnostico  para la covarianza de los modelos. Si queremos realizar un análisis [bayesiano](https://es.wikipedia.org/wiki/Inferencia_bayesiana) esta es sin duda la librería a utilizar.\n",
    "\n",
    "### NTLK\n",
    "\n",
    "[NLTK](http://www.nltk.org/) es la librería líder para el procesamiento del lenguaje natural o [NLP](https://es.wikipedia.org/wiki/Procesamiento_de_lenguajes_naturales) por sus siglas en inglés. Proporciona interfaces fáciles de usar a más de 50 cuerpos y recursos léxicos, como [WordNet](https://wordnet.princeton.edu/), junto con un conjunto de bibliotecas de procesamiento de texto para la clasificación, tokenización, el etiquetado, el análisis y el razonamiento semántico. \n",
    "\n",
    "Obviamente, aquí solo estoy listando unas pocas de las muchas librerías que existen en [Python](http://python.org/) para trabajar con problemas de [Machine Learning](https://es.wikipedia.org/wiki/Aprendizaje_autom%C3%A1tico), los invito a realizar su propia investigación sobre el tema."
   ]
  },
  {
   "cell_type": "markdown",
   "metadata": {
    "collapsed": true
   },
   "source": [
    "## Algoritmos más utilizados\n",
    "\n",
    "Los [algoritmos](https://es.wikipedia.org/wiki/Algoritmo)  que más se suelen utilizar en los problemas de [Machine Learning](https://es.wikipedia.org/wiki/Aprendizaje_autom%C3%A1tico) son los siguientes:\n",
    "\n",
    "1. [Regresión Lineal](https://es.wikipedia.org/wiki/Regresi%C3%B3n_lineal)\n",
    "2. [Regresión Logística](https://es.wikipedia.org/wiki/Regresi%C3%B3n_log%C3%ADstica)\n",
    "3. [Arboles de Decision](https://es.wikipedia.org/wiki/%C3%81rbol_de_decisi%C3%B3n)\n",
    "4. [Random Forest](https://es.wikipedia.org/wiki/Random_forest)\n",
    "5. [SVM](https://es.wikipedia.org/wiki/M%C3%A1quinas_de_vectores_de_soporte) o Máquinas de vectores de soporte.\n",
    "6. [KNN](https://es.wikipedia.org/wiki/K-vecinos_m%C3%A1s_cercanos) o K vecinos más cercanos.\n",
    "7. [K-means](https://es.wikipedia.org/wiki/K-means)\n",
    "\n",
    "Todos ellos se pueden aplicar a casi cualquier problema de datos y obviamente estan todos implementados por la excelente librería de [Python](http://python.org/), [Scikit-learn](http://scikit-learn.org/stable/). Veamos algunos ejemplos de ellos."
   ]
  }
 ],
 "metadata": {
  "kernelspec": {
   "display_name": "Python 3 (ipykernel)",
   "language": "python",
   "name": "python3"
  },
  "language_info": {
   "codemirror_mode": {
    "name": "ipython",
    "version": 3
   },
   "file_extension": ".py",
   "mimetype": "text/x-python",
   "name": "python",
   "nbconvert_exporter": "python",
   "pygments_lexer": "ipython3",
   "version": "3.8.8"
  }
 },
 "nbformat": 4,
 "nbformat_minor": 1
}
