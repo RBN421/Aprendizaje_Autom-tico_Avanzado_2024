{
 "cells": [
  {
   "cell_type": "markdown",
   "id": "e57d8ad2",
   "metadata": {},
   "source": [
    "<img style=\"float: left;;\" src='Figures/alinco.png' /></a>\n",
    "# <center> <font color= #000047> Actividad Escalamiento y transformación</font> </center>"
   ]
  },
  {
   "cell_type": "markdown",
   "id": "d4d3b2c1",
   "metadata": {},
   "source": [
    "## 1. Enunciado Ejercicio 1\n",
    "\n",
    "En el archivo `Escalamiento.xlsx` se encuentran dos variables, las cuales se pretenden analizar para una posterior predicción.\n",
    "\n",
    "Se entrenará una red neuronal con la variable $x_1$ usando una **función de activación sigmoidal unipolar o función signmoide, para la cual los valores de salida están siempre en el rango (0, 1)**, y la variable $x_2$ se usará para entrenar una red neuronal con una **función de activación de tangente hiperbólica, comúnmente conocida como \"tanh\", cuyos valores de salida están siempre en el rango (-1, 1)**.\n",
    "\n",
    "Use el escalamiento adecuado para cada variable con la finalidad de que la red neuronal opere en el rango de cada función de activación.\n",
    "\n"
   ]
  },
  {
   "cell_type": "markdown",
   "id": "79346a34",
   "metadata": {},
   "source": [
    "## 2.  Solución Ejercicio 1"
   ]
  },
  {
   "cell_type": "markdown",
   "id": "fce19aa1",
   "metadata": {},
   "source": [
    "### 2.1. Importación de Librerías\n",
    "\n",
    "* **pandas:** Manipulación y análisis de datos (datos estructurados y series temporales) en Python.\n",
    "* **MinMaxScaler:** Escala características a un rango específico, normalmente (0,1), ideal para normalizar valores.\n",
    "* **StandardScaler:** Estandariza características a una media de cero y varianza de uno, esencial para muchos modelos de aprendizaje automático.\n"
   ]
  },
  {
   "cell_type": "code",
   "execution_count": 1,
   "id": "113fd07c",
   "metadata": {},
   "outputs": [],
   "source": [
    "import pandas as pd\n",
    "from sklearn.preprocessing import MinMaxScaler, StandardScaler"
   ]
  },
  {
   "cell_type": "markdown",
   "id": "dea79001",
   "metadata": {},
   "source": [
    "### 2.2. Lectura de archivo"
   ]
  },
  {
   "cell_type": "code",
   "execution_count": 3,
   "id": "ca0195f4",
   "metadata": {},
   "outputs": [
    {
     "data": {
      "text/html": [
       "<div>\n",
       "<style scoped>\n",
       "    .dataframe tbody tr th:only-of-type {\n",
       "        vertical-align: middle;\n",
       "    }\n",
       "\n",
       "    .dataframe tbody tr th {\n",
       "        vertical-align: top;\n",
       "    }\n",
       "\n",
       "    .dataframe thead th {\n",
       "        text-align: right;\n",
       "    }\n",
       "</style>\n",
       "<table border=\"1\" class=\"dataframe\">\n",
       "  <thead>\n",
       "    <tr style=\"text-align: right;\">\n",
       "      <th></th>\n",
       "      <th>x1</th>\n",
       "      <th>x2</th>\n",
       "    </tr>\n",
       "  </thead>\n",
       "  <tbody>\n",
       "    <tr>\n",
       "      <th>0</th>\n",
       "      <td>6050000.0</td>\n",
       "      <td>5390000.0</td>\n",
       "    </tr>\n",
       "    <tr>\n",
       "      <th>1</th>\n",
       "      <td>4720000.0</td>\n",
       "      <td>700000.0</td>\n",
       "    </tr>\n",
       "    <tr>\n",
       "      <th>2</th>\n",
       "      <td>4460000.0</td>\n",
       "      <td>10140000.0</td>\n",
       "    </tr>\n",
       "    <tr>\n",
       "      <th>3</th>\n",
       "      <td>34740000.0</td>\n",
       "      <td>6600000.0</td>\n",
       "    </tr>\n",
       "    <tr>\n",
       "      <th>4</th>\n",
       "      <td>1910000.0</td>\n",
       "      <td>3390000.0</td>\n",
       "    </tr>\n",
       "  </tbody>\n",
       "</table>\n",
       "</div>"
      ],
      "text/plain": [
       "           x1          x2\n",
       "0   6050000.0   5390000.0\n",
       "1   4720000.0    700000.0\n",
       "2   4460000.0  10140000.0\n",
       "3  34740000.0   6600000.0\n",
       "4   1910000.0   3390000.0"
      ]
     },
     "execution_count": 3,
     "metadata": {},
     "output_type": "execute_result"
    }
   ],
   "source": [
    "df = pd.read_excel('Data/Escalamiento.xlsx')\n",
    "df.head()"
   ]
  },
  {
   "cell_type": "code",
   "execution_count": 4,
   "id": "47c2e8e0",
   "metadata": {},
   "outputs": [
    {
     "name": "stdout",
     "output_type": "stream",
     "text": [
      "<class 'pandas.core.frame.DataFrame'>\n",
      "RangeIndex: 3287 entries, 0 to 3286\n",
      "Data columns (total 2 columns):\n",
      " #   Column  Non-Null Count  Dtype  \n",
      "---  ------  --------------  -----  \n",
      " 0   x1      3287 non-null   float64\n",
      " 1   x2      3287 non-null   float64\n",
      "dtypes: float64(2)\n",
      "memory usage: 51.5 KB\n"
     ]
    }
   ],
   "source": [
    "df.info()"
   ]
  },
  {
   "cell_type": "code",
   "execution_count": 5,
   "id": "642ea79f",
   "metadata": {},
   "outputs": [
    {
     "data": {
      "text/html": [
       "<div>\n",
       "<style scoped>\n",
       "    .dataframe tbody tr th:only-of-type {\n",
       "        vertical-align: middle;\n",
       "    }\n",
       "\n",
       "    .dataframe tbody tr th {\n",
       "        vertical-align: top;\n",
       "    }\n",
       "\n",
       "    .dataframe thead th {\n",
       "        text-align: right;\n",
       "    }\n",
       "</style>\n",
       "<table border=\"1\" class=\"dataframe\">\n",
       "  <thead>\n",
       "    <tr style=\"text-align: right;\">\n",
       "      <th></th>\n",
       "      <th>x1</th>\n",
       "      <th>x2</th>\n",
       "    </tr>\n",
       "  </thead>\n",
       "  <tbody>\n",
       "    <tr>\n",
       "      <th>count</th>\n",
       "      <td>3.287000e+03</td>\n",
       "      <td>3.287000e+03</td>\n",
       "    </tr>\n",
       "    <tr>\n",
       "      <th>mean</th>\n",
       "      <td>3.215457e+07</td>\n",
       "      <td>1.457638e+07</td>\n",
       "    </tr>\n",
       "    <tr>\n",
       "      <th>std</th>\n",
       "      <td>3.948668e+07</td>\n",
       "      <td>2.910075e+07</td>\n",
       "    </tr>\n",
       "    <tr>\n",
       "      <th>min</th>\n",
       "      <td>3.000000e+04</td>\n",
       "      <td>1.040135e+04</td>\n",
       "    </tr>\n",
       "    <tr>\n",
       "      <th>25%</th>\n",
       "      <td>6.170000e+06</td>\n",
       "      <td>3.915000e+06</td>\n",
       "    </tr>\n",
       "    <tr>\n",
       "      <th>50%</th>\n",
       "      <td>1.612000e+07</td>\n",
       "      <td>7.950000e+06</td>\n",
       "    </tr>\n",
       "    <tr>\n",
       "      <th>75%</th>\n",
       "      <td>4.411500e+07</td>\n",
       "      <td>1.552500e+07</td>\n",
       "    </tr>\n",
       "    <tr>\n",
       "      <th>max</th>\n",
       "      <td>2.999200e+08</td>\n",
       "      <td>5.490700e+08</td>\n",
       "    </tr>\n",
       "  </tbody>\n",
       "</table>\n",
       "</div>"
      ],
      "text/plain": [
       "                 x1            x2\n",
       "count  3.287000e+03  3.287000e+03\n",
       "mean   3.215457e+07  1.457638e+07\n",
       "std    3.948668e+07  2.910075e+07\n",
       "min    3.000000e+04  1.040135e+04\n",
       "25%    6.170000e+06  3.915000e+06\n",
       "50%    1.612000e+07  7.950000e+06\n",
       "75%    4.411500e+07  1.552500e+07\n",
       "max    2.999200e+08  5.490700e+08"
      ]
     },
     "execution_count": 5,
     "metadata": {},
     "output_type": "execute_result"
    }
   ],
   "source": [
    "df.describe()"
   ]
  },
  {
   "cell_type": "code",
   "execution_count": 6,
   "id": "e8be95ff",
   "metadata": {},
   "outputs": [
    {
     "data": {
      "text/plain": [
       "array([[<AxesSubplot:title={'center':'x1'}>,\n",
       "        <AxesSubplot:title={'center':'x2'}>]], dtype=object)"
      ]
     },
     "execution_count": 6,
     "metadata": {},
     "output_type": "execute_result"
    },
    {
     "data": {
      "image/png": "[encoded data removed]",
      "text/plain": [
       "<Figure size 432x288 with 2 Axes>"
      ]
     },
     "metadata": {
      "needs_background": "light"
     },
     "output_type": "display_data"
    }
   ],
   "source": [
    "df.hist()"
   ]
  },
  {
   "cell_type": "markdown",
   "id": "5314d7df",
   "metadata": {},
   "source": [
    "### 2.3. Escalamiento de los datos"
   ]
  },
  {
   "cell_type": "code",
   "execution_count": 9,
   "id": "a3a44460",
   "metadata": {},
   "outputs": [],
   "source": [
    "# Escalamiento de x1 con función de activación Sigmoidal: de 0 a 1\n",
    "scaler_sigmoid = MinMaxScaler((0,1))\n",
    "x1_scaled = scaler_sigmoid.fit_transform(df[['x1']])\n",
    "df['x1_transformed'] = x1_scaled\n",
    "# Escalamiento de x2 con función de Tangente hiperbólica: de -1 a 1\n",
    "scaler_tanh = StandardScaler()\n",
    "x2_scaled = scaler_tanh.fit_transform(df[['x2']])\n",
    "df['x2_transformed'] = x2_scaled"
   ]
  },
  {
   "cell_type": "code",
   "execution_count": 10,
   "id": "b474937a",
   "metadata": {},
   "outputs": [
    {
     "data": {
      "text/html": [
       "<div>\n",
       "<style scoped>\n",
       "    .dataframe tbody tr th:only-of-type {\n",
       "        vertical-align: middle;\n",
       "    }\n",
       "\n",
       "    .dataframe tbody tr th {\n",
       "        vertical-align: top;\n",
       "    }\n",
       "\n",
       "    .dataframe thead th {\n",
       "        text-align: right;\n",
       "    }\n",
       "</style>\n",
       "<table border=\"1\" class=\"dataframe\">\n",
       "  <thead>\n",
       "    <tr style=\"text-align: right;\">\n",
       "      <th></th>\n",
       "      <th>x1</th>\n",
       "      <th>x2</th>\n",
       "      <th>x1_transformed</th>\n",
       "      <th>x2_transformed</th>\n",
       "    </tr>\n",
       "  </thead>\n",
       "  <tbody>\n",
       "    <tr>\n",
       "      <th>0</th>\n",
       "      <td>6050000.0</td>\n",
       "      <td>5390000.0</td>\n",
       "      <td>0.020074</td>\n",
       "      <td>-0.315723</td>\n",
       "    </tr>\n",
       "    <tr>\n",
       "      <th>1</th>\n",
       "      <td>4720000.0</td>\n",
       "      <td>700000.0</td>\n",
       "      <td>0.015639</td>\n",
       "      <td>-0.476912</td>\n",
       "    </tr>\n",
       "    <tr>\n",
       "      <th>2</th>\n",
       "      <td>4460000.0</td>\n",
       "      <td>10140000.0</td>\n",
       "      <td>0.014772</td>\n",
       "      <td>-0.152472</td>\n",
       "    </tr>\n",
       "    <tr>\n",
       "      <th>3</th>\n",
       "      <td>34740000.0</td>\n",
       "      <td>6600000.0</td>\n",
       "      <td>0.115742</td>\n",
       "      <td>-0.274137</td>\n",
       "    </tr>\n",
       "    <tr>\n",
       "      <th>4</th>\n",
       "      <td>1910000.0</td>\n",
       "      <td>3390000.0</td>\n",
       "      <td>0.006269</td>\n",
       "      <td>-0.384460</td>\n",
       "    </tr>\n",
       "  </tbody>\n",
       "</table>\n",
       "</div>"
      ],
      "text/plain": [
       "           x1          x2  x1_transformed  x2_transformed\n",
       "0   6050000.0   5390000.0        0.020074       -0.315723\n",
       "1   4720000.0    700000.0        0.015639       -0.476912\n",
       "2   4460000.0  10140000.0        0.014772       -0.152472\n",
       "3  34740000.0   6600000.0        0.115742       -0.274137\n",
       "4   1910000.0   3390000.0        0.006269       -0.384460"
      ]
     },
     "execution_count": 10,
     "metadata": {},
     "output_type": "execute_result"
    }
   ],
   "source": [
    "df.head()"
   ]
  },
  {
   "cell_type": "code",
   "execution_count": 11,
   "id": "085d4ce8",
   "metadata": {},
   "outputs": [
    {
     "data": {
      "text/html": [
       "<div>\n",
       "<style scoped>\n",
       "    .dataframe tbody tr th:only-of-type {\n",
       "        vertical-align: middle;\n",
       "    }\n",
       "\n",
       "    .dataframe tbody tr th {\n",
       "        vertical-align: top;\n",
       "    }\n",
       "\n",
       "    .dataframe thead th {\n",
       "        text-align: right;\n",
       "    }\n",
       "</style>\n",
       "<table border=\"1\" class=\"dataframe\">\n",
       "  <thead>\n",
       "    <tr style=\"text-align: right;\">\n",
       "      <th></th>\n",
       "      <th>x1</th>\n",
       "      <th>x2</th>\n",
       "      <th>x1_transformed</th>\n",
       "      <th>x2_transformed</th>\n",
       "    </tr>\n",
       "  </thead>\n",
       "  <tbody>\n",
       "    <tr>\n",
       "      <th>count</th>\n",
       "      <td>3.287000e+03</td>\n",
       "      <td>3.287000e+03</td>\n",
       "      <td>3287.000000</td>\n",
       "      <td>3.287000e+03</td>\n",
       "    </tr>\n",
       "    <tr>\n",
       "      <th>mean</th>\n",
       "      <td>3.215457e+07</td>\n",
       "      <td>1.457638e+07</td>\n",
       "      <td>0.107121</td>\n",
       "      <td>1.824547e-17</td>\n",
       "    </tr>\n",
       "    <tr>\n",
       "      <th>std</th>\n",
       "      <td>3.948668e+07</td>\n",
       "      <td>2.910075e+07</td>\n",
       "      <td>0.131671</td>\n",
       "      <td>1.000152e+00</td>\n",
       "    </tr>\n",
       "    <tr>\n",
       "      <th>min</th>\n",
       "      <td>3.000000e+04</td>\n",
       "      <td>1.040135e+04</td>\n",
       "      <td>0.000000</td>\n",
       "      <td>-5.006123e-01</td>\n",
       "    </tr>\n",
       "    <tr>\n",
       "      <th>25%</th>\n",
       "      <td>6.170000e+06</td>\n",
       "      <td>3.915000e+06</td>\n",
       "      <td>0.020474</td>\n",
       "      <td>-3.664167e-01</td>\n",
       "    </tr>\n",
       "    <tr>\n",
       "      <th>50%</th>\n",
       "      <td>1.612000e+07</td>\n",
       "      <td>7.950000e+06</td>\n",
       "      <td>0.053653</td>\n",
       "      <td>-2.277394e-01</td>\n",
       "    </tr>\n",
       "    <tr>\n",
       "      <th>75%</th>\n",
       "      <td>4.411500e+07</td>\n",
       "      <td>1.552500e+07</td>\n",
       "      <td>0.147004</td>\n",
       "      <td>3.260285e-02</td>\n",
       "    </tr>\n",
       "    <tr>\n",
       "      <th>max</th>\n",
       "      <td>2.999200e+08</td>\n",
       "      <td>5.490700e+08</td>\n",
       "      <td>1.000000</td>\n",
       "      <td>1.836980e+01</td>\n",
       "    </tr>\n",
       "  </tbody>\n",
       "</table>\n",
       "</div>"
      ],
      "text/plain": [
       "                 x1            x2  x1_transformed  x2_transformed\n",
       "count  3.287000e+03  3.287000e+03     3287.000000    3.287000e+03\n",
       "mean   3.215457e+07  1.457638e+07        0.107121    1.824547e-17\n",
       "std    3.948668e+07  2.910075e+07        0.131671    1.000152e+00\n",
       "min    3.000000e+04  1.040135e+04        0.000000   -5.006123e-01\n",
       "25%    6.170000e+06  3.915000e+06        0.020474   -3.664167e-01\n",
       "50%    1.612000e+07  7.950000e+06        0.053653   -2.277394e-01\n",
       "75%    4.411500e+07  1.552500e+07        0.147004    3.260285e-02\n",
       "max    2.999200e+08  5.490700e+08        1.000000    1.836980e+01"
      ]
     },
     "execution_count": 11,
     "metadata": {},
     "output_type": "execute_result"
    }
   ],
   "source": [
    "df.describe()"
   ]
  },
  {
   "cell_type": "code",
   "execution_count": 16,
   "id": "3a2a8f8e",
   "metadata": {},
   "outputs": [
    {
     "data": {
      "text/plain": [
       "0      -0.016731\n",
       "1      -0.025273\n",
       "2      -0.008080\n",
       "3      -0.014527\n",
       "4      -0.020374\n",
       "          ...   \n",
       "3282   -0.012324\n",
       "3283    0.000389\n",
       "3284   -0.011249\n",
       "3285   -0.022887\n",
       "3286    0.001209\n",
       "Name: x2, Length: 3287, dtype: float64"
      ]
     },
     "execution_count": 16,
     "metadata": {},
     "output_type": "execute_result"
    }
   ],
   "source": [
    "#En base a la media para x2\n",
    "rng = df['x2'].max() - df['x2'].min()\n",
    "df_med = (df['x2']-df['x2'].mean())/ rng\n",
    "df_med"
   ]
  },
  {
   "cell_type": "code",
   "execution_count": 17,
   "id": "182848d1",
   "metadata": {},
   "outputs": [
    {
     "data": {
      "text/html": [
       "<div>\n",
       "<style scoped>\n",
       "    .dataframe tbody tr th:only-of-type {\n",
       "        vertical-align: middle;\n",
       "    }\n",
       "\n",
       "    .dataframe tbody tr th {\n",
       "        vertical-align: top;\n",
       "    }\n",
       "\n",
       "    .dataframe thead th {\n",
       "        text-align: right;\n",
       "    }\n",
       "</style>\n",
       "<table border=\"1\" class=\"dataframe\">\n",
       "  <thead>\n",
       "    <tr style=\"text-align: right;\">\n",
       "      <th></th>\n",
       "      <th>x1</th>\n",
       "      <th>x2</th>\n",
       "      <th>x1_transformed</th>\n",
       "      <th>x2_transformed</th>\n",
       "      <th>x2_transformed_med</th>\n",
       "    </tr>\n",
       "  </thead>\n",
       "  <tbody>\n",
       "    <tr>\n",
       "      <th>0</th>\n",
       "      <td>6050000.0</td>\n",
       "      <td>5390000.0</td>\n",
       "      <td>0.020074</td>\n",
       "      <td>-0.315723</td>\n",
       "      <td>-0.016731</td>\n",
       "    </tr>\n",
       "    <tr>\n",
       "      <th>1</th>\n",
       "      <td>4720000.0</td>\n",
       "      <td>700000.0</td>\n",
       "      <td>0.015639</td>\n",
       "      <td>-0.476912</td>\n",
       "      <td>-0.025273</td>\n",
       "    </tr>\n",
       "    <tr>\n",
       "      <th>2</th>\n",
       "      <td>4460000.0</td>\n",
       "      <td>10140000.0</td>\n",
       "      <td>0.014772</td>\n",
       "      <td>-0.152472</td>\n",
       "      <td>-0.008080</td>\n",
       "    </tr>\n",
       "    <tr>\n",
       "      <th>3</th>\n",
       "      <td>34740000.0</td>\n",
       "      <td>6600000.0</td>\n",
       "      <td>0.115742</td>\n",
       "      <td>-0.274137</td>\n",
       "      <td>-0.014527</td>\n",
       "    </tr>\n",
       "    <tr>\n",
       "      <th>4</th>\n",
       "      <td>1910000.0</td>\n",
       "      <td>3390000.0</td>\n",
       "      <td>0.006269</td>\n",
       "      <td>-0.384460</td>\n",
       "      <td>-0.020374</td>\n",
       "    </tr>\n",
       "    <tr>\n",
       "      <th>...</th>\n",
       "      <td>...</td>\n",
       "      <td>...</td>\n",
       "      <td>...</td>\n",
       "      <td>...</td>\n",
       "      <td>...</td>\n",
       "    </tr>\n",
       "    <tr>\n",
       "      <th>3282</th>\n",
       "      <td>13150000.0</td>\n",
       "      <td>7810000.0</td>\n",
       "      <td>0.043749</td>\n",
       "      <td>-0.232551</td>\n",
       "      <td>-0.012324</td>\n",
       "    </tr>\n",
       "    <tr>\n",
       "      <th>3283</th>\n",
       "      <td>8500000.0</td>\n",
       "      <td>14790000.0</td>\n",
       "      <td>0.028244</td>\n",
       "      <td>0.007342</td>\n",
       "      <td>0.000389</td>\n",
       "    </tr>\n",
       "    <tr>\n",
       "      <th>3284</th>\n",
       "      <td>11030000.0</td>\n",
       "      <td>8400000.0</td>\n",
       "      <td>0.036680</td>\n",
       "      <td>-0.212273</td>\n",
       "      <td>-0.011249</td>\n",
       "    </tr>\n",
       "    <tr>\n",
       "      <th>3285</th>\n",
       "      <td>21330000.0</td>\n",
       "      <td>2010000.0</td>\n",
       "      <td>0.071026</td>\n",
       "      <td>-0.431889</td>\n",
       "      <td>-0.022887</td>\n",
       "    </tr>\n",
       "    <tr>\n",
       "      <th>3286</th>\n",
       "      <td>4130000.0</td>\n",
       "      <td>15240000.0</td>\n",
       "      <td>0.013672</td>\n",
       "      <td>0.022808</td>\n",
       "      <td>0.001209</td>\n",
       "    </tr>\n",
       "  </tbody>\n",
       "</table>\n",
       "<p>3287 rows × 5 columns</p>\n",
       "</div>"
      ],
      "text/plain": [
       "              x1          x2  x1_transformed  x2_transformed  \\\n",
       "0      6050000.0   5390000.0        0.020074       -0.315723   \n",
       "1      4720000.0    700000.0        0.015639       -0.476912   \n",
       "2      4460000.0  10140000.0        0.014772       -0.152472   \n",
       "3     34740000.0   6600000.0        0.115742       -0.274137   \n",
       "4      1910000.0   3390000.0        0.006269       -0.384460   \n",
       "...          ...         ...             ...             ...   \n",
       "3282  13150000.0   7810000.0        0.043749       -0.232551   \n",
       "3283   8500000.0  14790000.0        0.028244        0.007342   \n",
       "3284  11030000.0   8400000.0        0.036680       -0.212273   \n",
       "3285  21330000.0   2010000.0        0.071026       -0.431889   \n",
       "3286   4130000.0  15240000.0        0.013672        0.022808   \n",
       "\n",
       "      x2_transformed_med  \n",
       "0              -0.016731  \n",
       "1              -0.025273  \n",
       "2              -0.008080  \n",
       "3              -0.014527  \n",
       "4              -0.020374  \n",
       "...                  ...  \n",
       "3282           -0.012324  \n",
       "3283            0.000389  \n",
       "3284           -0.011249  \n",
       "3285           -0.022887  \n",
       "3286            0.001209  \n",
       "\n",
       "[3287 rows x 5 columns]"
      ]
     },
     "execution_count": 17,
     "metadata": {},
     "output_type": "execute_result"
    }
   ],
   "source": [
    "df['x2_transformed_med'] = df_med\n",
    "df"
   ]
  },
  {
   "cell_type": "code",
   "execution_count": 18,
   "id": "b8e17c65",
   "metadata": {},
   "outputs": [
    {
     "data": {
      "text/html": [
       "<div>\n",
       "<style scoped>\n",
       "    .dataframe tbody tr th:only-of-type {\n",
       "        vertical-align: middle;\n",
       "    }\n",
       "\n",
       "    .dataframe tbody tr th {\n",
       "        vertical-align: top;\n",
       "    }\n",
       "\n",
       "    .dataframe thead th {\n",
       "        text-align: right;\n",
       "    }\n",
       "</style>\n",
       "<table border=\"1\" class=\"dataframe\">\n",
       "  <thead>\n",
       "    <tr style=\"text-align: right;\">\n",
       "      <th></th>\n",
       "      <th>x1</th>\n",
       "      <th>x2</th>\n",
       "      <th>x1_transformed</th>\n",
       "      <th>x2_transformed</th>\n",
       "      <th>x2_transformed_med</th>\n",
       "    </tr>\n",
       "  </thead>\n",
       "  <tbody>\n",
       "    <tr>\n",
       "      <th>count</th>\n",
       "      <td>3.287000e+03</td>\n",
       "      <td>3.287000e+03</td>\n",
       "      <td>3287.000000</td>\n",
       "      <td>3.287000e+03</td>\n",
       "      <td>3.287000e+03</td>\n",
       "    </tr>\n",
       "    <tr>\n",
       "      <th>mean</th>\n",
       "      <td>3.215457e+07</td>\n",
       "      <td>1.457638e+07</td>\n",
       "      <td>0.107121</td>\n",
       "      <td>1.824547e-17</td>\n",
       "      <td>3.623089e-18</td>\n",
       "    </tr>\n",
       "    <tr>\n",
       "      <th>std</th>\n",
       "      <td>3.948668e+07</td>\n",
       "      <td>2.910075e+07</td>\n",
       "      <td>0.131671</td>\n",
       "      <td>1.000152e+00</td>\n",
       "      <td>5.300107e-02</td>\n",
       "    </tr>\n",
       "    <tr>\n",
       "      <th>min</th>\n",
       "      <td>3.000000e+04</td>\n",
       "      <td>1.040135e+04</td>\n",
       "      <td>0.000000</td>\n",
       "      <td>-5.006123e-01</td>\n",
       "      <td>-2.652895e-02</td>\n",
       "    </tr>\n",
       "    <tr>\n",
       "      <th>25%</th>\n",
       "      <td>6.170000e+06</td>\n",
       "      <td>3.915000e+06</td>\n",
       "      <td>0.020474</td>\n",
       "      <td>-3.664167e-01</td>\n",
       "      <td>-1.941752e-02</td>\n",
       "    </tr>\n",
       "    <tr>\n",
       "      <th>50%</th>\n",
       "      <td>1.612000e+07</td>\n",
       "      <td>7.950000e+06</td>\n",
       "      <td>0.053653</td>\n",
       "      <td>-2.277394e-01</td>\n",
       "      <td>-1.206859e-02</td>\n",
       "    </tr>\n",
       "    <tr>\n",
       "      <th>75%</th>\n",
       "      <td>4.411500e+07</td>\n",
       "      <td>1.552500e+07</td>\n",
       "      <td>0.147004</td>\n",
       "      <td>3.260285e-02</td>\n",
       "      <td>1.727723e-03</td>\n",
       "    </tr>\n",
       "    <tr>\n",
       "      <th>max</th>\n",
       "      <td>2.999200e+08</td>\n",
       "      <td>5.490700e+08</td>\n",
       "      <td>1.000000</td>\n",
       "      <td>1.836980e+01</td>\n",
       "      <td>9.734710e-01</td>\n",
       "    </tr>\n",
       "  </tbody>\n",
       "</table>\n",
       "</div>"
      ],
      "text/plain": [
       "                 x1            x2  x1_transformed  x2_transformed  \\\n",
       "count  3.287000e+03  3.287000e+03     3287.000000    3.287000e+03   \n",
       "mean   3.215457e+07  1.457638e+07        0.107121    1.824547e-17   \n",
       "std    3.948668e+07  2.910075e+07        0.131671    1.000152e+00   \n",
       "min    3.000000e+04  1.040135e+04        0.000000   -5.006123e-01   \n",
       "25%    6.170000e+06  3.915000e+06        0.020474   -3.664167e-01   \n",
       "50%    1.612000e+07  7.950000e+06        0.053653   -2.277394e-01   \n",
       "75%    4.411500e+07  1.552500e+07        0.147004    3.260285e-02   \n",
       "max    2.999200e+08  5.490700e+08        1.000000    1.836980e+01   \n",
       "\n",
       "       x2_transformed_med  \n",
       "count        3.287000e+03  \n",
       "mean         3.623089e-18  \n",
       "std          5.300107e-02  \n",
       "min         -2.652895e-02  \n",
       "25%         -1.941752e-02  \n",
       "50%         -1.206859e-02  \n",
       "75%          1.727723e-03  \n",
       "max          9.734710e-01  "
      ]
     },
     "execution_count": 18,
     "metadata": {},
     "output_type": "execute_result"
    }
   ],
   "source": [
    "df.describe()"
   ]
  },
  {
   "cell_type": "markdown",
   "id": "373214b2",
   "metadata": {},
   "source": [
    "### 2.4. Transformaciones de potencia\n",
    "\n",
    "Yeo-Johnson puede manejar valores positivos y negativos, por lo tanto se puede utilizar para transformaciones de potencia de x1 y x2."
   ]
  },
  {
   "cell_type": "code",
   "execution_count": null,
   "id": "62ba296c",
   "metadata": {},
   "outputs": [],
   "source": [
    "# Preparación de los transformadores de potencia con Yeo-Johnson porque puede manejar valores positivos y negativos\n",
    "\n",
    "# Aplica las transformaciones de potencia\n"
   ]
  },
  {
   "cell_type": "markdown",
   "id": "41aa192d",
   "metadata": {},
   "source": [
    "### 2.5. Combinación de datos en un dataframe para facilidad de visualización"
   ]
  },
  {
   "cell_type": "code",
   "execution_count": null,
   "id": "11ece34c",
   "metadata": {},
   "outputs": [],
   "source": [
    "# Combinar los datos transformados de nuevo en un dataframe para graficarlos\n",
    "\n",
    "# Mostrar las primeras filas de datos transformados\n"
   ]
  },
  {
   "cell_type": "code",
   "execution_count": null,
   "id": "aec88eec",
   "metadata": {},
   "outputs": [],
   "source": []
  },
  {
   "cell_type": "markdown",
   "id": "5b232e01",
   "metadata": {},
   "source": [
    "## 3. Enunciado Ejercicio 2"
   ]
  },
  {
   "cell_type": "markdown",
   "id": "bdb6c75c",
   "metadata": {},
   "source": [
    "En el archivo `compra_alquila.xlsx` se encuentran los datos de personas con sus ingresos, gastos comunes, estado civil, trabajo, etc.. que brindan información sobre si esa persona compró una casa o alquiló una casa. \n",
    "\n",
    "Con esta información, se requiere entrenar un algoritmo de machine learning que prediga si alguna persona comprará o alquilará una casa, es decir queremos que el algoritmo aprenda y que como resultado nos dé una **decisión sobre comprar (1) o alquilar (0) casa**.\n",
    "\n",
    "Obtenga un modelo de datos aplicando codificación de variables, escalamiento y transformaciones (**obtenga histogramas y comente el método que se utilizó para la transformación de cada variable**). Seleccione las columnas de entrada $X$ y salida $Y$ para entrenar un regresor logístico con un **accuracy arriba del 80%**. Use como **salida la variable `comprar`.**"
   ]
  },
  {
   "cell_type": "markdown",
   "id": "68d3c0d5",
   "metadata": {},
   "source": [
    "## 4. Ejercicio 2"
   ]
  },
  {
   "cell_type": "markdown",
   "id": "36ca8ccf",
   "metadata": {},
   "source": [
    "### 4.1. Importación de Librerías\n",
    "\n",
    "* **pandas:** Manipulación y análisis de datos (datos estructurados y series temporales) en Python.\n",
    "* **StandardScaler:** Estandariza características a una media de cero y varianza de uno, esencial para muchos modelos de aprendizaje automático.\n",
    "* **train_test_split**: Divide los datos en conjuntos de entrenamiento y prueba.\n",
    "* **LogisticRegression**: Implementa el algoritmo de Regresión Logística para clasificación.\n",
    "* **accuracy_score**: Mide la precisión de un modelo de clasificación.\n",
    "* **pyplot**: Módulo de Matplotlib en Python que se usa para crear y personalizar gráficos de forma sencilla."
   ]
  },
  {
   "cell_type": "code",
   "execution_count": 19,
   "id": "c35c4f90",
   "metadata": {},
   "outputs": [],
   "source": [
    "import pandas as pd\n",
    "from sklearn.preprocessing import StandardScaler\n",
    "from sklearn.model_selection import train_test_split\n",
    "from sklearn.linear_model import LogisticRegression\n",
    "from sklearn.metrics import accuracy_score\n",
    "import matplotlib.pyplot as plt"
   ]
  },
  {
   "cell_type": "markdown",
   "id": "82fd3cd2",
   "metadata": {},
   "source": [
    "### 4.2. Lectura de archivo"
   ]
  },
  {
   "cell_type": "code",
   "execution_count": 20,
   "id": "3330183c",
   "metadata": {},
   "outputs": [],
   "source": [
    "df_2 = pd.read_csv('Data/compra_alquilar.csv')"
   ]
  },
  {
   "cell_type": "code",
   "execution_count": 21,
   "id": "eaf4cc95",
   "metadata": {},
   "outputs": [
    {
     "data": {
      "text/html": [
       "<div>\n",
       "<style scoped>\n",
       "    .dataframe tbody tr th:only-of-type {\n",
       "        vertical-align: middle;\n",
       "    }\n",
       "\n",
       "    .dataframe tbody tr th {\n",
       "        vertical-align: top;\n",
       "    }\n",
       "\n",
       "    .dataframe thead th {\n",
       "        text-align: right;\n",
       "    }\n",
       "</style>\n",
       "<table border=\"1\" class=\"dataframe\">\n",
       "  <thead>\n",
       "    <tr style=\"text-align: right;\">\n",
       "      <th></th>\n",
       "      <th>ingresos</th>\n",
       "      <th>gastos_comunes</th>\n",
       "      <th>pago_coche</th>\n",
       "      <th>gastos_otros</th>\n",
       "      <th>ahorros</th>\n",
       "      <th>vivienda</th>\n",
       "      <th>estado_civil</th>\n",
       "      <th>hijos</th>\n",
       "      <th>trabajo</th>\n",
       "      <th>comprar</th>\n",
       "    </tr>\n",
       "  </thead>\n",
       "  <tbody>\n",
       "    <tr>\n",
       "      <th>0</th>\n",
       "      <td>6000</td>\n",
       "      <td>1000</td>\n",
       "      <td>0</td>\n",
       "      <td>600</td>\n",
       "      <td>50000</td>\n",
       "      <td>400000</td>\n",
       "      <td>0</td>\n",
       "      <td>2</td>\n",
       "      <td>2</td>\n",
       "      <td>1</td>\n",
       "    </tr>\n",
       "    <tr>\n",
       "      <th>1</th>\n",
       "      <td>6745</td>\n",
       "      <td>944</td>\n",
       "      <td>123</td>\n",
       "      <td>429</td>\n",
       "      <td>43240</td>\n",
       "      <td>636897</td>\n",
       "      <td>1</td>\n",
       "      <td>3</td>\n",
       "      <td>6</td>\n",
       "      <td>0</td>\n",
       "    </tr>\n",
       "    <tr>\n",
       "      <th>2</th>\n",
       "      <td>6455</td>\n",
       "      <td>1033</td>\n",
       "      <td>98</td>\n",
       "      <td>795</td>\n",
       "      <td>57463</td>\n",
       "      <td>321779</td>\n",
       "      <td>2</td>\n",
       "      <td>1</td>\n",
       "      <td>8</td>\n",
       "      <td>1</td>\n",
       "    </tr>\n",
       "    <tr>\n",
       "      <th>3</th>\n",
       "      <td>7098</td>\n",
       "      <td>1278</td>\n",
       "      <td>15</td>\n",
       "      <td>254</td>\n",
       "      <td>54506</td>\n",
       "      <td>660933</td>\n",
       "      <td>0</td>\n",
       "      <td>0</td>\n",
       "      <td>3</td>\n",
       "      <td>0</td>\n",
       "    </tr>\n",
       "    <tr>\n",
       "      <th>4</th>\n",
       "      <td>6167</td>\n",
       "      <td>863</td>\n",
       "      <td>223</td>\n",
       "      <td>520</td>\n",
       "      <td>41512</td>\n",
       "      <td>348932</td>\n",
       "      <td>0</td>\n",
       "      <td>0</td>\n",
       "      <td>3</td>\n",
       "      <td>1</td>\n",
       "    </tr>\n",
       "  </tbody>\n",
       "</table>\n",
       "</div>"
      ],
      "text/plain": [
       "   ingresos  gastos_comunes  pago_coche  gastos_otros  ahorros  vivienda  \\\n",
       "0      6000            1000           0           600    50000    400000   \n",
       "1      6745             944         123           429    43240    636897   \n",
       "2      6455            1033          98           795    57463    321779   \n",
       "3      7098            1278          15           254    54506    660933   \n",
       "4      6167             863         223           520    41512    348932   \n",
       "\n",
       "   estado_civil  hijos  trabajo  comprar  \n",
       "0             0      2        2        1  \n",
       "1             1      3        6        0  \n",
       "2             2      1        8        1  \n",
       "3             0      0        3        0  \n",
       "4             0      0        3        1  "
      ]
     },
     "execution_count": 21,
     "metadata": {},
     "output_type": "execute_result"
    }
   ],
   "source": [
    "df_2.head()"
   ]
  },
  {
   "cell_type": "code",
   "execution_count": 22,
   "id": "6f30d1a7",
   "metadata": {},
   "outputs": [
    {
     "data": {
      "text/html": [
       "<div>\n",
       "<style scoped>\n",
       "    .dataframe tbody tr th:only-of-type {\n",
       "        vertical-align: middle;\n",
       "    }\n",
       "\n",
       "    .dataframe tbody tr th {\n",
       "        vertical-align: top;\n",
       "    }\n",
       "\n",
       "    .dataframe thead th {\n",
       "        text-align: right;\n",
       "    }\n",
       "</style>\n",
       "<table border=\"1\" class=\"dataframe\">\n",
       "  <thead>\n",
       "    <tr style=\"text-align: right;\">\n",
       "      <th></th>\n",
       "      <th>ingresos</th>\n",
       "      <th>gastos_comunes</th>\n",
       "      <th>pago_coche</th>\n",
       "      <th>gastos_otros</th>\n",
       "      <th>ahorros</th>\n",
       "      <th>vivienda</th>\n",
       "      <th>estado_civil</th>\n",
       "      <th>hijos</th>\n",
       "      <th>trabajo</th>\n",
       "      <th>comprar</th>\n",
       "    </tr>\n",
       "  </thead>\n",
       "  <tbody>\n",
       "    <tr>\n",
       "      <th>count</th>\n",
       "      <td>202.000000</td>\n",
       "      <td>202.000000</td>\n",
       "      <td>202.000000</td>\n",
       "      <td>202.000000</td>\n",
       "      <td>202.000000</td>\n",
       "      <td>202.000000</td>\n",
       "      <td>202.000000</td>\n",
       "      <td>202.000000</td>\n",
       "      <td>202.000000</td>\n",
       "      <td>202.000000</td>\n",
       "    </tr>\n",
       "    <tr>\n",
       "      <th>mean</th>\n",
       "      <td>4958.995050</td>\n",
       "      <td>971.584158</td>\n",
       "      <td>211.742574</td>\n",
       "      <td>515.425743</td>\n",
       "      <td>38749.668317</td>\n",
       "      <td>373349.638614</td>\n",
       "      <td>1.024752</td>\n",
       "      <td>1.232673</td>\n",
       "      <td>4.490099</td>\n",
       "      <td>0.331683</td>\n",
       "    </tr>\n",
       "    <tr>\n",
       "      <th>std</th>\n",
       "      <td>1682.862556</td>\n",
       "      <td>272.106351</td>\n",
       "      <td>124.940754</td>\n",
       "      <td>168.103075</td>\n",
       "      <td>17365.231870</td>\n",
       "      <td>136371.525622</td>\n",
       "      <td>0.837184</td>\n",
       "      <td>1.367833</td>\n",
       "      <td>2.535794</td>\n",
       "      <td>0.471988</td>\n",
       "    </tr>\n",
       "    <tr>\n",
       "      <th>min</th>\n",
       "      <td>2008.000000</td>\n",
       "      <td>384.000000</td>\n",
       "      <td>0.000000</td>\n",
       "      <td>201.000000</td>\n",
       "      <td>10319.000000</td>\n",
       "      <td>176553.000000</td>\n",
       "      <td>0.000000</td>\n",
       "      <td>0.000000</td>\n",
       "      <td>0.000000</td>\n",
       "      <td>0.000000</td>\n",
       "    </tr>\n",
       "    <tr>\n",
       "      <th>25%</th>\n",
       "      <td>3513.750000</td>\n",
       "      <td>766.750000</td>\n",
       "      <td>99.000000</td>\n",
       "      <td>383.250000</td>\n",
       "      <td>24964.250000</td>\n",
       "      <td>274810.000000</td>\n",
       "      <td>0.000000</td>\n",
       "      <td>0.000000</td>\n",
       "      <td>2.000000</td>\n",
       "      <td>0.000000</td>\n",
       "    </tr>\n",
       "    <tr>\n",
       "      <th>50%</th>\n",
       "      <td>4947.500000</td>\n",
       "      <td>968.000000</td>\n",
       "      <td>208.500000</td>\n",
       "      <td>522.500000</td>\n",
       "      <td>38523.000000</td>\n",
       "      <td>340783.500000</td>\n",
       "      <td>1.000000</td>\n",
       "      <td>1.000000</td>\n",
       "      <td>5.000000</td>\n",
       "      <td>0.000000</td>\n",
       "    </tr>\n",
       "    <tr>\n",
       "      <th>75%</th>\n",
       "      <td>6374.500000</td>\n",
       "      <td>1165.250000</td>\n",
       "      <td>318.750000</td>\n",
       "      <td>656.750000</td>\n",
       "      <td>52150.750000</td>\n",
       "      <td>444482.000000</td>\n",
       "      <td>2.000000</td>\n",
       "      <td>2.000000</td>\n",
       "      <td>7.000000</td>\n",
       "      <td>1.000000</td>\n",
       "    </tr>\n",
       "    <tr>\n",
       "      <th>max</th>\n",
       "      <td>7984.000000</td>\n",
       "      <td>1585.000000</td>\n",
       "      <td>448.000000</td>\n",
       "      <td>828.000000</td>\n",
       "      <td>69934.000000</td>\n",
       "      <td>669540.000000</td>\n",
       "      <td>2.000000</td>\n",
       "      <td>4.000000</td>\n",
       "      <td>8.000000</td>\n",
       "      <td>1.000000</td>\n",
       "    </tr>\n",
       "  </tbody>\n",
       "</table>\n",
       "</div>"
      ],
      "text/plain": [
       "          ingresos  gastos_comunes  pago_coche  gastos_otros       ahorros  \\\n",
       "count   202.000000      202.000000  202.000000    202.000000    202.000000   \n",
       "mean   4958.995050      971.584158  211.742574    515.425743  38749.668317   \n",
       "std    1682.862556      272.106351  124.940754    168.103075  17365.231870   \n",
       "min    2008.000000      384.000000    0.000000    201.000000  10319.000000   \n",
       "25%    3513.750000      766.750000   99.000000    383.250000  24964.250000   \n",
       "50%    4947.500000      968.000000  208.500000    522.500000  38523.000000   \n",
       "75%    6374.500000     1165.250000  318.750000    656.750000  52150.750000   \n",
       "max    7984.000000     1585.000000  448.000000    828.000000  69934.000000   \n",
       "\n",
       "            vivienda  estado_civil       hijos     trabajo     comprar  \n",
       "count     202.000000    202.000000  202.000000  202.000000  202.000000  \n",
       "mean   373349.638614      1.024752    1.232673    4.490099    0.331683  \n",
       "std    136371.525622      0.837184    1.367833    2.535794    0.471988  \n",
       "min    176553.000000      0.000000    0.000000    0.000000    0.000000  \n",
       "25%    274810.000000      0.000000    0.000000    2.000000    0.000000  \n",
       "50%    340783.500000      1.000000    1.000000    5.000000    0.000000  \n",
       "75%    444482.000000      2.000000    2.000000    7.000000    1.000000  \n",
       "max    669540.000000      2.000000    4.000000    8.000000    1.000000  "
      ]
     },
     "execution_count": 22,
     "metadata": {},
     "output_type": "execute_result"
    }
   ],
   "source": [
    "df_2.describe()"
   ]
  },
  {
   "cell_type": "code",
   "execution_count": 27,
   "id": "b21d08e2",
   "metadata": {},
   "outputs": [
    {
     "data": {
      "image/png": "[encoded data removed]",
      "text/plain": [
       "<Figure size 720x720 with 12 Axes>"
      ]
     },
     "metadata": {
      "needs_background": "light"
     },
     "output_type": "display_data"
    }
   ],
   "source": [
    "# Definición de parametros para graficar los histogramas y hacerlos mejor visualmente\n",
    "df_2.hist(bins=10, figsize=(10,10), layout=(-1,3), xrot=45);\n",
    "plt.tight_layout()\n",
    "plt.show()"
   ]
  },
  {
   "cell_type": "code",
   "execution_count": null,
   "id": "8f1de288",
   "metadata": {},
   "outputs": [],
   "source": []
  },
  {
   "cell_type": "markdown",
   "id": "a6842363",
   "metadata": {},
   "source": [
    "### 4.3. Separación de variables de entrada y salida"
   ]
  },
  {
   "cell_type": "code",
   "execution_count": 29,
   "id": "fdcd4089",
   "metadata": {},
   "outputs": [],
   "source": [
    "#80% train, 20%test\n",
    "X = df_2.drop('comprar', axis=1)"
   ]
  },
  {
   "cell_type": "code",
   "execution_count": 30,
   "id": "0e177bf6",
   "metadata": {},
   "outputs": [
    {
     "data": {
      "text/html": [
       "<div>\n",
       "<style scoped>\n",
       "    .dataframe tbody tr th:only-of-type {\n",
       "        vertical-align: middle;\n",
       "    }\n",
       "\n",
       "    .dataframe tbody tr th {\n",
       "        vertical-align: top;\n",
       "    }\n",
       "\n",
       "    .dataframe thead th {\n",
       "        text-align: right;\n",
       "    }\n",
       "</style>\n",
       "<table border=\"1\" class=\"dataframe\">\n",
       "  <thead>\n",
       "    <tr style=\"text-align: right;\">\n",
       "      <th></th>\n",
       "      <th>ingresos</th>\n",
       "      <th>gastos_comunes</th>\n",
       "      <th>pago_coche</th>\n",
       "      <th>gastos_otros</th>\n",
       "      <th>ahorros</th>\n",
       "      <th>vivienda</th>\n",
       "      <th>estado_civil</th>\n",
       "      <th>hijos</th>\n",
       "      <th>trabajo</th>\n",
       "    </tr>\n",
       "  </thead>\n",
       "  <tbody>\n",
       "    <tr>\n",
       "      <th>0</th>\n",
       "      <td>6000</td>\n",
       "      <td>1000</td>\n",
       "      <td>0</td>\n",
       "      <td>600</td>\n",
       "      <td>50000</td>\n",
       "      <td>400000</td>\n",
       "      <td>0</td>\n",
       "      <td>2</td>\n",
       "      <td>2</td>\n",
       "    </tr>\n",
       "    <tr>\n",
       "      <th>1</th>\n",
       "      <td>6745</td>\n",
       "      <td>944</td>\n",
       "      <td>123</td>\n",
       "      <td>429</td>\n",
       "      <td>43240</td>\n",
       "      <td>636897</td>\n",
       "      <td>1</td>\n",
       "      <td>3</td>\n",
       "      <td>6</td>\n",
       "    </tr>\n",
       "    <tr>\n",
       "      <th>2</th>\n",
       "      <td>6455</td>\n",
       "      <td>1033</td>\n",
       "      <td>98</td>\n",
       "      <td>795</td>\n",
       "      <td>57463</td>\n",
       "      <td>321779</td>\n",
       "      <td>2</td>\n",
       "      <td>1</td>\n",
       "      <td>8</td>\n",
       "    </tr>\n",
       "    <tr>\n",
       "      <th>3</th>\n",
       "      <td>7098</td>\n",
       "      <td>1278</td>\n",
       "      <td>15</td>\n",
       "      <td>254</td>\n",
       "      <td>54506</td>\n",
       "      <td>660933</td>\n",
       "      <td>0</td>\n",
       "      <td>0</td>\n",
       "      <td>3</td>\n",
       "    </tr>\n",
       "    <tr>\n",
       "      <th>4</th>\n",
       "      <td>6167</td>\n",
       "      <td>863</td>\n",
       "      <td>223</td>\n",
       "      <td>520</td>\n",
       "      <td>41512</td>\n",
       "      <td>348932</td>\n",
       "      <td>0</td>\n",
       "      <td>0</td>\n",
       "      <td>3</td>\n",
       "    </tr>\n",
       "  </tbody>\n",
       "</table>\n",
       "</div>"
      ],
      "text/plain": [
       "   ingresos  gastos_comunes  pago_coche  gastos_otros  ahorros  vivienda  \\\n",
       "0      6000            1000           0           600    50000    400000   \n",
       "1      6745             944         123           429    43240    636897   \n",
       "2      6455            1033          98           795    57463    321779   \n",
       "3      7098            1278          15           254    54506    660933   \n",
       "4      6167             863         223           520    41512    348932   \n",
       "\n",
       "   estado_civil  hijos  trabajo  \n",
       "0             0      2        2  \n",
       "1             1      3        6  \n",
       "2             2      1        8  \n",
       "3             0      0        3  \n",
       "4             0      0        3  "
      ]
     },
     "execution_count": 30,
     "metadata": {},
     "output_type": "execute_result"
    }
   ],
   "source": [
    "X.head()"
   ]
  },
  {
   "cell_type": "code",
   "execution_count": 33,
   "id": "f56d3781",
   "metadata": {},
   "outputs": [
    {
     "data": {
      "text/plain": [
       "0      1\n",
       "1      0\n",
       "2      1\n",
       "3      0\n",
       "4      1\n",
       "      ..\n",
       "197    0\n",
       "198    0\n",
       "199    0\n",
       "200    0\n",
       "201    0\n",
       "Name: comprar, Length: 202, dtype: int64"
      ]
     },
     "execution_count": 33,
     "metadata": {},
     "output_type": "execute_result"
    }
   ],
   "source": [
    "y=df_2['comprar']\n",
    "y"
   ]
  },
  {
   "cell_type": "markdown",
   "id": "779a0957",
   "metadata": {},
   "source": [
    "### 4.4. Dividir los datos en conjuntos de entrenamiento y prueba"
   ]
  },
  {
   "cell_type": "code",
   "execution_count": 36,
   "id": "04ffa3be",
   "metadata": {},
   "outputs": [],
   "source": [
    "X_train, X_test, y_train, y_test = train_test_split(X,y, test_size=0.2, shuffle=True, random_state=0)"
   ]
  },
  {
   "cell_type": "markdown",
   "id": "778af98b",
   "metadata": {},
   "source": [
    "### 4.5. Escalar las características"
   ]
  },
  {
   "cell_type": "markdown",
   "id": "c88f6b7c",
   "metadata": {},
   "source": [
    "**Ingresos, gastos comunes, pago coche, otros gastos, ahorros, valor vivienda, estado civil, cantidad de hijos, trabajo**: Estas variables serán escaladas usando el método de estandarización, que reescala las características para que tengan una media de 0 y una desviación estándar de 1, lo cual es útil para la regresión logística ya que mantiene todas las variables en una escala comparable.\n",
    "\n",
    "**Nota**: Las variables estado civil y trabajo son usualmente categóricas pero en el ejercicio fueron proporcionadas como variables numéricas y así se tratarán."
   ]
  },
  {
   "cell_type": "code",
   "execution_count": null,
   "id": "b6e0f0bd",
   "metadata": {},
   "outputs": [],
   "source": []
  },
  {
   "cell_type": "markdown",
   "id": "65f15664",
   "metadata": {},
   "source": [
    "### 4.6. Crear y entrenar el modelo"
   ]
  },
  {
   "cell_type": "code",
   "execution_count": null,
   "id": "67fbafd2",
   "metadata": {},
   "outputs": [],
   "source": [
    "modelo = LogisticRegression(max_iter=1000)\n",
    "modelo.fit(X_train_scaled, y_train)"
   ]
  },
  {
   "cell_type": "markdown",
   "id": "17039a46",
   "metadata": {},
   "source": [
    "### 4.7. Predecir y evaluar el modelo"
   ]
  },
  {
   "cell_type": "code",
   "execution_count": null,
   "id": "152e662a",
   "metadata": {},
   "outputs": [],
   "source": [
    "y_pred = modelo.predict(X_train_scaled)\n",
    "acc = accuracy_score(y_train, y_pred)"
   ]
  },
  {
   "cell_type": "code",
   "execution_count": null,
   "id": "d2384660",
   "metadata": {},
   "outputs": [],
   "source": []
  }
 ],
 "metadata": {
  "kernelspec": {
   "display_name": "Python 3 (ipykernel)",
   "language": "python",
   "name": "python3"
  },
  "language_info": {
   "codemirror_mode": {
    "name": "ipython",
    "version": 3
   },
   "file_extension": ".py",
   "mimetype": "text/x-python",
   "name": "python",
   "nbconvert_exporter": "python",
   "pygments_lexer": "ipython3",
   "version": "3.8.8"
  }
 },
 "nbformat": 4,
 "nbformat_minor": 5
}
