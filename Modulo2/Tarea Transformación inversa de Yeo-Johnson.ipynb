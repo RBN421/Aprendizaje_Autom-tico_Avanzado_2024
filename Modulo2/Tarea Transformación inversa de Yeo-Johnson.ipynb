{
 "cells": [
  {
   "cell_type": "markdown",
   "id": "fb32389a",
   "metadata": {},
   "source": [
    "<img style=\"float: left;;\" src='Figures/alinco.png' /></a>\n",
    "# <center> <font color= #000047> Transformación inversa de Yeo-Johnson</font> </center>\n"
   ]
  },
  {
   "cell_type": "markdown",
   "id": "d4d3b2c1",
   "metadata": {},
   "source": [
    "## 1. Ejercicio\n"
   ]
  },
  {
   "cell_type": "markdown",
   "id": "b35db477",
   "metadata": {},
   "source": [
    "Defina una función en PYTHON para calcular la transformación inversa de *Yeo-Johnson* a partir del valor de **lambda** y el valor de **x'**. Es decir, obtener **x** dado:\n",
    "\\begin{cases}\n",
    "\\frac{(x+\\lambda)^{2}-1}{\\lambda}, & x \\ge 0, \\lambda \\neq 0 \\\\\n",
    "\\log(x+1), & x \\ge 0, \\lambda = 0 \\\\\n",
    "-\\frac{(-x-\\lambda)^{2}-1}{2-\\lambda}, & x < 0, \\lambda \\neq 2 \\\\\n",
    "-\\log(-x+1), & x < 0, \\lambda = 2\n",
    "\\end{cases}\n"
   ]
  },
  {
   "cell_type": "markdown",
   "id": "79346a34",
   "metadata": {},
   "source": [
    "## 2. Importación de Librería "
   ]
  },
  {
   "cell_type": "code",
   "execution_count": null,
   "id": "113fd07c",
   "metadata": {},
   "outputs": [],
   "source": [
    "from scipy.stats import yeojohnson\n",
    "import numpy as np\n",
    "import matplotlib.pyplot as plt"
   ]
  },
  {
   "cell_type": "markdown",
   "id": "2d15b1cc",
   "metadata": {},
   "source": [
    "## 3. Función para calcular Inversa de Yeo-Johnson"
   ]
  },
  {
   "cell_type": "code",
   "execution_count": null,
   "id": "c18c54de",
   "metadata": {},
   "outputs": [],
   "source": [
    "def inversa(x_iyj, lambda_iyj):\n",
    "    \n",
    "    return None"
   ]
  },
  {
   "cell_type": "markdown",
   "id": "e1993910",
   "metadata": {},
   "source": [
    "## 4. Probando la función para x y lambda ejemplos"
   ]
  },
  {
   "cell_type": "code",
   "execution_count": null,
   "id": "3c189e31",
   "metadata": {},
   "outputs": [],
   "source": [
    "# Valores de x y lambda a probar\n"
   ]
  },
  {
   "cell_type": "code",
   "execution_count": null,
   "id": "ecb29b72",
   "metadata": {},
   "outputs": [],
   "source": [
    "# Graficar las transformaciones inversas\n",
    "\n",
    "# Agregar la línea y=x como referencia\n",
    "\n",
    "# Añadir leyenda, límites y cuadrícula al gráfico\n"
   ]
  },
  {
   "cell_type": "code",
   "execution_count": null,
   "id": "31621494",
   "metadata": {},
   "outputs": [],
   "source": []
  }
 ],
 "metadata": {
  "kernelspec": {
   "display_name": "Python 3 (ipykernel)",
   "language": "python",
   "name": "python3"
  },
  "language_info": {
   "codemirror_mode": {
    "name": "ipython",
    "version": 3
   },
   "file_extension": ".py",
   "mimetype": "text/x-python",
   "name": "python",
   "nbconvert_exporter": "python",
   "pygments_lexer": "ipython3",
   "version": "3.8.8"
  }
 },
 "nbformat": 4,
 "nbformat_minor": 5
}
