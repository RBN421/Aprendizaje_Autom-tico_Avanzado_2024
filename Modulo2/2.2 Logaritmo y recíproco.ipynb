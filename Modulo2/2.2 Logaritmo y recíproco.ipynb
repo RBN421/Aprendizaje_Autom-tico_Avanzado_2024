{
 "cells": [
  {
   "cell_type": "markdown",
   "metadata": {},
   "source": [
    "<img style=\"float: left;;\" src='Figures/alinco.png' /></a>\n",
    "\n",
    "# <center> <font color= #000047> Logaritmico Recíproco </font> </center>"
   ]
  },
  {
   "cell_type": "code",
   "execution_count": null,
   "metadata": {
    "executionInfo": {
     "elapsed": 3458,
     "status": "ok",
     "timestamp": 1679449167697,
     "user": {
      "displayName": "Carlos Arellano",
      "userId": "03055712073717640513"
     },
     "user_tz": 360
    },
    "id": "d3j616xr2UmG"
   },
   "outputs": [],
   "source": [
    "import numpy as np\n",
    "import matplotlib.pyplot as plt\n",
    "import pandas as pd\n",
    "from sklearn.linear_model import LinearRegression\n",
    "from sklearn.datasets import fetch_california_housing\n",
    "from sklearn.model_selection import train_test_split\n"
   ]
  },
  {
   "cell_type": "markdown",
   "metadata": {
    "id": "6sxG5jKh2dpx"
   },
   "source": [
    "# Transformación logarítmica"
   ]
  },
  {
   "cell_type": "code",
   "execution_count": null,
   "metadata": {
    "colab": {
     "base_uri": "https://localhost:8080/",
     "height": 269
    },
    "executionInfo": {
     "elapsed": 467,
     "status": "ok",
     "timestamp": 1679449795073,
     "user": {
      "displayName": "Carlos Arellano",
      "userId": "03055712073717640513"
     },
     "user_tz": 360
    },
    "id": "Gb8utbb52iI4",
    "outputId": "dd475c26-a8a6-4b1f-f811-bfbebbedc02a"
   },
   "outputs": [],
   "source": [
    "# Gráfica de X vs X'\n"
   ]
  },
  {
   "cell_type": "code",
   "execution_count": null,
   "metadata": {
    "colab": {
     "base_uri": "https://localhost:8080/",
     "height": 444
    },
    "executionInfo": {
     "elapsed": 2047,
     "status": "ok",
     "timestamp": 1679450445804,
     "user": {
      "displayName": "Carlos Arellano",
      "userId": "03055712073717640513"
     },
     "user_tz": 360
    },
    "id": "U0fXaUZYCILI",
    "outputId": "7609eb19-7daf-4c33-844d-c0ab68a09d41"
   },
   "outputs": [],
   "source": [
    "#df_log=df.copy()\n"
   ]
  },
  {
   "cell_type": "code",
   "execution_count": null,
   "metadata": {
    "colab": {
     "base_uri": "https://localhost:8080/"
    },
    "executionInfo": {
     "elapsed": 248,
     "status": "ok",
     "timestamp": 1679450571032,
     "user": {
      "displayName": "Carlos Arellano",
      "userId": "03055712073717640513"
     },
     "user_tz": 360
    },
    "id": "mpf1vSHgDKmu",
    "outputId": "64e67d06-9623-4efd-a24c-a3adcd59fb2c"
   },
   "outputs": [],
   "source": []
  },
  {
   "cell_type": "code",
   "execution_count": null,
   "metadata": {
    "colab": {
     "base_uri": "https://localhost:8080/"
    },
    "executionInfo": {
     "elapsed": 231,
     "status": "ok",
     "timestamp": 1679450582708,
     "user": {
      "displayName": "Carlos Arellano",
      "userId": "03055712073717640513"
     },
     "user_tz": 360
    },
    "id": "4bD0D36zDNyH",
    "outputId": "c5e6ab1c-20a7-4096-fc26-a687fb566475"
   },
   "outputs": [],
   "source": []
  },
  {
   "cell_type": "markdown",
   "metadata": {
    "id": "LEExWkFi2iwP"
   },
   "source": [
    "# Transformación recíproca"
   ]
  },
  {
   "cell_type": "code",
   "execution_count": null,
   "metadata": {
    "colab": {
     "base_uri": "https://localhost:8080/",
     "height": 269
    },
    "executionInfo": {
     "elapsed": 448,
     "status": "ok",
     "timestamp": 1679451150102,
     "user": {
      "displayName": "Carlos Arellano",
      "userId": "03055712073717640513"
     },
     "user_tz": 360
    },
    "id": "faTAHBDH2mCx",
    "outputId": "192df9bc-5d09-4093-92ad-13256af92e0b"
   },
   "outputs": [],
   "source": [
    "# Gráfica X vs X'\n"
   ]
  },
  {
   "cell_type": "code",
   "execution_count": null,
   "metadata": {
    "colab": {
     "base_uri": "https://localhost:8080/",
     "height": 444
    },
    "executionInfo": {
     "elapsed": 2496,
     "status": "ok",
     "timestamp": 1679451424080,
     "user": {
      "displayName": "Carlos Arellano",
      "userId": "03055712073717640513"
     },
     "user_tz": 360
    },
    "id": "Oeue3XnEGfIH",
    "outputId": "e8de9670-74bb-4efc-b164-3b1e920387fe"
   },
   "outputs": [],
   "source": []
  },
  {
   "cell_type": "markdown",
   "metadata": {},
   "source": [
    "Condiciones de asimetría:\n",
    "\n",
    "> Si skewness = 0, los datos se distribuyen normalmente.\n",
    "\n",
    "> Si skewness > 0, entonces los datos se ponderan más en el lado izquierdo de la distribución.\n",
    "\n",
    "> Si skewness < 0, entonces los datos se ponderan más en el lado derecho de la distribución."
   ]
  },
  {
   "cell_type": "markdown",
   "metadata": {
    "id": "0SMVowl12nJP"
   },
   "source": [
    "# Regresión"
   ]
  },
  {
   "cell_type": "code",
   "execution_count": null,
   "metadata": {
    "colab": {
     "base_uri": "https://localhost:8080/"
    },
    "executionInfo": {
     "elapsed": 138,
     "status": "ok",
     "timestamp": 1679452424688,
     "user": {
      "displayName": "Carlos Arellano",
      "userId": "03055712073717640513"
     },
     "user_tz": 360
    },
    "id": "LmZRRQzl2oWw",
    "outputId": "15cf42a1-cc53-4b95-cec9-1a8b243b5fcc"
   },
   "outputs": [],
   "source": []
  },
  {
   "cell_type": "code",
   "execution_count": null,
   "metadata": {
    "colab": {
     "base_uri": "https://localhost:8080/"
    },
    "executionInfo": {
     "elapsed": 5,
     "status": "ok",
     "timestamp": 1679452792953,
     "user": {
      "displayName": "Carlos Arellano",
      "userId": "03055712073717640513"
     },
     "user_tz": 360
    },
    "id": "HWwvCeVLKBN1",
    "outputId": "f0e9513c-4d9b-4e10-dc92-257470aaf610"
   },
   "outputs": [],
   "source": [
    "# Aplicamos logaritmo a las variables 0,2,4,6 y 8.\n",
    "# Recíproco a las variables 3 y 5.\n",
    "# Y ninguna transformación a las variables 1 y 7\n",
    "#\n"
   ]
  },
  {
   "cell_type": "code",
   "execution_count": null,
   "metadata": {
    "colab": {
     "base_uri": "https://localhost:8080/",
     "height": 74
    },
    "executionInfo": {
     "elapsed": 208,
     "status": "ok",
     "timestamp": 1679452868349,
     "user": {
      "displayName": "Carlos Arellano",
      "userId": "03055712073717640513"
     },
     "user_tz": 360
    },
    "id": "M5rv8H0dL-X6",
    "outputId": "500ce998-489a-4bc5-dc7a-6c8dc7341fc8"
   },
   "outputs": [],
   "source": []
  },
  {
   "cell_type": "code",
   "execution_count": null,
   "metadata": {
    "colab": {
     "base_uri": "https://localhost:8080/"
    },
    "executionInfo": {
     "elapsed": 206,
     "status": "ok",
     "timestamp": 1679452933416,
     "user": {
      "displayName": "Carlos Arellano",
      "userId": "03055712073717640513"
     },
     "user_tz": 360
    },
    "id": "7QNe5segMQyq",
    "outputId": "42b1cac5-1c20-45ac-b784-70fd8773f9fd"
   },
   "outputs": [],
   "source": [
    "# Transformación para MedHouseVal -> log10\n"
   ]
  },
  {
   "cell_type": "code",
   "execution_count": null,
   "metadata": {
    "colab": {
     "base_uri": "https://localhost:8080/",
     "height": 281
    },
    "executionInfo": {
     "elapsed": 838,
     "status": "ok",
     "timestamp": 1679453204435,
     "user": {
      "displayName": "Carlos Arellano",
      "userId": "03055712073717640513"
     },
     "user_tz": 360
    },
    "id": "HWxaMDg9MnLB",
    "outputId": "e4681463-b71b-4310-fc28-043e0f9b4bef"
   },
   "outputs": [],
   "source": [
    "plt.scatter(df['AveBedrms'],df['MedHouseVal'],s=5,label='Observaciones')\n",
    "prediccion=lin.predict(df.drop(columns='MedHouseVal'))\n",
    "plt.scatter(df['AveBedrms'],prediccion,label='Predicción',s=5)\n",
    "plt.legend()\n",
    "plt.title('Regresión de los datos originales')\n",
    "plt.grid()"
   ]
  },
  {
   "cell_type": "code",
   "execution_count": null,
   "metadata": {
    "colab": {
     "base_uri": "https://localhost:8080/",
     "height": 281
    },
    "executionInfo": {
     "elapsed": 2146,
     "status": "ok",
     "timestamp": 1679453342486,
     "user": {
      "displayName": "Carlos Arellano",
      "userId": "03055712073717640513"
     },
     "user_tz": 360
    },
    "id": "I8ezbmJkNobP",
    "outputId": "dbe840eb-da04-4935-8d80-3f4c4370da8d"
   },
   "outputs": [],
   "source": [
    "lin_t=LinearRegression()\n",
    "lin_t.fit(df_t.drop(columns='MedHouseVal'),df_t.MedHouseVal)\n",
    "\n",
    "plt.scatter(df_t['AveBedrms'],df_t['MedHouseVal'],s=5,label='Observaciones')\n",
    "prediccion=lin_t.predict(df_t.drop(columns='MedHouseVal'))\n",
    "plt.scatter(df_t['AveBedrms'],prediccion,label='Predicción',s=5)\n",
    "plt.legend()\n",
    "plt.title('Regresión de los datos transformados')\n",
    "plt.grid()"
   ]
  },
  {
   "cell_type": "code",
   "execution_count": null,
   "metadata": {
    "colab": {
     "base_uri": "https://localhost:8080/",
     "height": 265
    },
    "executionInfo": {
     "elapsed": 2052,
     "status": "ok",
     "timestamp": 1679453807907,
     "user": {
      "displayName": "Carlos Arellano",
      "userId": "03055712073717640513"
     },
     "user_tz": 360
    },
    "id": "DBpqVjyTOcm7",
    "outputId": "6f33e445-706a-48b1-f7f2-1b44146a8321"
   },
   "outputs": [],
   "source": [
    "plt.scatter(df['AveBedrms'],df['MedHouseVal'],s=5,label='Observaciones')\n",
    "prediccion_t=10**(lin_t.predict(df_t.drop(columns='MedHouseVal')))+df.MedHouseVal.min()-1\n",
    "prediccion=lin.predict(df.drop(columns='MedHouseVal'))\n",
    "plt.scatter(df['AveBedrms'],prediccion_t,label='Predicción de los transformados',s=5)\n",
    "plt.scatter(df['AveBedrms'],prediccion,label='Predicción sin transformar',s=5)\n",
    "plt.legend()\n",
    "plt.grid()"
   ]
  },
  {
   "cell_type": "code",
   "execution_count": null,
   "metadata": {
    "colab": {
     "base_uri": "https://localhost:8080/",
     "height": 206
    },
    "executionInfo": {
     "elapsed": 849,
     "status": "ok",
     "timestamp": 1679453993164,
     "user": {
      "displayName": "Carlos Arellano",
      "userId": "03055712073717640513"
     },
     "user_tz": 360
    },
    "id": "8XAPpDDhQT5S",
    "outputId": "5b7f7696-bbef-4686-d3a8-b211dc1b12f0"
   },
   "outputs": [],
   "source": [
    "# Regresión para una variable\n",
    "#\n",
    "df=pd.read_csv('regresion.csv')\n",
    "df.head()"
   ]
  },
  {
   "cell_type": "code",
   "execution_count": null,
   "metadata": {
    "colab": {
     "base_uri": "https://localhost:8080/",
     "height": 265
    },
    "executionInfo": {
     "elapsed": 492,
     "status": "ok",
     "timestamp": 1679454029419,
     "user": {
      "displayName": "Carlos Arellano",
      "userId": "03055712073717640513"
     },
     "user_tz": 360
    },
    "id": "6_7Gir0sQjQ6",
    "outputId": "37df18b4-c072-40e9-802f-9bb13ce250e6"
   },
   "outputs": [],
   "source": [
    "plt.scatter(df.x,df.y,s=5)\n",
    "plt.grid()"
   ]
  },
  {
   "cell_type": "code",
   "execution_count": null,
   "metadata": {
    "colab": {
     "base_uri": "https://localhost:8080/",
     "height": 282
    },
    "executionInfo": {
     "elapsed": 238,
     "status": "ok",
     "timestamp": 1679454082788,
     "user": {
      "displayName": "Carlos Arellano",
      "userId": "03055712073717640513"
     },
     "user_tz": 360
    },
    "id": "SurRxtpmQsJh",
    "outputId": "20e25f1a-54be-4c30-d523-63bb42738735"
   },
   "outputs": [],
   "source": [
    "df.y.hist(bins=50)"
   ]
  },
  {
   "cell_type": "code",
   "execution_count": null,
   "metadata": {
    "colab": {
     "base_uri": "https://localhost:8080/"
    },
    "executionInfo": {
     "elapsed": 3,
     "status": "ok",
     "timestamp": 1679454282837,
     "user": {
      "displayName": "Carlos Arellano",
      "userId": "03055712073717640513"
     },
     "user_tz": 360
    },
    "id": "ac0YoR6fQ5OB",
    "outputId": "0fe0f406-99aa-48ba-df3f-8d9af3c61e37"
   },
   "outputs": [],
   "source": [
    "y=df.y-df.y.min()+1\n",
    "np.log(y).skew(),np.log10(y).skew(),(1/y).skew(),np.sqrt(y).skew()"
   ]
  },
  {
   "cell_type": "code",
   "execution_count": null,
   "metadata": {
    "colab": {
     "base_uri": "https://localhost:8080/"
    },
    "executionInfo": {
     "elapsed": 7,
     "status": "ok",
     "timestamp": 1679454228242,
     "user": {
      "displayName": "Carlos Arellano",
      "userId": "03055712073717640513"
     },
     "user_tz": 360
    },
    "id": "sURN4kCGRLiC",
    "outputId": "5ec64181-5f57-4667-fe4d-90fdcaec372c"
   },
   "outputs": [],
   "source": [
    "df.y.skew()"
   ]
  },
  {
   "cell_type": "code",
   "execution_count": null,
   "metadata": {
    "colab": {
     "base_uri": "https://localhost:8080/",
     "height": 282
    },
    "executionInfo": {
     "elapsed": 435,
     "status": "ok",
     "timestamp": 1679454348071,
     "user": {
      "displayName": "Carlos Arellano",
      "userId": "03055712073717640513"
     },
     "user_tz": 360
    },
    "id": "KgzFHbr4RiWn",
    "outputId": "73312062-5093-4ed3-e37b-bf64d1b855de"
   },
   "outputs": [],
   "source": [
    "df_t=df.copy()\n",
    "df_t['y']=np.log(y)\n",
    "df_t.y.hist(bins=50)"
   ]
  },
  {
   "cell_type": "code",
   "execution_count": null,
   "metadata": {
    "colab": {
     "base_uri": "https://localhost:8080/"
    },
    "executionInfo": {
     "elapsed": 182,
     "status": "ok",
     "timestamp": 1679454378562,
     "user": {
      "displayName": "Carlos Arellano",
      "userId": "03055712073717640513"
     },
     "user_tz": 360
    },
    "id": "mQbKGLcLR5_x",
    "outputId": "10602a2f-b765-4620-c1f5-7350d61dba94"
   },
   "outputs": [],
   "source": [
    "df.x.skew()"
   ]
  },
  {
   "cell_type": "code",
   "execution_count": null,
   "metadata": {
    "colab": {
     "base_uri": "https://localhost:8080/",
     "height": 282
    },
    "executionInfo": {
     "elapsed": 399,
     "status": "ok",
     "timestamp": 1679454388094,
     "user": {
      "displayName": "Carlos Arellano",
      "userId": "03055712073717640513"
     },
     "user_tz": 360
    },
    "id": "frU1BCJySBf5",
    "outputId": "bb74dc07-bb56-4f73-d9be-128c6b76e9c9"
   },
   "outputs": [],
   "source": [
    "df.x.hist()"
   ]
  },
  {
   "cell_type": "code",
   "execution_count": null,
   "metadata": {
    "colab": {
     "base_uri": "https://localhost:8080/"
    },
    "executionInfo": {
     "elapsed": 160,
     "status": "ok",
     "timestamp": 1679454617107,
     "user": {
      "displayName": "Carlos Arellano",
      "userId": "03055712073717640513"
     },
     "user_tz": 360
    },
    "id": "NsgLCV-KSHCp",
    "outputId": "ac05df84-d46b-493a-c171-93c00e26869a"
   },
   "outputs": [],
   "source": [
    "lin_t=LinearRegression()\n",
    "\n",
    "X,x,Y,y=train_test_split(df_t[['x']],df_t['y'])\n",
    "lin_t.fit(X,Y)\n",
    "lin_t.score(X,Y),lin_t.score(x,y)"
   ]
  },
  {
   "cell_type": "code",
   "execution_count": null,
   "metadata": {
    "colab": {
     "base_uri": "https://localhost:8080/"
    },
    "executionInfo": {
     "elapsed": 3,
     "status": "ok",
     "timestamp": 1679454697983,
     "user": {
      "displayName": "Carlos Arellano",
      "userId": "03055712073717640513"
     },
     "user_tz": 360
    },
    "id": "KcNsQew4S0wC",
    "outputId": "913ec191-9e48-4789-8992-86c61f7fcff1"
   },
   "outputs": [],
   "source": [
    "lin=LinearRegression()\n",
    "X1,x1,Y1,y1=train_test_split(df[['x']],df['y'])\n",
    "lin.fit(X1,Y1)\n",
    "lin.score(X1,Y1),lin.score(x1,y1)"
   ]
  },
  {
   "cell_type": "code",
   "execution_count": null,
   "metadata": {
    "colab": {
     "base_uri": "https://localhost:8080/",
     "height": 265
    },
    "executionInfo": {
     "elapsed": 657,
     "status": "ok",
     "timestamp": 1679454884540,
     "user": {
      "displayName": "Carlos Arellano",
      "userId": "03055712073717640513"
     },
     "user_tz": 360
    },
    "id": "mrNbA9wETPhg",
    "outputId": "321386fe-b686-40e7-e8b2-033f5b555d48"
   },
   "outputs": [],
   "source": [
    "# Gráfica de los datos transformados\n",
    "plt.scatter(df_t['x'],df_t['y'],s=5,label='Observaciones')\n",
    "plt.plot(df_t['x'],lin_t.predict(df_t[['x']]),'r',label='Predicción')\n",
    "plt.legend()\n",
    "plt.grid()"
   ]
  },
  {
   "cell_type": "code",
   "execution_count": null,
   "metadata": {
    "colab": {
     "base_uri": "https://localhost:8080/",
     "height": 265
    },
    "executionInfo": {
     "elapsed": 490,
     "status": "ok",
     "timestamp": 1679455162645,
     "user": {
      "displayName": "Carlos Arellano",
      "userId": "03055712073717640513"
     },
     "user_tz": 360
    },
    "id": "q7BYu6E8T830",
    "outputId": "d7fe4dfb-7189-4f2f-f05c-bc03535fe19b"
   },
   "outputs": [],
   "source": [
    "# Gráfica de los datos destransformados\n",
    "plt.scatter(df['x'],df['y'],label='Escala original',s=5)\n",
    "f=np.exp(lin_t.predict(df[['x']]))+df.y.min()-1\n",
    "plt.plot(df['x'],f,'r',label='Predicción')\n",
    "plt.legend()\n",
    "plt.grid()"
   ]
  },
  {
   "cell_type": "code",
   "execution_count": null,
   "metadata": {},
   "outputs": [],
   "source": []
  },
  {
   "cell_type": "code",
   "execution_count": null,
   "metadata": {},
   "outputs": [],
   "source": []
  },
  {
   "cell_type": "code",
   "execution_count": null,
   "metadata": {},
   "outputs": [],
   "source": []
  }
 ],
 "metadata": {
  "colab": {
   "authorship_tag": "ABX9TyMQ/lwcdoowWVk4Qc4p12e3",
   "mount_file_id": "1hoIRgqCuMS5d0I3uQr8lr0LNFk5RSTYp",
   "provenance": []
  },
  "kernelspec": {
   "display_name": "Python 3 (ipykernel)",
   "language": "python",
   "name": "python3"
  },
  "language_info": {
   "codemirror_mode": {
    "name": "ipython",
    "version": 3
   },
   "file_extension": ".py",
   "mimetype": "text/x-python",
   "name": "python",
   "nbconvert_exporter": "python",
   "pygments_lexer": "ipython3",
   "version": "3.8.8"
  }
 },
 "nbformat": 4,
 "nbformat_minor": 1
}
