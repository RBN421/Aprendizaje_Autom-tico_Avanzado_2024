{
 "cells": [
  {
   "cell_type": "markdown",
   "metadata": {},
   "source": [
    "<img style=\"float: left;;\" src='Figures/alinco.png' /></a>\n",
    "# <center> <font color= #000047> Actividad Discretización</font> </center>"
   ]
  },
  {
   "cell_type": "markdown",
   "metadata": {},
   "source": [
    "* Importación de librerías"
   ]
  },
  {
   "cell_type": "code",
   "execution_count": null,
   "metadata": {
    "id": "-_pi5cta0qbs"
   },
   "outputs": [],
   "source": [
    "import numpy as np\n",
    "import matplotlib.pyplot as plt\n",
    "import pandas as pd"
   ]
  },
  {
   "cell_type": "markdown",
   "metadata": {
    "id": "bgJdKur7PvWW"
   },
   "source": [
    "* Leer la base de datos `edades.csv`"
   ]
  },
  {
   "cell_type": "code",
   "execution_count": null,
   "metadata": {
    "id": "q00d1MWkQPqr"
   },
   "outputs": [],
   "source": []
  },
  {
   "cell_type": "markdown",
   "metadata": {
    "id": "YTthPvzaQQec"
   },
   "source": [
    "* Discretizar los datos en 10 intervalos iguales. ¿Cuántas personas forman parte de cada intervalo? ¿Cuál es este intervalo?"
   ]
  },
  {
   "cell_type": "code",
   "execution_count": null,
   "metadata": {
    "id": "oqYcTME0QhVC"
   },
   "outputs": [],
   "source": [
    "# Discretizar las edades en 10 intervalos iguales por medio de cut\n",
    "\n",
    "# Contar cuántas personas hay en cada intervalo y ordenarlas de acuerdo con los indices\n"
   ]
  },
  {
   "cell_type": "markdown",
   "metadata": {
    "id": "yFt6hOq3QiG6"
   },
   "source": [
    "* Discretizar los datos en edades de 10 en 10. ¿Cuántas personas forman parte de cada intervalo?"
   ]
  },
  {
   "cell_type": "code",
   "execution_count": null,
   "metadata": {
    "id": "rwpbpd3wQxPz"
   },
   "outputs": [],
   "source": [
    "# Discretización en edades de 10 en 10\n",
    "\n",
    "# Contar cuántas personas hay en cada intervalo y ordenarlas\n",
    "\n",
    "# Mostrar los resultados\n"
   ]
  },
  {
   "cell_type": "markdown",
   "metadata": {
    "id": "pV4biuI8Qx1x"
   },
   "source": [
    "* Discretizar los datos y nombrar los intervalos de acuerdo a la siguiente tabla:\n",
    "\n",
    "Nombre del rango|Rango\n",
    "------------------|:--------:\n",
    "bebé|0-2\n",
    "niño|3-11\n",
    "adolecente|12-17\n",
    "joven|18-25\n",
    "adulto joven|26-39\n",
    "adulto maduro|40-59\n",
    "adulto mayor |60 en adelante\n",
    "\n",
    "Para nombrar los intervalos use el argumento `labels` de la función `cut`"
   ]
  },
  {
   "cell_type": "code",
   "execution_count": null,
   "metadata": {
    "id": "toTfZllTSo9W"
   },
   "outputs": [],
   "source": [
    "# Definir los intervalos y los labels para los rangos de edad\n",
    "# Utilizando float('inf') para representar \"infinito\" para incluir todos los valores superiores a 59\n",
    "\n",
    "# Discretizar las edades y asignar etiquetas con el argumento labels\n"
   ]
  },
  {
   "cell_type": "markdown",
   "metadata": {
    "id": "VYawvL3vSqTb"
   },
   "source": [
    "* Mostrar un histograma de esta última discretización (¿Cuántas personas forman parte de cada grupo?)."
   ]
  },
  {
   "cell_type": "code",
   "execution_count": null,
   "metadata": {
    "id": "yioeZca8S1qf"
   },
   "outputs": [],
   "source": [
    "\n"
   ]
  },
  {
   "cell_type": "markdown",
   "metadata": {},
   "source": [
    "La pregunta ¿Cuántas personas forman parte de cada grupo? ya fue respondida:"
   ]
  },
  {
   "cell_type": "code",
   "execution_count": null,
   "metadata": {},
   "outputs": [],
   "source": []
  },
  {
   "cell_type": "code",
   "execution_count": null,
   "metadata": {},
   "outputs": [],
   "source": []
  }
 ],
 "metadata": {
  "colab": {
   "provenance": []
  },
  "kernelspec": {
   "display_name": "Python 3 (ipykernel)",
   "language": "python",
   "name": "python3"
  },
  "language_info": {
   "codemirror_mode": {
    "name": "ipython",
    "version": 3
   },
   "file_extension": ".py",
   "mimetype": "text/x-python",
   "name": "python",
   "nbconvert_exporter": "python",
   "pygments_lexer": "ipython3",
   "version": "3.8.8"
  }
 },
 "nbformat": 4,
 "nbformat_minor": 1
}
