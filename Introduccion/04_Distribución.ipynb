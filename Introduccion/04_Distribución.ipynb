{
 "cells": [
  {
   "cell_type": "markdown",
   "metadata": {},
   "source": [
    "<img style=\"float: left;;\" src='Figures/alinco.png' /></a>\n",
    "\n",
    "# <center> <font color= #000047> Distribución de Datos </font> </center>"
   ]
  },
  {
   "cell_type": "code",
   "execution_count": null,
   "metadata": {
    "colab": {
     "base_uri": "https://localhost:8080/"
    },
    "executionInfo": {
     "elapsed": 10,
     "status": "ok",
     "timestamp": 1675818737495,
     "user": {
      "displayName": "Carlos Arellano",
      "userId": "03055712073717640513"
     },
     "user_tz": 360
    },
    "id": "YBDLvYP604rN",
    "outputId": "232a8d65-3c0c-4bf0-fe1c-eff61109f167"
   },
   "outputs": [],
   "source": [
    "# Media aritmética (ejemplo - velocidades)"
   ]
  },
  {
   "cell_type": "code",
   "execution_count": null,
   "metadata": {
    "colab": {
     "base_uri": "https://localhost:8080/"
    },
    "executionInfo": {
     "elapsed": 8,
     "status": "ok",
     "timestamp": 1675818737495,
     "user": {
      "displayName": "Carlos Arellano",
      "userId": "03055712073717640513"
     },
     "user_tz": 360
    },
    "id": "3Nwnia1206uR",
    "outputId": "e0bb04ba-cf90-41b7-83f6-e706b6756f74"
   },
   "outputs": [],
   "source": [
    "# Media armónica (ejemplo - velocidades)"
   ]
  },
  {
   "cell_type": "code",
   "execution_count": null,
   "metadata": {
    "executionInfo": {
     "elapsed": 1826,
     "status": "ok",
     "timestamp": 1675818739316,
     "user": {
      "displayName": "Carlos Arellano",
      "userId": "03055712073717640513"
     },
     "user_tz": 360
    },
    "id": "GuZUNBV307ip"
   },
   "outputs": [],
   "source": [
    "from sklearn.datasets import load_wine\n",
    "import pandas as pd\n",
    "import numpy as np\n",
    "import matplotlib.pyplot as plt\n",
    "from scipy import stats"
   ]
  },
  {
   "cell_type": "code",
   "execution_count": null,
   "metadata": {
    "colab": {
     "base_uri": "https://localhost:8080/",
     "height": 270
    },
    "executionInfo": {
     "elapsed": 9,
     "status": "ok",
     "timestamp": 1675818739320,
     "user": {
      "displayName": "Carlos Arellano",
      "userId": "03055712073717640513"
     },
     "user_tz": 360
    },
    "id": "rwKixISG3Em7",
    "outputId": "566d31e4-4888-4acf-b29d-a3fcd2ead3dc"
   },
   "outputs": [],
   "source": []
  },
  {
   "cell_type": "markdown",
   "metadata": {
    "id": "zmIUDxwY3l63"
   },
   "source": [
    "# Distribución"
   ]
  },
  {
   "cell_type": "code",
   "execution_count": null,
   "metadata": {
    "colab": {
     "base_uri": "https://localhost:8080/",
     "height": 265
    },
    "executionInfo": {
     "elapsed": 869,
     "status": "ok",
     "timestamp": 1675818760924,
     "user": {
      "displayName": "Carlos Arellano",
      "userId": "03055712073717640513"
     },
     "user_tz": 360
    },
    "id": "PtI5CPhC3Wfy",
    "outputId": "55f1cb88-203f-4323-f3f9-1c5f63e6e685"
   },
   "outputs": [],
   "source": []
  },
  {
   "cell_type": "code",
   "execution_count": null,
   "metadata": {
    "colab": {
     "base_uri": "https://localhost:8080/",
     "height": 334
    },
    "executionInfo": {
     "elapsed": 414,
     "status": "ok",
     "timestamp": 1675219765610,
     "user": {
      "displayName": "Carlos Arellano",
      "userId": "03055712073717640513"
     },
     "user_tz": 360
    },
    "id": "4M2OiS7a321i",
    "outputId": "97d83864-e998-4a71-d4ba-ad6d10bead59"
   },
   "outputs": [],
   "source": []
  },
  {
   "cell_type": "code",
   "execution_count": null,
   "metadata": {
    "colab": {
     "base_uri": "https://localhost:8080/",
     "height": 499
    },
    "executionInfo": {
     "elapsed": 1655,
     "status": "ok",
     "timestamp": 1675219894587,
     "user": {
      "displayName": "Carlos Arellano",
      "userId": "03055712073717640513"
     },
     "user_tz": 360
    },
    "id": "EWU4srJr4or9",
    "outputId": "741d07b9-2e3d-4ba9-e5ca-4d11017aeff2"
   },
   "outputs": [],
   "source": []
  },
  {
   "cell_type": "markdown",
   "metadata": {
    "id": "rINMXPdT45vr"
   },
   "source": [
    "# Medidas de posición o de tendencia central"
   ]
  },
  {
   "cell_type": "code",
   "execution_count": null,
   "metadata": {
    "colab": {
     "base_uri": "https://localhost:8080/"
    },
    "executionInfo": {
     "elapsed": 4,
     "status": "ok",
     "timestamp": 1675220001959,
     "user": {
      "displayName": "Carlos Arellano",
      "userId": "03055712073717640513"
     },
     "user_tz": 360
    },
    "id": "Fk-aWUBl49Cn",
    "outputId": "974f199c-f136-40da-eee4-c79a40064d73"
   },
   "outputs": [],
   "source": [
    "#@title Media aritmética\n"
   ]
  },
  {
   "cell_type": "code",
   "execution_count": null,
   "metadata": {
    "colab": {
     "base_uri": "https://localhost:8080/"
    },
    "executionInfo": {
     "elapsed": 177,
     "status": "ok",
     "timestamp": 1675220277365,
     "user": {
      "displayName": "Carlos Arellano",
      "userId": "03055712073717640513"
     },
     "user_tz": 360
    },
    "id": "BSX2wLdN5VSH",
    "outputId": "c184c5ed-b730-421e-c833-3be2e2fe58ab"
   },
   "outputs": [],
   "source": [
    "#@title Media recortada\n"
   ]
  },
  {
   "cell_type": "code",
   "execution_count": null,
   "metadata": {},
   "outputs": [],
   "source": []
  },
  {
   "cell_type": "code",
   "execution_count": null,
   "metadata": {
    "colab": {
     "base_uri": "https://localhost:8080/"
    },
    "executionInfo": {
     "elapsed": 152,
     "status": "ok",
     "timestamp": 1675220340865,
     "user": {
      "displayName": "Carlos Arellano",
      "userId": "03055712073717640513"
     },
     "user_tz": 360
    },
    "id": "rEkVjDFy6NZy",
    "outputId": "7c0f943b-eb2f-4916-c232-f1131f8a79c8"
   },
   "outputs": [],
   "source": []
  },
  {
   "cell_type": "code",
   "execution_count": null,
   "metadata": {},
   "outputs": [],
   "source": []
  },
  {
   "cell_type": "markdown",
   "metadata": {},
   "source": [
    "$X = \\{x_1\\leq, x_2\\leq,..., x_n\\}$\n",
    "\n",
    "$p$ porcentaje al que se desea recortar\n",
    "\n",
    "$r = floor(n*p)/100$\n",
    "\n",
    "$X_{trim} = \\{x_{1+r},..., x_{n-r}\\}$\n"
   ]
  },
  {
   "cell_type": "code",
   "execution_count": null,
   "metadata": {},
   "outputs": [],
   "source": []
  },
  {
   "cell_type": "code",
   "execution_count": null,
   "metadata": {},
   "outputs": [],
   "source": []
  },
  {
   "cell_type": "code",
   "execution_count": null,
   "metadata": {},
   "outputs": [],
   "source": [
    " #media recortada al 15%"
   ]
  },
  {
   "cell_type": "code",
   "execution_count": null,
   "metadata": {
    "colab": {
     "base_uri": "https://localhost:8080/"
    },
    "executionInfo": {
     "elapsed": 160,
     "status": "ok",
     "timestamp": 1675220432768,
     "user": {
      "displayName": "Carlos Arellano",
      "userId": "03055712073717640513"
     },
     "user_tz": 360
    },
    "id": "sG7mefh_6c6C",
    "outputId": "1d090437-dc84-4654-c65c-f52027d772d6"
   },
   "outputs": [],
   "source": [
    "#@title Media ponderada\n"
   ]
  },
  {
   "cell_type": "code",
   "execution_count": null,
   "metadata": {
    "id": "K6S6tVcV6zWH"
   },
   "outputs": [],
   "source": [
    "# A la primera observación le estamos dando el doble de importancia"
   ]
  },
  {
   "cell_type": "code",
   "execution_count": null,
   "metadata": {
    "colab": {
     "base_uri": "https://localhost:8080/"
    },
    "executionInfo": {
     "elapsed": 153,
     "status": "ok",
     "timestamp": 1675220587460,
     "user": {
      "displayName": "Carlos Arellano",
      "userId": "03055712073717640513"
     },
     "user_tz": 360
    },
    "id": "qxaE_ijt7VU_",
    "outputId": "6494d9da-3914-4212-e4f7-baa7fef90eef"
   },
   "outputs": [],
   "source": [
    "# Media ponderada"
   ]
  },
  {
   "cell_type": "code",
   "execution_count": null,
   "metadata": {
    "colab": {
     "base_uri": "https://localhost:8080/"
    },
    "executionInfo": {
     "elapsed": 171,
     "status": "ok",
     "timestamp": 1675220712753,
     "user": {
      "displayName": "Carlos Arellano",
      "userId": "03055712073717640513"
     },
     "user_tz": 360
    },
    "id": "v1yQnUWp7ZHH",
    "outputId": "a26c0e4b-8eb4-4d4d-bcd9-adff90dc3a52"
   },
   "outputs": [],
   "source": [
    "#@title Media geométrica\n"
   ]
  },
  {
   "cell_type": "markdown",
   "metadata": {},
   "source": [
    "El número de reclamaciones representadas en una compañia en los últimos 5 años fue de [100,155,135,160,165] ¿cuál es el incremento promedio interanual en el número de reclamaciones?"
   ]
  },
  {
   "cell_type": "code",
   "execution_count": null,
   "metadata": {},
   "outputs": [],
   "source": []
  },
  {
   "cell_type": "code",
   "execution_count": null,
   "metadata": {
    "colab": {
     "base_uri": "https://localhost:8080/"
    },
    "executionInfo": {
     "elapsed": 165,
     "status": "ok",
     "timestamp": 1675220786304,
     "user": {
      "displayName": "Carlos Arellano",
      "userId": "03055712073717640513"
     },
     "user_tz": 360
    },
    "id": "-dWHBgwE73sL",
    "outputId": "0d1dc4b0-1c82-4f94-f5ce-89a6dc48dadd"
   },
   "outputs": [],
   "source": [
    "#@title Media armónica\n"
   ]
  },
  {
   "cell_type": "markdown",
   "metadata": {},
   "source": [
    "La media armónica (H ó Mh) es una medida o estadígrafo de tendencia central similar al promedio\n",
    "o media aritmética; salvo por que se construye a partir de los valores recíprocos de la variable. Por\n",
    "tanto, **es el valor recíproco de la media aritmética**."
   ]
  },
  {
   "cell_type": "markdown",
   "metadata": {},
   "source": [
    "A diferencia de la media aritmética que resulta altamente sensible a los valores extremos inferiores\n",
    "o superiores y requiere de distribuciones más o menos simétricas; la media armónica **muestra menos\n",
    "sensibilidad a los valores altos y mantiene su representatividad en distribuciones asimétricas o\n",
    "discontinuas**."
   ]
  },
  {
   "cell_type": "markdown",
   "metadata": {},
   "source": [
    "La media armónica sirve para situaciones como las del ejemplo que hemos visto, en las que hay que promediar trayectos de igual longitud con diferentes tiempos, por lo que es muy utilizada en el campo de la electrónica y también para promediar múltiplos o cocientes, como en las operaciones bursátiles."
   ]
  },
  {
   "cell_type": "markdown",
   "metadata": {},
   "source": [
    "## ejemplo:\n",
    "\n",
    "Hay un parque al lado de su casa que tiene un perímetro de 2 kilómetros y le da 5 vueltas. Para colmo, todos los días corre los 10 kilómetros más o menos al mismo ritmo.\n",
    "\n",
    "1er vuelta ---> 12km/hr\n",
    "2da vuelta ----> 17km/hr\n",
    "3er vuelta ----> 14km/hr\n",
    "4ta vuelta ----> 8km/hr\n",
    "5ta vuelta -----> 5km/hr\n",
    "\n",
    "la velocidad va variando según las vueltas. ¿a qué velocidad media corre mi primo en su maratón mañanera?\n",
    "\n",
    "Si hace 5 vueltas a 12, 17, 14, 8 y 5 km/h, la velocidad media será de (12+17+14+8+5)/5 = 11,2 km/h.\n",
    "\n",
    "**Recordemos que cada vuelta tiene 2 km. Si durante la primera va a 12 km/h, una sencilla regla de tres nos permitirá calcular que termina la vuelta en 0,16 horas, unos 10 minutos. La segunda vuelta, a 17 km/h, la hará en 6,6 minutos. Y así, la tercera, cuarta y quinta, tardará 8,5, 15 y 24 minutos respectivamente. O sea, que en total tarda en dar las 5 vueltas 10+6,6+8,5+15+24 = 64,1 minutos o, lo que es lo mismo, 1,07 horas.**\n",
    "\n",
    "Pues ya tenemos la respuesta: si ha hecho 10 km en 1,07 horas, su velocidad media ha sido de 10/1,07 = 9,4 km/h.\n",
    "\n"
   ]
  },
  {
   "cell_type": "code",
   "execution_count": null,
   "metadata": {
    "colab": {
     "base_uri": "https://localhost:8080/"
    },
    "executionInfo": {
     "elapsed": 176,
     "status": "ok",
     "timestamp": 1675220877011,
     "user": {
      "displayName": "Carlos Arellano",
      "userId": "03055712073717640513"
     },
     "user_tz": 360
    },
    "id": "Zwe3Dqab8Jpn",
    "outputId": "0b2a38bf-9734-4749-a319-66341d5a64bb"
   },
   "outputs": [],
   "source": [
    "#@title Moda\n"
   ]
  },
  {
   "cell_type": "code",
   "execution_count": null,
   "metadata": {
    "colab": {
     "base_uri": "https://localhost:8080/"
    },
    "executionInfo": {
     "elapsed": 196,
     "status": "ok",
     "timestamp": 1675220947696,
     "user": {
      "displayName": "Carlos Arellano",
      "userId": "03055712073717640513"
     },
     "user_tz": 360
    },
    "id": "w_CO7pxl8fzd",
    "outputId": "172e08fe-82d2-4a8c-821b-8d313bb8954d"
   },
   "outputs": [],
   "source": []
  },
  {
   "cell_type": "code",
   "execution_count": null,
   "metadata": {
    "colab": {
     "base_uri": "https://localhost:8080/"
    },
    "executionInfo": {
     "elapsed": 168,
     "status": "ok",
     "timestamp": 1675221021897,
     "user": {
      "displayName": "Carlos Arellano",
      "userId": "03055712073717640513"
     },
     "user_tz": 360
    },
    "id": "4NFkREzV88_h",
    "outputId": "87282da9-fc1f-4c0e-8eb4-e577865e7bf1"
   },
   "outputs": [],
   "source": [
    "#@title Mediana\n"
   ]
  },
  {
   "cell_type": "code",
   "execution_count": null,
   "metadata": {
    "colab": {
     "base_uri": "https://localhost:8080/"
    },
    "executionInfo": {
     "elapsed": 188,
     "status": "ok",
     "timestamp": 1675221033893,
     "user": {
      "displayName": "Carlos Arellano",
      "userId": "03055712073717640513"
     },
     "user_tz": 360
    },
    "id": "3hjd9PiX9DLv",
    "outputId": "8a399517-e82c-47fc-da75-060a60387014"
   },
   "outputs": [],
   "source": []
  },
  {
   "cell_type": "code",
   "execution_count": null,
   "metadata": {
    "colab": {
     "base_uri": "https://localhost:8080/"
    },
    "executionInfo": {
     "elapsed": 153,
     "status": "ok",
     "timestamp": 1675221156594,
     "user": {
      "displayName": "Carlos Arellano",
      "userId": "03055712073717640513"
     },
     "user_tz": 360
    },
    "id": "mpZD3yYZ9GGS",
    "outputId": "44b27f28-b867-4f69-bd79-dcbd0abfa165"
   },
   "outputs": [],
   "source": [
    "#@title Cuantiles o percentiles\n",
    "# Primer cuartíl"
   ]
  },
  {
   "cell_type": "code",
   "execution_count": null,
   "metadata": {
    "colab": {
     "base_uri": "https://localhost:8080/"
    },
    "executionInfo": {
     "elapsed": 200,
     "status": "ok",
     "timestamp": 1675221208394,
     "user": {
      "displayName": "Carlos Arellano",
      "userId": "03055712073717640513"
     },
     "user_tz": 360
    },
    "id": "LQEoHQn29kER",
    "outputId": "df1f9e58-9258-4b73-f695-e07d1aa88ec7"
   },
   "outputs": [],
   "source": [
    "# Primer decíl"
   ]
  },
  {
   "cell_type": "code",
   "execution_count": null,
   "metadata": {
    "colab": {
     "base_uri": "https://localhost:8080/"
    },
    "executionInfo": {
     "elapsed": 166,
     "status": "ok",
     "timestamp": 1675221250286,
     "user": {
      "displayName": "Carlos Arellano",
      "userId": "03055712073717640513"
     },
     "user_tz": 360
    },
    "id": "jh8c6_pA9wsf",
    "outputId": "18607f6d-47d2-4820-a1a8-48565e831989"
   },
   "outputs": [],
   "source": []
  },
  {
   "cell_type": "code",
   "execution_count": null,
   "metadata": {
    "colab": {
     "base_uri": "https://localhost:8080/"
    },
    "executionInfo": {
     "elapsed": 152,
     "status": "ok",
     "timestamp": 1675221288542,
     "user": {
      "displayName": "Carlos Arellano",
      "userId": "03055712073717640513"
     },
     "user_tz": 360
    },
    "id": "8VXDbiMC967n",
    "outputId": "64ccc8a1-31f7-401d-c47b-bd4eaa0820a5"
   },
   "outputs": [],
   "source": [
    "# Primero, segundo y tercer cuartíl"
   ]
  },
  {
   "cell_type": "code",
   "execution_count": null,
   "metadata": {
    "colab": {
     "base_uri": "https://localhost:8080/"
    },
    "executionInfo": {
     "elapsed": 161,
     "status": "ok",
     "timestamp": 1675221348553,
     "user": {
      "displayName": "Carlos Arellano",
      "userId": "03055712073717640513"
     },
     "user_tz": 360
    },
    "id": "CPaEbF9v-ERm",
    "outputId": "f197463c-e572-4f43-cae4-3652a9a2dc27"
   },
   "outputs": [],
   "source": []
  },
  {
   "cell_type": "code",
   "execution_count": null,
   "metadata": {
    "colab": {
     "base_uri": "https://localhost:8080/"
    },
    "executionInfo": {
     "elapsed": 156,
     "status": "ok",
     "timestamp": 1675221418305,
     "user": {
      "displayName": "Carlos Arellano",
      "userId": "03055712073717640513"
     },
     "user_tz": 360
    },
    "id": "UheVXfTb-S6w",
    "outputId": "82294f42-0363-4a41-f66d-58526df36cec"
   },
   "outputs": [],
   "source": [
    "# '_'  ->  último elemento mostrado"
   ]
  },
  {
   "cell_type": "code",
   "execution_count": null,
   "metadata": {
    "colab": {
     "base_uri": "https://localhost:8080/"
    },
    "executionInfo": {
     "elapsed": 159,
     "status": "ok",
     "timestamp": 1675221492112,
     "user": {
      "displayName": "Carlos Arellano",
      "userId": "03055712073717640513"
     },
     "user_tz": 360
    },
    "id": "4HhNMRak-j9P",
    "outputId": "6d83ce4f-68a4-4972-89e0-31fa149e7247"
   },
   "outputs": [],
   "source": [
    "# Primer cuartíl"
   ]
  },
  {
   "cell_type": "markdown",
   "metadata": {
    "id": "glUWjCPVlhLr"
   },
   "source": [
    "# Medidas de disperción"
   ]
  },
  {
   "cell_type": "code",
   "execution_count": null,
   "metadata": {
    "colab": {
     "base_uri": "https://localhost:8080/",
     "height": 176
    },
    "executionInfo": {
     "elapsed": 196,
     "status": "ok",
     "timestamp": 1675819402758,
     "user": {
      "displayName": "Carlos Arellano",
      "userId": "03055712073717640513"
     },
     "user_tz": 360
    },
    "id": "RFnn0kBjljos",
    "outputId": "7aea815d-4829-4380-da62-074ae6240ca6"
   },
   "outputs": [],
   "source": [
    "#@title Varianza y desviación estandar\n"
   ]
  },
  {
   "cell_type": "code",
   "execution_count": null,
   "metadata": {
    "colab": {
     "base_uri": "https://localhost:8080/"
    },
    "executionInfo": {
     "elapsed": 192,
     "status": "ok",
     "timestamp": 1675819426807,
     "user": {
      "displayName": "Carlos Arellano",
      "userId": "03055712073717640513"
     },
     "user_tz": 360
    },
    "id": "6qKEccbrnsOm",
    "outputId": "a90ebfe6-7bbc-458f-c4f6-5e90cfc577c5"
   },
   "outputs": [],
   "source": [
    "# Varianza muestral"
   ]
  },
  {
   "cell_type": "code",
   "execution_count": null,
   "metadata": {
    "colab": {
     "base_uri": "https://localhost:8080/"
    },
    "executionInfo": {
     "elapsed": 7,
     "status": "ok",
     "timestamp": 1675819434734,
     "user": {
      "displayName": "Carlos Arellano",
      "userId": "03055712073717640513"
     },
     "user_tz": 360
    },
    "id": "IltXH6a9nyGE",
    "outputId": "fd9d96d1-e6ed-4318-f3ea-9c8d94d41b14"
   },
   "outputs": [],
   "source": [
    "# Desviación estandar muestral"
   ]
  },
  {
   "cell_type": "code",
   "execution_count": null,
   "metadata": {
    "colab": {
     "base_uri": "https://localhost:8080/"
    },
    "executionInfo": {
     "elapsed": 206,
     "status": "ok",
     "timestamp": 1675819466831,
     "user": {
      "displayName": "Carlos Arellano",
      "userId": "03055712073717640513"
     },
     "user_tz": 360
    },
    "id": "5g6TAT9dn4VB",
    "outputId": "3276a8c7-8e8f-492f-adcc-c69bb3cc4e7a"
   },
   "outputs": [],
   "source": []
  },
  {
   "cell_type": "code",
   "execution_count": null,
   "metadata": {
    "colab": {
     "base_uri": "https://localhost:8080/"
    },
    "executionInfo": {
     "elapsed": 207,
     "status": "ok",
     "timestamp": 1675819532736,
     "user": {
      "displayName": "Carlos Arellano",
      "userId": "03055712073717640513"
     },
     "user_tz": 360
    },
    "id": "Cz0GseDVn73c",
    "outputId": "a55ba2b6-d1fb-4349-a9ca-3597cf584f4e"
   },
   "outputs": [],
   "source": [
    "# Varianza del conjunto completo"
   ]
  },
  {
   "cell_type": "code",
   "execution_count": null,
   "metadata": {
    "colab": {
     "base_uri": "https://localhost:8080/"
    },
    "executionInfo": {
     "elapsed": 3,
     "status": "ok",
     "timestamp": 1675819537954,
     "user": {
      "displayName": "Carlos Arellano",
      "userId": "03055712073717640513"
     },
     "user_tz": 360
    },
    "id": "GC0eLJTgoL98",
    "outputId": "cc343849-42c7-46cb-a18f-f0b1fb859af6"
   },
   "outputs": [],
   "source": [
    "# Std del conjunto completo"
   ]
  },
  {
   "cell_type": "code",
   "execution_count": null,
   "metadata": {
    "colab": {
     "base_uri": "https://localhost:8080/"
    },
    "executionInfo": {
     "elapsed": 176,
     "status": "ok",
     "timestamp": 1675819664961,
     "user": {
      "displayName": "Carlos Arellano",
      "userId": "03055712073717640513"
     },
     "user_tz": 360
    },
    "id": "KmXjzNaRooAi",
    "outputId": "0943184a-01bf-4b9e-fc33-1ef86b153acb"
   },
   "outputs": [],
   "source": [
    "# Varianza del conjunto completo"
   ]
  },
  {
   "cell_type": "code",
   "execution_count": null,
   "metadata": {
    "executionInfo": {
     "elapsed": 184,
     "status": "ok",
     "timestamp": 1675819671048,
     "user": {
      "displayName": "Carlos Arellano",
      "userId": "03055712073717640513"
     },
     "user_tz": 360
    },
    "id": "2MkOA8azosP0"
   },
   "outputs": [],
   "source": []
  },
  {
   "cell_type": "code",
   "execution_count": null,
   "metadata": {
    "colab": {
     "base_uri": "https://localhost:8080/"
    },
    "executionInfo": {
     "elapsed": 206,
     "status": "ok",
     "timestamp": 1675819773500,
     "user": {
      "displayName": "Carlos Arellano",
      "userId": "03055712073717640513"
     },
     "user_tz": 360
    },
    "id": "DHJCjQVGpCWp",
    "outputId": "b392f561-aeca-485f-8c30-ea01fb3d1e41"
   },
   "outputs": [],
   "source": [
    "# Std del conjunto completo"
   ]
  },
  {
   "cell_type": "code",
   "execution_count": null,
   "metadata": {
    "colab": {
     "base_uri": "https://localhost:8080/"
    },
    "executionInfo": {
     "elapsed": 190,
     "status": "ok",
     "timestamp": 1675819843542,
     "user": {
      "displayName": "Carlos Arellano",
      "userId": "03055712073717640513"
     },
     "user_tz": 360
    },
    "id": "B3yahJ6EpGr0",
    "outputId": "bce50ccf-151b-49d1-bd27-93ae37984254"
   },
   "outputs": [],
   "source": [
    "#@title Rango\n",
    "\n",
    "# Desde Pandas"
   ]
  },
  {
   "cell_type": "code",
   "execution_count": null,
   "metadata": {
    "colab": {
     "base_uri": "https://localhost:8080/"
    },
    "executionInfo": {
     "elapsed": 185,
     "status": "ok",
     "timestamp": 1675819874482,
     "user": {
      "displayName": "Carlos Arellano",
      "userId": "03055712073717640513"
     },
     "user_tz": 360
    },
    "id": "knNhvgArpX10",
    "outputId": "89ab45e3-41a1-4d61-c73e-039ef18d22b3"
   },
   "outputs": [],
   "source": [
    "# Desde Numpy"
   ]
  },
  {
   "cell_type": "code",
   "execution_count": null,
   "metadata": {
    "colab": {
     "base_uri": "https://localhost:8080/"
    },
    "executionInfo": {
     "elapsed": 228,
     "status": "ok",
     "timestamp": 1675819896295,
     "user": {
      "displayName": "Carlos Arellano",
      "userId": "03055712073717640513"
     },
     "user_tz": 360
    },
    "id": "OHfDdtFapfat",
    "outputId": "9e561661-33f1-4ee0-f511-384a5ad73a71"
   },
   "outputs": [],
   "source": []
  },
  {
   "cell_type": "code",
   "execution_count": null,
   "metadata": {
    "colab": {
     "base_uri": "https://localhost:8080/"
    },
    "executionInfo": {
     "elapsed": 184,
     "status": "ok",
     "timestamp": 1675819918403,
     "user": {
      "displayName": "Carlos Arellano",
      "userId": "03055712073717640513"
     },
     "user_tz": 360
    },
    "id": "qelPpUmTpkts",
    "outputId": "7dda7183-7b8f-415e-8e65-b32fb06addcd"
   },
   "outputs": [],
   "source": []
  },
  {
   "cell_type": "code",
   "execution_count": null,
   "metadata": {
    "colab": {
     "base_uri": "https://localhost:8080/"
    },
    "executionInfo": {
     "elapsed": 201,
     "status": "ok",
     "timestamp": 1675819957963,
     "user": {
      "displayName": "Carlos Arellano",
      "userId": "03055712073717640513"
     },
     "user_tz": 360
    },
    "id": "GJ5ORbUZpqG8",
    "outputId": "8ca72c78-ad8f-45d4-ce52-133d992f6a8a"
   },
   "outputs": [],
   "source": []
  },
  {
   "cell_type": "code",
   "execution_count": null,
   "metadata": {
    "colab": {
     "base_uri": "https://localhost:8080/"
    },
    "executionInfo": {
     "elapsed": 193,
     "status": "ok",
     "timestamp": 1675820007086,
     "user": {
      "displayName": "Carlos Arellano",
      "userId": "03055712073717640513"
     },
     "user_tz": 360
    },
    "id": "ycSHJhETpzxU",
    "outputId": "aef62374-632e-43d1-c8a1-f1d00807c170"
   },
   "outputs": [],
   "source": []
  },
  {
   "cell_type": "code",
   "execution_count": null,
   "metadata": {
    "colab": {
     "base_uri": "https://localhost:8080/",
     "height": 35
    },
    "executionInfo": {
     "elapsed": 187,
     "status": "ok",
     "timestamp": 1675820045333,
     "user": {
      "displayName": "Carlos Arellano",
      "userId": "03055712073717640513"
     },
     "user_tz": 360
    },
    "id": "O11gqL34p_sM",
    "outputId": "51c5a7f6-7e6b-45d2-95b1-81584e55621c"
   },
   "outputs": [],
   "source": []
  },
  {
   "cell_type": "code",
   "execution_count": null,
   "metadata": {
    "colab": {
     "base_uri": "https://localhost:8080/"
    },
    "executionInfo": {
     "elapsed": 266,
     "status": "ok",
     "timestamp": 1675820130130,
     "user": {
      "displayName": "Carlos Arellano",
      "userId": "03055712073717640513"
     },
     "user_tz": 360
    },
    "id": "u4Z8gr2AqJHE",
    "outputId": "52fde262-a5e1-4112-c747-60ca65fb4ac3"
   },
   "outputs": [],
   "source": []
  },
  {
   "cell_type": "code",
   "execution_count": null,
   "metadata": {
    "colab": {
     "base_uri": "https://localhost:8080/"
    },
    "executionInfo": {
     "elapsed": 182,
     "status": "ok",
     "timestamp": 1675820183081,
     "user": {
      "displayName": "Carlos Arellano",
      "userId": "03055712073717640513"
     },
     "user_tz": 360
    },
    "id": "_MwiYBy7qdu0",
    "outputId": "cdaaab8e-1cf1-4738-fa9e-a9aa622022e2"
   },
   "outputs": [],
   "source": [
    "#@title Rango intercuartílico\n"
   ]
  },
  {
   "cell_type": "code",
   "execution_count": null,
   "metadata": {
    "colab": {
     "base_uri": "https://localhost:8080/"
    },
    "executionInfo": {
     "elapsed": 198,
     "status": "ok",
     "timestamp": 1675820266900,
     "user": {
      "displayName": "Carlos Arellano",
      "userId": "03055712073717640513"
     },
     "user_tz": 360
    },
    "id": "PMiv4rCBqqvr",
    "outputId": "a6715d93-7cb0-4ed8-b372-39fb6f744081"
   },
   "outputs": [],
   "source": []
  },
  {
   "cell_type": "code",
   "execution_count": null,
   "metadata": {
    "colab": {
     "base_uri": "https://localhost:8080/"
    },
    "executionInfo": {
     "elapsed": 167,
     "status": "ok",
     "timestamp": 1675820441451,
     "user": {
      "displayName": "Carlos Arellano",
      "userId": "03055712073717640513"
     },
     "user_tz": 360
    },
    "id": "B5CuaRYArSok",
    "outputId": "bb5fabdf-a2ff-41ee-d776-d882a137ba64"
   },
   "outputs": [],
   "source": [
    "#@title Cueficiente de variación de Pearson\n"
   ]
  },
  {
   "cell_type": "markdown",
   "metadata": {
    "id": "hqjVW-GowiDv"
   },
   "source": [
    "# Medidas de forma"
   ]
  },
  {
   "cell_type": "code",
   "execution_count": null,
   "metadata": {
    "colab": {
     "base_uri": "https://localhost:8080/"
    },
    "executionInfo": {
     "elapsed": 3,
     "status": "ok",
     "timestamp": 1675821777972,
     "user": {
      "displayName": "Carlos Arellano",
      "userId": "03055712073717640513"
     },
     "user_tz": 360
    },
    "id": "N-cU4s_owkfK",
    "outputId": "fd89d67b-fc30-4bc7-af65-d3f3f42509e5"
   },
   "outputs": [],
   "source": [
    "#@title Coeficiente de Fisher (Simetría/Sesgo)\n"
   ]
  },
  {
   "cell_type": "markdown",
   "metadata": {},
   "source": [
    "> Afisher > 0 : Asimetría positiva (cargado a la derecha) \n",
    "\n",
    "> Afisher < 0 : Asimetría negativa (cargado a la izquierda) \n",
    "\n",
    "> Afisher = 0 : simétrica"
   ]
  },
  {
   "cell_type": "code",
   "execution_count": null,
   "metadata": {
    "colab": {
     "base_uri": "https://localhost:8080/",
     "height": 282
    },
    "executionInfo": {
     "elapsed": 753,
     "status": "ok",
     "timestamp": 1675821889085,
     "user": {
      "displayName": "Carlos Arellano",
      "userId": "03055712073717640513"
     },
     "user_tz": 360
    },
    "id": "hF6Tvca3wwKy",
    "outputId": "ba14b2dd-fd7b-471a-e563-b362677eff62"
   },
   "outputs": [],
   "source": []
  },
  {
   "cell_type": "code",
   "execution_count": null,
   "metadata": {
    "colab": {
     "base_uri": "https://localhost:8080/"
    },
    "executionInfo": {
     "elapsed": 133,
     "status": "ok",
     "timestamp": 1675821916653,
     "user": {
      "displayName": "Carlos Arellano",
      "userId": "03055712073717640513"
     },
     "user_tz": 360
    },
    "id": "-bRLOjdixKcr",
    "outputId": "c70e3fbb-64ba-4bd4-a3ea-66471d7023e4"
   },
   "outputs": [],
   "source": []
  },
  {
   "cell_type": "code",
   "execution_count": null,
   "metadata": {
    "colab": {
     "base_uri": "https://localhost:8080/",
     "height": 282
    },
    "executionInfo": {
     "elapsed": 191,
     "status": "ok",
     "timestamp": 1675821990923,
     "user": {
      "displayName": "Carlos Arellano",
      "userId": "03055712073717640513"
     },
     "user_tz": 360
    },
    "id": "-8mHnVbgxSA6",
    "outputId": "62ccc9e1-38c0-4ce5-bb3a-31ec70f73bb8"
   },
   "outputs": [],
   "source": []
  },
  {
   "cell_type": "code",
   "execution_count": null,
   "metadata": {
    "colab": {
     "base_uri": "https://localhost:8080/",
     "height": 282
    },
    "executionInfo": {
     "elapsed": 646,
     "status": "ok",
     "timestamp": 1675822021497,
     "user": {
      "displayName": "Carlos Arellano",
      "userId": "03055712073717640513"
     },
     "user_tz": 360
    },
    "id": "J-vYK6qIxh2y",
    "outputId": "609f9394-04e3-4b04-ecec-1e957ae7474b"
   },
   "outputs": [],
   "source": []
  },
  {
   "cell_type": "code",
   "execution_count": null,
   "metadata": {},
   "outputs": [],
   "source": []
  },
  {
   "cell_type": "code",
   "execution_count": null,
   "metadata": {
    "colab": {
     "base_uri": "https://localhost:8080/"
    },
    "executionInfo": {
     "elapsed": 133,
     "status": "ok",
     "timestamp": 1675822130961,
     "user": {
      "displayName": "Carlos Arellano",
      "userId": "03055712073717640513"
     },
     "user_tz": 360
    },
    "id": "7BWzN0v3yAR5",
    "outputId": "b7c4e118-05e0-4b4c-e976-eb3eeefed126"
   },
   "outputs": [],
   "source": [
    "#@title Apuntamiento o Curtósis\n"
   ]
  },
  {
   "cell_type": "code",
   "execution_count": null,
   "metadata": {},
   "outputs": [],
   "source": []
  },
  {
   "cell_type": "code",
   "execution_count": null,
   "metadata": {},
   "outputs": [],
   "source": []
  },
  {
   "cell_type": "code",
   "execution_count": null,
   "metadata": {},
   "outputs": [],
   "source": []
  }
 ],
 "metadata": {
  "colab": {
   "authorship_tag": "ABX9TyMMCOzfKTu0WXBeOWxUgxmK",
   "provenance": []
  },
  "kernelspec": {
   "display_name": "Python 3 (ipykernel)",
   "language": "python",
   "name": "python3"
  },
  "language_info": {
   "codemirror_mode": {
    "name": "ipython",
    "version": 3
   },
   "file_extension": ".py",
   "mimetype": "text/x-python",
   "name": "python",
   "nbconvert_exporter": "python",
   "pygments_lexer": "ipython3",
   "version": "3.8.8"
  }
 },
 "nbformat": 4,
 "nbformat_minor": 1
}
