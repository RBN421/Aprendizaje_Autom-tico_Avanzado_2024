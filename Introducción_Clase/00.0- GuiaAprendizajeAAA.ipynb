{
 "cells": [
  {
   "cell_type": "markdown",
   "metadata": {},
   "source": [
    "<img style=\"float: left;;\" src='Figures/alinco.png' /></a>\n",
    "    \n",
    "# <center> <font color= #000047> Aprendizaje Automático Avanzado.</font>"
   ]
  },
  {
   "cell_type": "markdown",
   "metadata": {},
   "source": [
    "___\n",
    "\n",
    "<img style=\"float: right; margin: 0px 0px 15px 15px;\" src=\"https://idavinci.es/wp-content/uploads/2018/12/machinelearning.png\" width=\"500px\" height=\"500px\" />\n",
    "\n",
    "#### <font color= #2E9AFE>  `Viernes (17:00 a 21:00 hrs)`</font>\n",
    "#### <font color= #2E9AFE>` Sábados (9:00 a 13:00 hrs) ` </font>\n",
    "- <Strong> Gaddiel Desirena López </Strong>\n",
    "\n",
    "- <Strong> Año </Strong>: 2024\n",
    "\n",
    "- <Strong> Email: </Strong>  <font color=\"blue\"> `gdesirena@gmail.com` </font>\n",
    "___"
   ]
  },
  {
   "cell_type": "markdown",
   "metadata": {},
   "source": [
    "### `Presentación mía`\n",
    "___"
   ]
  },
  {
   "cell_type": "markdown",
   "metadata": {},
   "source": [
    "### `Presentación de ustedes`\n",
    "___"
   ]
  },
  {
   "cell_type": "markdown",
   "metadata": {},
   "source": [
    "### `Algunas reglas de juego`\n",
    "\n",
    "- Deben asistir, mínimo, al 80% de las clases para tener derecho a calificación.\n",
    "- La regla más importante de todas (regla de oro): todas las entregas se realizan a través de la plataforma de ALINNCO los plazos asignados. No se aceptan trabajos fuera de la plataforma ni fuera de plazo. \n",
    "___"
   ]
  },
  {
   "cell_type": "markdown",
   "metadata": {},
   "source": [
    "### `Horario de asesoría`\n",
    "\n",
    "Miércoles 18:00 hrs, otros días: **Escribirme mensaje/correo con anticipación para coordinarnos**\n",
    "___"
   ]
  },
  {
   "cell_type": "markdown",
   "metadata": {},
   "source": [
    "### `Descripción de la asignatura`\n",
    "\n",
    "Una de las ramas de estudio que cada vez esta ganando más popularidad dentro de las [ciencias de la computación](https://es.wikipedia.org/wiki/Ciencias_de_la_computaci%C3%B3n) es el ***aprendizaje automático*** o ***[Machine Learning](https://es.wikipedia.org/wiki/Aprendizaje_autom%C3%A1tico)***. Muchos de los servicios que utilizamos en nuestro día a día como google, gmail, netflix, spotify o amazon se valen de las herramientas que les brinda el [Machine Learning](https://es.wikipedia.org/wiki/Aprendizaje_autom%C3%A1tico) para alcanzar un servicio cada vez más personalizado y lograr así ventajas competitivas sobre sus rivales. \n",
    "\n"
   ]
  },
  {
   "cell_type": "markdown",
   "metadata": {},
   "source": [
    "#### `OBJETIVO GENERAL `\n",
    ">  <p style='text-align: justify;'> Aprender aplicar los conceptos, principios, teorías y modelos relacionados con el área de de ingeniería de datos e inteligencia artificial; diseñar y desarrollar sistemas inteligentes y sus aplicaciones; Conocer y comprender las técnicas avanzadas de resolución de problemas de Inteligencia Artificial derivadas de los tres tipos de aprendizaje, y su integración en sistemas de información.</p>\n",
    "\n",
    "#### `OBJETIVOS ESPECÍFICOS`\n",
    "\n",
    "\n",
    "* Introducir la generación de modelos de datos apartir de la ingeniería de datos.\n",
    "* Comprender con la práctica el funcionamiento de las distintas técnicas de ML avanzadas.\n",
    "* Entender, desde un punto de vista práctico, cómo utilizar ML para darle un **agregado de valor** a los sistemas de información.\n",
    "___"
   ]
  },
  {
   "cell_type": "markdown",
   "metadata": {},
   "source": [
    "### `CONTENIDO TEMÁTICO`"
   ]
  },
  {
   "cell_type": "markdown",
   "metadata": {},
   "source": [
    "\n",
    "`Introducción.` **Introducción al Aprendizaje Supervisado y No Supervisado**\n",
    "\n",
    "1. Introducción. \n",
    "2. Repaso Librerías básicas para Aprendizaje Auntomático en Python.\n",
    "3. Extracción y procesamiento de datos de diferentes fuentes.\n",
    "4. Identificación de Datos.\n",
    "    \n",
    "   \n",
    "`Módulo 1.` **Ingeniería de características**\n",
    "\n",
    "1. Tratamiento de datos.\n",
    "    - Tratamiento de datos.\n",
    "    - Visualización de datos faltantes\n",
    "    - Sustitución de datos faltantes.\n",
    "    - Valores exrtremos\n",
    "    \n",
    "\n",
    "2. Codificación de variables categóricas.\n",
    "    - Creación de variables binarias\n",
    "    - Codificación con base a la media\n",
    "    - Codificación de variables categóricas ordinales\n",
    "    - Conteo de categorías\n",
    "    - Feature Hashing\n",
    "    \n",
    " 3. Equilibrio entre Varianza y Sesgo.\n",
    "    - Validación cruzada.\n",
    "    - Curvas ROC.\n",
    "    \n",
    " `Módulo 2.` **Transformaciones de variables**\n",
    "\n",
    "            \n",
    "1. Transformación de variables numéricas.\n",
    "    - Transformaciones lineales\n",
    "    - Escalamiento y transformación\n",
    "    - Logaritmico y recíproco\n",
    "    - Potenciación\n",
    "\n",
    "2. Discretización.\n",
    "    - Ancho y frecuencia constante.\n",
    "    - Discretización por Arboles de desición.\n",
    "    - Discretización por Kmeans.\n",
    "\n",
    "3. Análisis principal de componentes.\n",
    "    - PCA repaso\n",
    "    - PCR (principal component regression)\n",
    "    - PLS (partial least-squares regression)\n",
    "    - Linear discriminant Analysis (LDA)\n",
    "    \n",
    "4. Extracción de características en series de tiempo.\n",
    "\n",
    "`Módulo 3.` **Modelos Avanzados de Aprendizaje Supervizado.**\n",
    "1. Máquinas de Vector Soporte (SVM)\n",
    "    - Kernels en SVM\n",
    "    \n",
    "2. Concepto general y Tipos de redes neuronales artificiales: \n",
    "    - Perceptron.\n",
    "\n",
    "3. Redes Neuronales Convolucionales..\n",
    "    - Ejercicios en python.\n",
    "\n",
    "4. Arquitecturas recurrentes con compuertas: LSTM y GRU.\n",
    "    - Ejercicios en python.\n",
    "    \n",
    "5. Introducción al aprendizaje por refuerzo."
   ]
  },
  {
   "cell_type": "markdown",
   "metadata": {},
   "source": [
    "### `Evaluación`\n",
    "\n",
    "- Quizes 30%\n",
    "- Tareas y Actividades 30%\n",
    "- Proyecto Final 40%"
   ]
  },
  {
   "cell_type": "markdown",
   "metadata": {},
   "source": [
    "### `Bibliografía `"
   ]
  },
  {
   "cell_type": "markdown",
   "metadata": {},
   "source": [
    "> \n",
    "```\n",
    "\n",
    "- MACKAY, D. J.C. Information Theory, Inference, and Learning Algorithms. Cambridge: Cambridge\n",
    "University Press, 2003. 640 pp. (Cuarta impresión, versión 7.2)\n",
    "- DEISENROTH, M. P., Aldo Faisal, and Cheng Soon Ong. Mathematics for Machine Learning.\n",
    "Published by Cambridge University Press.2020. On line ISBN: 9781108679930\n",
    "- BISHOP, C. M. Pattern Recognition and Machine Learning. Singapore: Springer, 2006. 758 pp. ISBN10: 0-387-31073-8\n",
    "- MOHRI, M., A. Rostamizadeh, and A. Talwalkar. Foundations of Machine Learning. Cambridge: The MIT Press,2012. 427 pp. ISBN 978-0-262-01825-8\n",
    "- Eisenstein, J. (2018). Natural Language Processing.\n",
    "https://github.com/jacobeisenstein/gt-nlpclass/blob/master/notes/eisenstein-nlp-notes.pdf\n",
    "- Jurafsky, D. and Martin, J. (2020). Speech and Language Processing (3rd\n",
    "ed. Draft)\n",
    "- Goldberg, Y. (2015). A Primer on Neural Network Models for Natural Language Processing\n",
    "```\n"
   ]
  },
  {
   "cell_type": "code",
   "execution_count": null,
   "metadata": {},
   "outputs": [],
   "source": []
  }
 ],
 "metadata": {
  "anaconda-cloud": {},
  "kernelspec": {
   "display_name": "Python 3 (ipykernel)",
   "language": "python",
   "name": "python3"
  },
  "language_info": {
   "codemirror_mode": {
    "name": "ipython",
    "version": 3
   },
   "file_extension": ".py",
   "mimetype": "text/x-python",
   "name": "python",
   "nbconvert_exporter": "python",
   "pygments_lexer": "ipython3",
   "version": "3.8.8"
  }
 },
 "nbformat": 4,
 "nbformat_minor": 1
}
