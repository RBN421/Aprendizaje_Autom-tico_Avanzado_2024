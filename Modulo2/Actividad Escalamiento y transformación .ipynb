{
 "cells": [
  {
   "cell_type": "markdown",
   "id": "e57d8ad2",
   "metadata": {},
   "source": [
    "<img style=\"float: left;;\" src='Figures/alinco.png' /></a>\n",
    "# <center> <font color= #000047> Actividad Escalamiento y transformación</font> </center>"
   ]
  },
  {
   "cell_type": "markdown",
   "id": "d4d3b2c1",
   "metadata": {},
   "source": [
    "## 1. Enunciado Ejercicio 1\n",
    "\n",
    "En el archivo `Escalamiento.xlsx` se encuentran dos variables, las cuales se pretenden analizar para una posterior predicción.\n",
    "\n",
    "Se entrenará una red neuronal con la variable $x_1$ usando una **función de activación sigmoidal unipolar o función signmoide, para la cual los valores de salida están siempre en el rango (0, 1)**, y la variable $x_2$ se usará para entrenar una red neuronal con una **función de activación de tangente hiperbólica, comúnmente conocida como \"tanh\", cuyos valores de salida están siempre en el rango (-1, 1)**.\n",
    "\n",
    "Use el escalamiento adecuado para cada variable con la finalidad de que la red neuronal opere en el rango de cada función de activación.\n",
    "\n",
    "Transforme cada variable usando una función de potencia, con el fin de maximizar la probabilidad de obtener una distribución Normal."
   ]
  },
  {
   "cell_type": "markdown",
   "id": "79346a34",
   "metadata": {},
   "source": [
    "## 2.  Solución Ejercicio 1"
   ]
  },
  {
   "cell_type": "markdown",
   "id": "fce19aa1",
   "metadata": {},
   "source": [
    "### 2.1. Importación de Librerías\n",
    "\n",
    "* **pandas:** Manipulación y análisis de datos (datos estructurados y series temporales) en Python.\n",
    "* **MinMaxScaler:** Escala características a un rango específico, normalmente (0,1), ideal para normalizar valores.\n",
    "* **StandardScaler:** Estandariza características a una media de cero y varianza de uno, esencial para muchos modelos de aprendizaje automático.\n",
    "* **PowerTransformer:** Transforma características para aproximarse a una distribución gaussiana, útil para modelos que necesitan datos normalmente distribuidos."
   ]
  },
  {
   "cell_type": "code",
   "execution_count": null,
   "id": "113fd07c",
   "metadata": {},
   "outputs": [],
   "source": []
  },
  {
   "cell_type": "markdown",
   "id": "dea79001",
   "metadata": {},
   "source": [
    "### 2.2. Lectura de archivo"
   ]
  },
  {
   "cell_type": "code",
   "execution_count": null,
   "id": "ca0195f4",
   "metadata": {},
   "outputs": [],
   "source": []
  },
  {
   "cell_type": "markdown",
   "id": "5314d7df",
   "metadata": {},
   "source": [
    "### 2.3. Escalamiento de los datos"
   ]
  },
  {
   "cell_type": "code",
   "execution_count": null,
   "id": "a3a44460",
   "metadata": {},
   "outputs": [],
   "source": [
    "# Escalamiento de x1 con función de activación Sigmoidal: de 0 a 1\n",
    "\n",
    "# Escalamiento de x2 con función de Tangente hiperbólica: de -1 a 1\n"
   ]
  },
  {
   "cell_type": "code",
   "execution_count": null,
   "id": "b474937a",
   "metadata": {},
   "outputs": [],
   "source": [
    "df.head()"
   ]
  },
  {
   "cell_type": "markdown",
   "id": "373214b2",
   "metadata": {},
   "source": [
    "### 2.4. Transformaciones de potencia\n",
    "\n",
    "Yeo-Johnson puede manejar valores positivos y negativos, por lo tanto se puede utilizar para transformaciones de potencia de x1 y x2."
   ]
  },
  {
   "cell_type": "code",
   "execution_count": null,
   "id": "62ba296c",
   "metadata": {},
   "outputs": [],
   "source": [
    "# Preparación de los transformadores de potencia con Yeo-Johnson porque puede manejar valores positivos y negativos\n",
    "\n",
    "# Aplica las transformaciones de potencia\n"
   ]
  },
  {
   "cell_type": "markdown",
   "id": "41aa192d",
   "metadata": {},
   "source": [
    "### 2.5. Combinación de datos en un dataframe para facilidad de visualización"
   ]
  },
  {
   "cell_type": "code",
   "execution_count": null,
   "id": "11ece34c",
   "metadata": {},
   "outputs": [],
   "source": [
    "# Combinar los datos transformados de nuevo en un dataframe para graficarlos\n",
    "\n",
    "# Mostrar las primeras filas de datos transformados\n"
   ]
  },
  {
   "cell_type": "code",
   "execution_count": null,
   "id": "aec88eec",
   "metadata": {},
   "outputs": [],
   "source": []
  },
  {
   "cell_type": "markdown",
   "id": "5b232e01",
   "metadata": {},
   "source": [
    "## 3. Enunciado Ejercicio 2"
   ]
  },
  {
   "cell_type": "markdown",
   "id": "bdb6c75c",
   "metadata": {},
   "source": [
    "En el archivo `compra_alquila.xlsx` se encuentran los datos de personas con sus ingresos, gastos comunes, estado civil, trabajo, etc.. que brindan información sobre si esa persona compró una casa o alquiló una casa. \n",
    "\n",
    "Con esta información, se requiere entrenar un algoritmo de machine learning que prediga si alguna persona comprará o alquilará una casa, es decir queremos que el algoritmo aprenda y que como resultado nos dé una **decisión sobre comprar (1) o alquilar (0) casa**.\n",
    "\n",
    "Obtenga un modelo de datos aplicando codificación de variables, escalamiento y transformaciones (**obtenga histogramas y comente el método que se utilizó para la transformación de cada variable**). Seleccione las columnas de entrada $X$ y salida $Y$ para entrenar un regresor logístico con un **accuracy arriba del 80%**. Use como **salida la variable `comprar`.**"
   ]
  },
  {
   "cell_type": "markdown",
   "id": "68d3c0d5",
   "metadata": {},
   "source": [
    "## 4. Ejercicio 2"
   ]
  },
  {
   "cell_type": "markdown",
   "id": "36ca8ccf",
   "metadata": {},
   "source": [
    "### 4.1. Importación de Librerías\n",
    "\n",
    "* **pandas:** Manipulación y análisis de datos (datos estructurados y series temporales) en Python.\n",
    "* **StandardScaler:** Estandariza características a una media de cero y varianza de uno, esencial para muchos modelos de aprendizaje automático.\n",
    "* **train_test_split**: Divide los datos en conjuntos de entrenamiento y prueba.\n",
    "* **LogisticRegression**: Implementa el algoritmo de Regresión Logística para clasificación.\n",
    "* **accuracy_score**: Mide la precisión de un modelo de clasificación.\n",
    "* **pyplot**: Módulo de Matplotlib en Python que se usa para crear y personalizar gráficos de forma sencilla."
   ]
  },
  {
   "cell_type": "code",
   "execution_count": null,
   "id": "c35c4f90",
   "metadata": {},
   "outputs": [],
   "source": [
    "import pandas as pd\n",
    "from sklearn.preprocessing import StandardScaler\n",
    "from sklearn.model_selection import train_test_split\n",
    "from sklearn.linear_model import LogisticRegression\n",
    "from sklearn.metrics import accuracy_score\n",
    "import matplotlib.pyplot as plt"
   ]
  },
  {
   "cell_type": "markdown",
   "id": "82fd3cd2",
   "metadata": {},
   "source": [
    "### 4.2. Lectura de archivo"
   ]
  },
  {
   "cell_type": "code",
   "execution_count": null,
   "id": "3330183c",
   "metadata": {},
   "outputs": [],
   "source": []
  },
  {
   "cell_type": "code",
   "execution_count": null,
   "id": "eaf4cc95",
   "metadata": {},
   "outputs": [],
   "source": []
  },
  {
   "cell_type": "code",
   "execution_count": null,
   "id": "b21d08e2",
   "metadata": {},
   "outputs": [],
   "source": [
    "# Definición de parametros para graficar los histogramas y hacerlos mejor visualmente\n"
   ]
  },
  {
   "cell_type": "code",
   "execution_count": null,
   "id": "8f1de288",
   "metadata": {},
   "outputs": [],
   "source": []
  },
  {
   "cell_type": "markdown",
   "id": "a6842363",
   "metadata": {},
   "source": [
    "### 4.3. Separación de variables de entrada y salida"
   ]
  },
  {
   "cell_type": "code",
   "execution_count": null,
   "id": "fdcd4089",
   "metadata": {},
   "outputs": [],
   "source": []
  },
  {
   "cell_type": "code",
   "execution_count": null,
   "id": "0e177bf6",
   "metadata": {},
   "outputs": [],
   "source": [
    "X.head()"
   ]
  },
  {
   "cell_type": "code",
   "execution_count": null,
   "id": "f56d3781",
   "metadata": {},
   "outputs": [],
   "source": [
    "y"
   ]
  },
  {
   "cell_type": "markdown",
   "id": "779a0957",
   "metadata": {},
   "source": [
    "### 4.4. Dividir los datos en conjuntos de entrenamiento y prueba"
   ]
  },
  {
   "cell_type": "code",
   "execution_count": null,
   "id": "04ffa3be",
   "metadata": {},
   "outputs": [],
   "source": []
  },
  {
   "cell_type": "markdown",
   "id": "778af98b",
   "metadata": {},
   "source": [
    "### 4.5. Escalar las características"
   ]
  },
  {
   "cell_type": "markdown",
   "id": "c88f6b7c",
   "metadata": {},
   "source": [
    "**Ingresos, gastos comunes, pago coche, otros gastos, ahorros, valor vivienda, estado civil, cantidad de hijos, trabajo**: Estas variables serán escaladas usando el método de estandarización, que reescala las características para que tengan una media de 0 y una desviación estándar de 1, lo cual es útil para la regresión logística ya que mantiene todas las variables en una escala comparable.\n",
    "\n",
    "**Nota**: Las variables estado civil y trabajo son usualmente categóricas pero en el ejercicio fueron proporcionadas como variables numéricas y así se tratarán."
   ]
  },
  {
   "cell_type": "code",
   "execution_count": null,
   "id": "b6e0f0bd",
   "metadata": {},
   "outputs": [],
   "source": []
  },
  {
   "cell_type": "markdown",
   "id": "65f15664",
   "metadata": {},
   "source": [
    "### 4.6. Crear y entrenar el modelo"
   ]
  },
  {
   "cell_type": "code",
   "execution_count": null,
   "id": "67fbafd2",
   "metadata": {},
   "outputs": [],
   "source": []
  },
  {
   "cell_type": "markdown",
   "id": "17039a46",
   "metadata": {},
   "source": [
    "### 4.7. Predecir y evaluar el modelo"
   ]
  },
  {
   "cell_type": "code",
   "execution_count": null,
   "id": "152e662a",
   "metadata": {},
   "outputs": [],
   "source": []
  },
  {
   "cell_type": "code",
   "execution_count": null,
   "id": "d2384660",
   "metadata": {},
   "outputs": [],
   "source": []
  }
 ],
 "metadata": {
  "kernelspec": {
   "display_name": "Python 3 (ipykernel)",
   "language": "python",
   "name": "python3"
  },
  "language_info": {
   "codemirror_mode": {
    "name": "ipython",
    "version": 3
   },
   "file_extension": ".py",
   "mimetype": "text/x-python",
   "name": "python",
   "nbconvert_exporter": "python",
   "pygments_lexer": "ipython3",
   "version": "3.8.8"
  }
 },
 "nbformat": 4,
 "nbformat_minor": 5
}
