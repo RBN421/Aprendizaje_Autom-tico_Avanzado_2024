{
 "cells": [
  {
   "cell_type": "markdown",
   "metadata": {},
   "source": [
    "<img style=\"float: left;;\" src='Figures/alinco.png' /></a>\n",
    "# <center> <font color= #000047> Conteo de categorías </font> </center>"
   ]
  },
  {
   "cell_type": "code",
   "execution_count": null,
   "metadata": {
    "executionInfo": {
     "elapsed": 2191,
     "status": "ok",
     "timestamp": 1678244039491,
     "user": {
      "displayName": "Carlos Arellano",
      "userId": "03055712073717640513"
     },
     "user_tz": 360
    },
    "id": "nWi6ATDXvYXT"
   },
   "outputs": [],
   "source": [
    "import pandas as pd\n",
    "import numpy as np\n",
    "\n",
    "data=pd.read_csv('temps.txt',sep='\\s+',header=None) # Fuente: http://astro.iam.udg.mx/Estacion/NOAAPRMO.TXT\n",
    "                                                         #         http://astro.iam.udg.mx/Estacion/NOAAMO.TXT\n",
    "data.columns=['Temperatura máxima','Temperatura mínima','HDD','CDD','Rain']\n",
    "d=['Sábado','Domingo','Lunes','Martes','Miércoles','Jueves','Viernes']\n",
    "dias=[d[i%7] for i in range(len(data))]\n",
    "catego=['Soleado','Mayormente soleado','Parcialmente nublado','Mayormente nublado','Nublado','Lluvioso']\n",
    "prono=[catego[-1] if data['Rain'][i]>0 else catego[int(round(1.2*(data['HDD'][i]-data['CDD'][i])+2))] for i in range(len(data))]\n",
    "df=pd.DataFrame(columns=['Días','Pronóstico','Temperatura máxima','Temperatura mínima'],index=range(len(data)))\n",
    "df.iloc[:,2:4]=data.iloc[:,0:2]\n",
    "df['Días']=dias\n",
    "df['Pronóstico']=prono\n",
    "\n",
    "txt1=\"Pedro Perez Pereira, pobre pintor portuguez, pinta preciosos paisajes para poder partir para Paris.\"\n",
    "txt2=\"Preciosos gatos y perros con mancha quiero. Partir de izquierda a derecha para poder llegar a algun lugar.\"\n",
    "txt3=\"En un lugar de la Mancha, cuyo nombre no quiero acordarme...\""
   ]
  },
  {
   "cell_type": "code",
   "execution_count": null,
   "metadata": {
    "colab": {
     "base_uri": "https://localhost:8080/",
     "height": 206
    },
    "executionInfo": {
     "elapsed": 804,
     "status": "ok",
     "timestamp": 1678244054001,
     "user": {
      "displayName": "Carlos Arellano",
      "userId": "03055712073717640513"
     },
     "user_tz": 360
    },
    "id": "Nxcr6RIkvmiq",
    "outputId": "f3bdfa65-d0e4-4efd-85cb-559f29a9f20e"
   },
   "outputs": [],
   "source": []
  },
  {
   "cell_type": "code",
   "execution_count": null,
   "metadata": {},
   "outputs": [],
   "source": []
  },
  {
   "cell_type": "code",
   "execution_count": null,
   "metadata": {
    "colab": {
     "base_uri": "https://localhost:8080/"
    },
    "executionInfo": {
     "elapsed": 198,
     "status": "ok",
     "timestamp": 1678244231211,
     "user": {
      "displayName": "Carlos Arellano",
      "userId": "03055712073717640513"
     },
     "user_tz": 360
    },
    "id": "-qbDalm5I__Q",
    "outputId": "f6fec15e-fe15-4350-a680-cbef26530ba7"
   },
   "outputs": [],
   "source": []
  },
  {
   "cell_type": "code",
   "execution_count": null,
   "metadata": {
    "colab": {
     "base_uri": "https://localhost:8080/",
     "height": 206
    },
    "executionInfo": {
     "elapsed": 267,
     "status": "ok",
     "timestamp": 1678244264415,
     "user": {
      "displayName": "Carlos Arellano",
      "userId": "03055712073717640513"
     },
     "user_tz": 360
    },
    "id": "NgyPw_KaJrW_",
    "outputId": "d030e46e-b4ea-4bb2-cc18-ad27c7c1e768"
   },
   "outputs": [],
   "source": []
  },
  {
   "cell_type": "code",
   "execution_count": null,
   "metadata": {
    "colab": {
     "base_uri": "https://localhost:8080/",
     "height": 206
    },
    "executionInfo": {
     "elapsed": 174,
     "status": "ok",
     "timestamp": 1678244387885,
     "user": {
      "displayName": "Carlos Arellano",
      "userId": "03055712073717640513"
     },
     "user_tz": 360
    },
    "id": "BBu_OIINJzck",
    "outputId": "c78e0fc7-d2a5-40b6-a94c-39d239f56844"
   },
   "outputs": [],
   "source": []
  },
  {
   "cell_type": "code",
   "execution_count": null,
   "metadata": {},
   "outputs": [],
   "source": []
  },
  {
   "cell_type": "markdown",
   "metadata": {
    "id": "AUrIh7DkvqvM"
   },
   "source": [
    "# Bag of words"
   ]
  },
  {
   "cell_type": "code",
   "execution_count": null,
   "metadata": {
    "executionInfo": {
     "elapsed": 1130,
     "status": "ok",
     "timestamp": 1678244527588,
     "user": {
      "displayName": "Carlos Arellano",
      "userId": "03055712073717640513"
     },
     "user_tz": 360
    },
    "id": "cWwfagxFvsOd"
   },
   "outputs": [],
   "source": [
    "from sklearn.feature_extraction.text import CountVectorizer"
   ]
  },
  {
   "cell_type": "code",
   "execution_count": null,
   "metadata": {},
   "outputs": [],
   "source": []
  },
  {
   "cell_type": "code",
   "execution_count": null,
   "metadata": {},
   "outputs": [],
   "source": []
  },
  {
   "cell_type": "markdown",
   "metadata": {
    "id": "Me-L9ctwvtnF"
   },
   "source": [
    "### n-grams"
   ]
  },
  {
   "cell_type": "code",
   "execution_count": null,
   "metadata": {
    "colab": {
     "base_uri": "https://localhost:8080/",
     "height": 35
    },
    "executionInfo": {
     "elapsed": 202,
     "status": "ok",
     "timestamp": 1678244967201,
     "user": {
      "displayName": "Carlos Arellano",
      "userId": "03055712073717640513"
     },
     "user_tz": 360
    },
    "id": "EaEI-zVkvwNG",
    "outputId": "a1f8b00d-65ef-496b-a918-6f89e71ee5fe"
   },
   "outputs": [],
   "source": []
  },
  {
   "cell_type": "code",
   "execution_count": null,
   "metadata": {
    "colab": {
     "base_uri": "https://localhost:8080/",
     "height": 254
    },
    "executionInfo": {
     "elapsed": 174,
     "status": "ok",
     "timestamp": 1678245233381,
     "user": {
      "displayName": "Carlos Arellano",
      "userId": "03055712073717640513"
     },
     "user_tz": 360
    },
    "id": "BAA46ierMe8n",
    "outputId": "b7130b35-c3de-4dbd-c8fa-a3e2d1d854f9"
   },
   "outputs": [],
   "source": []
  },
  {
   "cell_type": "code",
   "execution_count": null,
   "metadata": {},
   "outputs": [],
   "source": []
  }
 ],
 "metadata": {
  "colab": {
   "authorship_tag": "ABX9TyNC+Jim04VX4mvOK9BJVpGc",
   "mount_file_id": "1lU37d4ao3hMs-MWc2XJKvimD6E4rns4W",
   "provenance": []
  },
  "kernelspec": {
   "display_name": "Python 3 (ipykernel)",
   "language": "python",
   "name": "python3"
  },
  "language_info": {
   "codemirror_mode": {
    "name": "ipython",
    "version": 3
   },
   "file_extension": ".py",
   "mimetype": "text/x-python",
   "name": "python",
   "nbconvert_exporter": "python",
   "pygments_lexer": "ipython3",
   "version": "3.8.8"
  }
 },
 "nbformat": 4,
 "nbformat_minor": 1
}
