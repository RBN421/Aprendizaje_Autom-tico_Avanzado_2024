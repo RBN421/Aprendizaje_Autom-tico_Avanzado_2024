{
 "cells": [
  {
   "cell_type": "markdown",
   "metadata": {},
   "source": [
    "<img style=\"float: left;;\" src='Figures/alinco.png' /></a>\n",
    "\n",
    "# <center> <font color= #000047> Potencias </font> </center>"
   ]
  },
  {
   "cell_type": "code",
   "execution_count": 1,
   "metadata": {
    "colab": {
     "base_uri": "https://localhost:8080/",
     "height": 206
    },
    "executionInfo": {
     "elapsed": 6333,
     "status": "ok",
     "timestamp": 1681262830008,
     "user": {
      "displayName": "Carlos Arellano",
      "userId": "03055712073717640513"
     },
     "user_tz": 360
    },
    "id": "teAtpGFO113Y",
    "outputId": "56042a7f-9ee0-43c1-9091-4f23a326de48"
   },
   "outputs": [],
   "source": [
    "import pandas as pd\n",
    "import numpy as np\n",
    "import matplotlib.pyplot as plt\n",
    "from sklearn.model_selection import train_test_split\n",
    "from sklearn.linear_model import LinearRegression\n"
   ]
  },
  {
   "cell_type": "code",
   "execution_count": 2,
   "metadata": {
    "colab": {
     "base_uri": "https://localhost:8080/"
    },
    "executionInfo": {
     "elapsed": 7,
     "status": "ok",
     "timestamp": 1681262830008,
     "user": {
      "displayName": "Carlos Arellano",
      "userId": "03055712073717640513"
     },
     "user_tz": 360
    },
    "id": "M3RaTHSX2NLN",
    "outputId": "73920af0-6d7a-426a-cca6-adf304dec616"
   },
   "outputs": [
    {
     "data": {
      "text/html": [
       "<div>\n",
       "<style scoped>\n",
       "    .dataframe tbody tr th:only-of-type {\n",
       "        vertical-align: middle;\n",
       "    }\n",
       "\n",
       "    .dataframe tbody tr th {\n",
       "        vertical-align: top;\n",
       "    }\n",
       "\n",
       "    .dataframe thead th {\n",
       "        text-align: right;\n",
       "    }\n",
       "</style>\n",
       "<table border=\"1\" class=\"dataframe\">\n",
       "  <thead>\n",
       "    <tr style=\"text-align: right;\">\n",
       "      <th></th>\n",
       "      <th>0</th>\n",
       "      <th>1</th>\n",
       "      <th>2</th>\n",
       "    </tr>\n",
       "  </thead>\n",
       "  <tbody>\n",
       "    <tr>\n",
       "      <th>0</th>\n",
       "      <td>0.255228</td>\n",
       "      <td>0.902346</td>\n",
       "      <td>0.733752</td>\n",
       "    </tr>\n",
       "    <tr>\n",
       "      <th>1</th>\n",
       "      <td>0.226339</td>\n",
       "      <td>0.925600</td>\n",
       "      <td>0.385178</td>\n",
       "    </tr>\n",
       "    <tr>\n",
       "      <th>2</th>\n",
       "      <td>0.205234</td>\n",
       "      <td>0.921390</td>\n",
       "      <td>0.547819</td>\n",
       "    </tr>\n",
       "    <tr>\n",
       "      <th>3</th>\n",
       "      <td>0.231553</td>\n",
       "      <td>0.885718</td>\n",
       "      <td>0.880428</td>\n",
       "    </tr>\n",
       "    <tr>\n",
       "      <th>4</th>\n",
       "      <td>0.185737</td>\n",
       "      <td>0.889161</td>\n",
       "      <td>0.953430</td>\n",
       "    </tr>\n",
       "  </tbody>\n",
       "</table>\n",
       "</div>"
      ],
      "text/plain": [
       "          0         1         2\n",
       "0  0.255228  0.902346  0.733752\n",
       "1  0.226339  0.925600  0.385178\n",
       "2  0.205234  0.921390  0.547819\n",
       "3  0.231553  0.885718  0.880428\n",
       "4  0.185737  0.889161  0.953430"
      ]
     },
     "execution_count": 2,
     "metadata": {},
     "output_type": "execute_result"
    }
   ],
   "source": [
    "df = pd.read_csv('Data/numericos.csv')\n",
    "df.head()"
   ]
  },
  {
   "cell_type": "code",
   "execution_count": 3,
   "metadata": {
    "colab": {
     "base_uri": "https://localhost:8080/",
     "height": 487
    },
    "executionInfo": {
     "elapsed": 1965,
     "status": "ok",
     "timestamp": 1681262831969,
     "user": {
      "displayName": "Carlos Arellano",
      "userId": "03055712073717640513"
     },
     "user_tz": 360
    },
    "id": "pkkN6dAZ8qPq",
    "outputId": "afb7e6b7-3be1-4eb6-dc70-e2c6d8a68024"
   },
   "outputs": [
    {
     "data": {
      "text/plain": [
       "0    6.000314\n",
       "1   -2.772736\n",
       "2   -1.012379\n",
       "dtype: float64"
      ]
     },
     "execution_count": 3,
     "metadata": {},
     "output_type": "execute_result"
    }
   ],
   "source": [
    "df.skew()"
   ]
  },
  {
   "cell_type": "code",
   "execution_count": 6,
   "metadata": {},
   "outputs": [
    {
     "data": {
      "image/png": "[encoded data removed]",
      "text/plain": [
       "<Figure size 432x288 with 4 Axes>"
      ]
     },
     "metadata": {
      "needs_background": "light"
     },
     "output_type": "display_data"
    }
   ],
   "source": [
    "df.hist(bins=50);"
   ]
  },
  {
   "cell_type": "code",
   "execution_count": 7,
   "metadata": {
    "executionInfo": {
     "elapsed": 22,
     "status": "ok",
     "timestamp": 1681262831971,
     "user": {
      "displayName": "Carlos Arellano",
      "userId": "03055712073717640513"
     },
     "user_tz": 360
    },
    "id": "Uc7pUPwe8vRR"
   },
   "outputs": [],
   "source": [
    "# Compensando la variable '0'\n",
    " # Variable desplazada a 1\n",
    "df_copia = df.copy()\n",
    "x = df['0'] - df['0'].min() +1 #variable desplazada a 1"
   ]
  },
  {
   "cell_type": "code",
   "execution_count": 11,
   "metadata": {
    "colab": {
     "base_uri": "https://localhost:8080/"
    },
    "executionInfo": {
     "elapsed": 21,
     "status": "ok",
     "timestamp": 1681262831972,
     "user": {
      "displayName": "Carlos Arellano",
      "userId": "03055712073717640513"
     },
     "user_tz": 360
    },
    "id": "PRsY3yb1_aI4",
    "outputId": "b5f4e8c3-2b93-4d58-8406-d7dbbd1a9eef"
   },
   "outputs": [
    {
     "data": {
      "text/plain": [
       "0.04181647238238833"
      ]
     },
     "execution_count": 11,
     "metadata": {},
     "output_type": "execute_result"
    }
   ],
   "source": [
    "a = -11\n",
    "df_copia['0'] = x**a\n",
    "df_copia['0'].skew()"
   ]
  },
  {
   "cell_type": "code",
   "execution_count": 12,
   "metadata": {
    "executionInfo": {
     "elapsed": 14,
     "status": "ok",
     "timestamp": 1681262831973,
     "user": {
      "displayName": "Carlos Arellano",
      "userId": "03055712073717640513"
     },
     "user_tz": 360
    },
    "id": "oBH4rMjl_k1i"
   },
   "outputs": [],
   "source": [
    "# Compensando la variable '1'\n",
    "x = df['1'] - df['1'].min()+1"
   ]
  },
  {
   "cell_type": "code",
   "execution_count": 17,
   "metadata": {
    "colab": {
     "base_uri": "https://localhost:8080/"
    },
    "executionInfo": {
     "elapsed": 193,
     "status": "ok",
     "timestamp": 1681262832153,
     "user": {
      "displayName": "Carlos Arellano",
      "userId": "03055712073717640513"
     },
     "user_tz": 360
    },
    "id": "sE9vurlh_6iI",
    "outputId": "e60f94cc-4d60-4aa3-ef66-c550fea801ff"
   },
   "outputs": [
    {
     "data": {
      "text/plain": [
       "-0.027448039332947635"
      ]
     },
     "execution_count": 17,
     "metadata": {},
     "output_type": "execute_result"
    }
   ],
   "source": [
    "a=17\n",
    "df_copia['1']=x**a\n",
    "df_copia['1'].skew()"
   ]
  },
  {
   "cell_type": "code",
   "execution_count": 19,
   "metadata": {
    "executionInfo": {
     "elapsed": 4,
     "status": "ok",
     "timestamp": 1681262832153,
     "user": {
      "displayName": "Carlos Arellano",
      "userId": "03055712073717640513"
     },
     "user_tz": 360
    },
    "id": "OvXMIeM3AHWA"
   },
   "outputs": [
    {
     "data": {
      "text/plain": [
       "0.03113961761990119"
      ]
     },
     "execution_count": 19,
     "metadata": {},
     "output_type": "execute_result"
    }
   ],
   "source": [
    "# Compensando la variable '2'\n",
    "x = df['2'] - df['2'].min()+1\n",
    "a=3\n",
    "df_copia['2']=x**a\n",
    "df_copia['2'].skew()"
   ]
  },
  {
   "cell_type": "code",
   "execution_count": null,
   "metadata": {
    "colab": {
     "base_uri": "https://localhost:8080/"
    },
    "executionInfo": {
     "elapsed": 5,
     "status": "ok",
     "timestamp": 1681262832154,
     "user": {
      "displayName": "Carlos Arellano",
      "userId": "03055712073717640513"
     },
     "user_tz": 360
    },
    "id": "NWeNdmGBAe5Y",
    "outputId": "ac499246-22e3-4834-9d7e-2c35ba5cc3c4"
   },
   "outputs": [],
   "source": []
  },
  {
   "cell_type": "markdown",
   "metadata": {
    "id": "uOWcXOB3As8T"
   },
   "source": [
    "Aplicando una transformación de la forma\n",
    "$$\n",
    "x'=x^a,\n",
    "$$\n",
    "donde $x\\in[1,\\infty)$, obtuvimos los siguientes exponentes para cada variable\n",
    "\n",
    "Variable|Sesgo original|$a$\n",
    "--|--|--\n",
    "'0'|6.0|-11\n",
    "'1'|-2.77|17\n",
    "'2'|-1.01|3"
   ]
  },
  {
   "cell_type": "markdown",
   "metadata": {
    "id": "LlvY1ep72NkA"
   },
   "source": [
    "---\n",
    "\n",
    "# Familia de transformaciones de potencia\n",
    "$$\n",
    "x'=\\frac{x^\\lambda-1}{\\lambda},\n",
    "$$\n",
    "haciendo $\\displaystyle\\lim_{\\lambda\\rightarrow0}\\frac{x^\\lambda-1}{\\lambda}$ se tiene\n",
    "$$\n",
    "x'=\\ln(x).\n",
    "$$"
   ]
  },
  {
   "cell_type": "code",
   "execution_count": 20,
   "metadata": {
    "executionInfo": {
     "elapsed": 3,
     "status": "ok",
     "timestamp": 1681262832154,
     "user": {
      "displayName": "Carlos Arellano",
      "userId": "03055712073717640513"
     },
     "user_tz": 360
    },
    "id": "fCH369ys2O_K"
   },
   "outputs": [],
   "source": [
    "LMB = [-1,0.5,0,2,3,4]\n",
    "x = np.linspace(0.1,10,100)"
   ]
  },
  {
   "cell_type": "code",
   "execution_count": 21,
   "metadata": {
    "executionInfo": {
     "elapsed": 3,
     "status": "ok",
     "timestamp": 1681262832154,
     "user": {
      "displayName": "Carlos Arellano",
      "userId": "03055712073717640513"
     },
     "user_tz": 360
    },
    "id": "GtilXDt_Ccea"
   },
   "outputs": [],
   "source": [
    "def potencia(x,lmb):\n",
    "    if lmb==0:\n",
    "        return np.log(x)\n",
    "    else:\n",
    "        return (x**lmb - 1)/lmb"
   ]
  },
  {
   "cell_type": "code",
   "execution_count": 22,
   "metadata": {
    "colab": {
     "base_uri": "https://localhost:8080/",
     "height": 435
    },
    "executionInfo": {
     "elapsed": 1491,
     "status": "ok",
     "timestamp": 1681262833642,
     "user": {
      "displayName": "Carlos Arellano",
      "userId": "03055712073717640513"
     },
     "user_tz": 360
    },
    "id": "GPNmfg3iCuAX",
    "outputId": "f2cc3129-7c00-4220-8669-eb357ac536f3"
   },
   "outputs": [
    {
     "data": {
      "image/png": "[encoded data removed]",
      "text/plain": [
       "<Figure size 432x288 with 1 Axes>"
      ]
     },
     "metadata": {
      "needs_background": "light"
     },
     "output_type": "display_data"
    }
   ],
   "source": [
    "for lmb in LMB:\n",
    "    xp = potencia(x,lmb)\n",
    "    plt.plot(x,xp,label='$x^{(' + str(lmb) + ')}$')\n",
    "plt.plot(x,x-1,'--k')\n",
    "plt.legend()\n",
    "plt.ylim([-0.1,10])\n",
    "plt.grid()"
   ]
  },
  {
   "cell_type": "markdown",
   "metadata": {
    "id": "RdeCVBSn2PR7"
   },
   "source": [
    "## Transformación Box-Cox\n",
    "$$\n",
    "x'=\\left\\{\\begin{array}{lr}\n",
    "\\dfrac{x^\\lambda-1}{\\lambda} & \\lambda\\neq0\\\\\n",
    "\\ln(x) & \\lambda=0\n",
    "\\end{array}\\right.\n",
    "$$"
   ]
  },
  {
   "cell_type": "code",
   "execution_count": 23,
   "metadata": {
    "executionInfo": {
     "elapsed": 4,
     "status": "ok",
     "timestamp": 1681262833642,
     "user": {
      "displayName": "Carlos Arellano",
      "userId": "03055712073717640513"
     },
     "user_tz": 360
    },
    "id": "ZPOoSbeZ2RlK"
   },
   "outputs": [],
   "source": [
    "from scipy.stats import boxcox"
   ]
  },
  {
   "cell_type": "code",
   "execution_count": 25,
   "metadata": {
    "colab": {
     "base_uri": "https://localhost:8080/",
     "height": 205
    },
    "executionInfo": {
     "elapsed": 453,
     "status": "ok",
     "timestamp": 1681262834092,
     "user": {
      "displayName": "Carlos Arellano",
      "userId": "03055712073717640513"
     },
     "user_tz": 360
    },
    "id": "CV0QbpDJ2R1D",
    "outputId": "7d842639-6b43-4bac-8cce-38be17e84222"
   },
   "outputs": [
    {
     "data": {
      "text/html": [
       "<div>\n",
       "<style scoped>\n",
       "    .dataframe tbody tr th:only-of-type {\n",
       "        vertical-align: middle;\n",
       "    }\n",
       "\n",
       "    .dataframe tbody tr th {\n",
       "        vertical-align: top;\n",
       "    }\n",
       "\n",
       "    .dataframe thead th {\n",
       "        text-align: right;\n",
       "    }\n",
       "</style>\n",
       "<table border=\"1\" class=\"dataframe\">\n",
       "  <thead>\n",
       "    <tr style=\"text-align: right;\">\n",
       "      <th></th>\n",
       "      <th>1.0</th>\n",
       "      <th>1.1</th>\n",
       "      <th>1.2</th>\n",
       "      <th>1.4</th>\n",
       "      <th>1.5</th>\n",
       "      <th>2.5</th>\n",
       "      <th>3.0</th>\n",
       "      <th>0.7</th>\n",
       "      <th>0.6</th>\n",
       "      <th>0.8</th>\n",
       "      <th>...</th>\n",
       "      <th>0.4</th>\n",
       "      <th>-1.0</th>\n",
       "      <th>-0.8</th>\n",
       "      <th>-0.6</th>\n",
       "      <th>-0.5</th>\n",
       "      <th>-2.0</th>\n",
       "      <th>-1.5</th>\n",
       "      <th>-1.3</th>\n",
       "      <th>-2.5</th>\n",
       "      <th>-3.0</th>\n",
       "    </tr>\n",
       "  </thead>\n",
       "  <tbody>\n",
       "    <tr>\n",
       "      <th>0</th>\n",
       "      <td>4.287419</td>\n",
       "      <td>4.078224</td>\n",
       "      <td>2.410316</td>\n",
       "      <td>1.864664</td>\n",
       "      <td>11.968746</td>\n",
       "      <td>-0.403019</td>\n",
       "      <td>0.473020</td>\n",
       "      <td>4.975822</td>\n",
       "      <td>3.037414</td>\n",
       "      <td>2.892491</td>\n",
       "      <td>...</td>\n",
       "      <td>0.838508</td>\n",
       "      <td>5.541238</td>\n",
       "      <td>4.947706</td>\n",
       "      <td>3.559693</td>\n",
       "      <td>7.864133</td>\n",
       "      <td>22.867150</td>\n",
       "      <td>22.242351</td>\n",
       "      <td>22.833589</td>\n",
       "      <td>21.672629</td>\n",
       "      <td>2.851895</td>\n",
       "    </tr>\n",
       "    <tr>\n",
       "      <th>1</th>\n",
       "      <td>6.692587</td>\n",
       "      <td>6.596364</td>\n",
       "      <td>-0.467649</td>\n",
       "      <td>4.196815</td>\n",
       "      <td>9.522961</td>\n",
       "      <td>-0.366849</td>\n",
       "      <td>0.211353</td>\n",
       "      <td>1.000911</td>\n",
       "      <td>1.497043</td>\n",
       "      <td>2.665020</td>\n",
       "      <td>...</td>\n",
       "      <td>1.213810</td>\n",
       "      <td>4.015426</td>\n",
       "      <td>7.715773</td>\n",
       "      <td>6.496774</td>\n",
       "      <td>5.833801</td>\n",
       "      <td>18.040815</td>\n",
       "      <td>22.122988</td>\n",
       "      <td>18.310630</td>\n",
       "      <td>21.197021</td>\n",
       "      <td>3.053828</td>\n",
       "    </tr>\n",
       "    <tr>\n",
       "      <th>2</th>\n",
       "      <td>-0.819270</td>\n",
       "      <td>4.103274</td>\n",
       "      <td>4.688828</td>\n",
       "      <td>18.312546</td>\n",
       "      <td>2.117002</td>\n",
       "      <td>1.013405</td>\n",
       "      <td>1.833604</td>\n",
       "      <td>1.384706</td>\n",
       "      <td>1.280363</td>\n",
       "      <td>1.323454</td>\n",
       "      <td>...</td>\n",
       "      <td>0.651702</td>\n",
       "      <td>4.326238</td>\n",
       "      <td>6.220713</td>\n",
       "      <td>6.069229</td>\n",
       "      <td>6.683796</td>\n",
       "      <td>17.974879</td>\n",
       "      <td>22.887790</td>\n",
       "      <td>20.971000</td>\n",
       "      <td>21.943924</td>\n",
       "      <td>2.238959</td>\n",
       "    </tr>\n",
       "    <tr>\n",
       "      <th>3</th>\n",
       "      <td>5.672147</td>\n",
       "      <td>9.812692</td>\n",
       "      <td>3.346832</td>\n",
       "      <td>3.747159</td>\n",
       "      <td>5.877766</td>\n",
       "      <td>0.301435</td>\n",
       "      <td>0.600947</td>\n",
       "      <td>5.362018</td>\n",
       "      <td>1.802270</td>\n",
       "      <td>1.125108</td>\n",
       "      <td>...</td>\n",
       "      <td>-0.269047</td>\n",
       "      <td>2.653640</td>\n",
       "      <td>4.028626</td>\n",
       "      <td>5.179591</td>\n",
       "      <td>7.848438</td>\n",
       "      <td>19.794348</td>\n",
       "      <td>9.135971</td>\n",
       "      <td>20.998770</td>\n",
       "      <td>23.036033</td>\n",
       "      <td>2.654808</td>\n",
       "    </tr>\n",
       "    <tr>\n",
       "      <th>4</th>\n",
       "      <td>9.830451</td>\n",
       "      <td>6.852189</td>\n",
       "      <td>4.727676</td>\n",
       "      <td>5.559866</td>\n",
       "      <td>8.410474</td>\n",
       "      <td>-0.688940</td>\n",
       "      <td>0.687187</td>\n",
       "      <td>1.246853</td>\n",
       "      <td>4.331011</td>\n",
       "      <td>2.225794</td>\n",
       "      <td>...</td>\n",
       "      <td>1.212628</td>\n",
       "      <td>4.807444</td>\n",
       "      <td>5.027868</td>\n",
       "      <td>6.155622</td>\n",
       "      <td>6.578262</td>\n",
       "      <td>20.652663</td>\n",
       "      <td>22.326100</td>\n",
       "      <td>21.320919</td>\n",
       "      <td>21.590493</td>\n",
       "      <td>2.774718</td>\n",
       "    </tr>\n",
       "  </tbody>\n",
       "</table>\n",
       "<p>5 rows × 21 columns</p>\n",
       "</div>"
      ],
      "text/plain": [
       "        1.0       1.1       1.2        1.4        1.5       2.5       3.0  \\\n",
       "0  4.287419  4.078224  2.410316   1.864664  11.968746 -0.403019  0.473020   \n",
       "1  6.692587  6.596364 -0.467649   4.196815   9.522961 -0.366849  0.211353   \n",
       "2 -0.819270  4.103274  4.688828  18.312546   2.117002  1.013405  1.833604   \n",
       "3  5.672147  9.812692  3.346832   3.747159   5.877766  0.301435  0.600947   \n",
       "4  9.830451  6.852189  4.727676   5.559866   8.410474 -0.688940  0.687187   \n",
       "\n",
       "        0.7       0.6       0.8  ...       0.4      -1.0      -0.8      -0.6  \\\n",
       "0  4.975822  3.037414  2.892491  ...  0.838508  5.541238  4.947706  3.559693   \n",
       "1  1.000911  1.497043  2.665020  ...  1.213810  4.015426  7.715773  6.496774   \n",
       "2  1.384706  1.280363  1.323454  ...  0.651702  4.326238  6.220713  6.069229   \n",
       "3  5.362018  1.802270  1.125108  ... -0.269047  2.653640  4.028626  5.179591   \n",
       "4  1.246853  4.331011  2.225794  ...  1.212628  4.807444  5.027868  6.155622   \n",
       "\n",
       "       -0.5       -2.0       -1.5       -1.3       -2.5      -3.0  \n",
       "0  7.864133  22.867150  22.242351  22.833589  21.672629  2.851895  \n",
       "1  5.833801  18.040815  22.122988  18.310630  21.197021  3.053828  \n",
       "2  6.683796  17.974879  22.887790  20.971000  21.943924  2.238959  \n",
       "3  7.848438  19.794348   9.135971  20.998770  23.036033  2.654808  \n",
       "4  6.578262  20.652663  22.326100  21.320919  21.590493  2.774718  \n",
       "\n",
       "[5 rows x 21 columns]"
      ]
     },
     "execution_count": 25,
     "metadata": {},
     "output_type": "execute_result"
    }
   ],
   "source": [
    "sesgo = pd.read_csv('Data/sesgo.csv')\n",
    "sesgo.head()"
   ]
  },
  {
   "cell_type": "code",
   "execution_count": 28,
   "metadata": {
    "colab": {
     "base_uri": "https://localhost:8080/"
    },
    "executionInfo": {
     "elapsed": 2083,
     "status": "ok",
     "timestamp": 1681262836170,
     "user": {
      "displayName": "Carlos Arellano",
      "userId": "03055712073717640513"
     },
     "user_tz": 360
    },
    "id": "w8XgFn4nFxlg",
    "outputId": "eec53be1-f866-4778-a297-0e901d235dad"
   },
   "outputs": [
    {
     "data": {
      "text/plain": [
       "{'1.0': (0, -0.35299940437156685),\n",
       " '1.1': (0, -0.36301124937907747),\n",
       " '1.2': (0, -0.12621718702668058),\n",
       " '1.4': (0, 0.01170896940697781),\n",
       " '1.5': (0, -0.25227818308903077),\n",
       " '2.5': (-1, -0.5077344886757249),\n",
       " '3.0': (-1, 0.3324853748036874),\n",
       " '0.7': (0.5, 0.1774344976261497),\n",
       " '0.6': (0.5, 0.03002131046971891),\n",
       " '0.8': (0.5, 0.20715551062708323),\n",
       " '0.5': (0.5, -0.08036352534127693),\n",
       " '0.4': (0.5, -0.12550128256455118),\n",
       " '-1.0': (3, 0.24847620494380168),\n",
       " '-0.8': (2, -0.04577845391022746),\n",
       " '-0.6': (2, 0.02116213316281367),\n",
       " '-0.5': (2, 0.2707479044230265),\n",
       " '-2.0': (4, -0.43786090454821214),\n",
       " '-1.5': (4, -0.16941674301606524),\n",
       " '-1.3': (3, -0.1420264342283233),\n",
       " '-2.5': (4, -0.7107354353886014),\n",
       " '-3.0': (4, -1.0145837863668994)}"
      ]
     },
     "execution_count": 28,
     "metadata": {},
     "output_type": "execute_result"
    }
   ],
   "source": [
    "lmb = np.linspace(-20,20,100)\n",
    "mejor_exp = {}\n",
    "for v in sesgo:\n",
    "    x = sesgo[v] - sesgo[v].min() + 1 #variable desplazada\n",
    "    sp = [pd.DataFrame(boxcox(x,lmb)).skew().values[0] for lmb in LMB]\n",
    "    idx = np.argmin(np.abs(sp))\n",
    "    mejor_exp[v] = (LMB[idx], sp[idx]) # (mejor exponente, mejor sesgo)\n",
    "mejor_exp"
   ]
  },
  {
   "cell_type": "code",
   "execution_count": 29,
   "metadata": {
    "colab": {
     "base_uri": "https://localhost:8080/"
    },
    "executionInfo": {
     "elapsed": 7,
     "status": "ok",
     "timestamp": 1681262836788,
     "user": {
      "displayName": "Carlos Arellano",
      "userId": "03055712073717640513"
     },
     "user_tz": 360
    },
    "id": "-X9U1G2jMTk1",
    "outputId": "9abbf6a5-19ba-4f84-e9fc-0ad7eebf72fa"
   },
   "outputs": [
    {
     "data": {
      "text/plain": [
       "{'1.0': (0.244788176968345, 0.00557500588573536),\n",
       " '1.1': (0.229641079078813, 0.010878583146257193),\n",
       " '1.2': (0.08696682230716642, 0.006651691699217191),\n",
       " '1.4': (-0.007771559587673352, -0.0005232289728475841),\n",
       " '1.5': (0.14304202195785662, 0.0050410603027282695),\n",
       " '2.5': (-0.6532329142943955, -0.03137496816478265),\n",
       " '3.0': (-1.1825565521106125, 0.21465245560809507),\n",
       " '0.7': (0.34712049518269683, 0.009126604816202338),\n",
       " '0.6': (0.4905670983480438, 0.01898569770298523),\n",
       " '0.8': (0.33957520002158437, 0.012797063771885902),\n",
       " '0.5': (0.59883686398365, 0.026801017222397944),\n",
       " '0.4': (0.6421923492912538, 0.023595708438760517),\n",
       " '-1.0': (2.4406073674470483, -0.019749856805679998),\n",
       " '-0.8': (1.9440037421315555, -0.0794718947715581),\n",
       " '-0.6': (1.8593313784717624, -0.053057464482121126),\n",
       " '-0.5': (1.6161183191554247, 0.010824443114979477),\n",
       " '-2.0': (4.564234277668849, -0.27364335762642106),\n",
       " '-1.5': (3.705057611613298, -0.25578637797862946),\n",
       " '-1.3': (2.8461653717668285, -0.20582420441758756),\n",
       " '-2.5': (5.694319148131168, -0.2789876541222362),\n",
       " '-3.0': (7.890173330118548, -0.13257396860230994)}"
      ]
     },
     "execution_count": 29,
     "metadata": {},
     "output_type": "execute_result"
    }
   ],
   "source": [
    "for v in sesgo:\n",
    "    x = sesgo[v] - sesgo[v].min() + 1\n",
    "    xp, lmb = boxcox(x)\n",
    "    mejor_exp[v]=(lmb, pd.DataFrame(xp).skew().values[0])\n",
    "mejor_exp"
   ]
  },
  {
   "cell_type": "markdown",
   "metadata": {
    "id": "tJ-bB9qGMpXP"
   },
   "source": [
    "---\n",
    "Uso de valores negativos para $x$:\n",
    "$$\n",
    "x'=\\left\\{\n",
    "  \\begin{array}{ll}\n",
    "  \\mathrm{sign}(x)\\dfrac{(|x|+1)^\\lambda-1}{\\lambda},&\\lambda\\neq0\\\\\n",
    "  \\mathrm{sign}(x)\\ln(|x|+1),&\\lambda=0\n",
    "  \\end{array}.\n",
    "  \\right.\n",
    "$$"
   ]
  },
  {
   "cell_type": "code",
   "execution_count": 30,
   "metadata": {
    "executionInfo": {
     "elapsed": 4,
     "status": "ok",
     "timestamp": 1681262836788,
     "user": {
      "displayName": "Carlos Arellano",
      "userId": "03055712073717640513"
     },
     "user_tz": 360
    },
    "id": "MSSYnJXtMowk"
   },
   "outputs": [],
   "source": [
    "x = np.linspace(-10,10,500)\n",
    "LMB = [-1,0.5,0,2,3,4]"
   ]
  },
  {
   "cell_type": "code",
   "execution_count": 32,
   "metadata": {
    "executionInfo": {
     "elapsed": 172,
     "status": "ok",
     "timestamp": 1681262836956,
     "user": {
      "displayName": "Carlos Arellano",
      "userId": "03055712073717640513"
     },
     "user_tz": 360
    },
    "id": "OdsymafsM8M1"
   },
   "outputs": [],
   "source": [
    "def potenciaS(x,lmb):\n",
    "    if lmb==0:\n",
    "        return np.sign(x)*np.log(abs(x)+1)\n",
    "    else:\n",
    "        return np.sign(x)*((abs(x) + 1)**lmb -1)/lmb"
   ]
  },
  {
   "cell_type": "code",
   "execution_count": 33,
   "metadata": {
    "colab": {
     "base_uri": "https://localhost:8080/",
     "height": 435
    },
    "executionInfo": {
     "elapsed": 714,
     "status": "ok",
     "timestamp": 1681262837668,
     "user": {
      "displayName": "Carlos Arellano",
      "userId": "03055712073717640513"
     },
     "user_tz": 360
    },
    "id": "j5---XnROYrn",
    "outputId": "15f82702-8c67-456f-c71b-73505d3cf31c"
   },
   "outputs": [
    {
     "data": {
      "image/png": "[encoded data removed]",
      "text/plain": [
       "<Figure size 432x288 with 1 Axes>"
      ]
     },
     "metadata": {
      "needs_background": "light"
     },
     "output_type": "display_data"
    }
   ],
   "source": [
    "for lmb in LMB:\n",
    "    xp=potenciaS(x,lmb)\n",
    "    plt.plot(x,xp,label='exponente {}'.format(lmb))\n",
    "plt.plot(x,np.sign(x)*(abs(x)), '--k')\n",
    "plt.legend()\n",
    "plt.ylim([-10,10])\n",
    "plt.grid()"
   ]
  },
  {
   "cell_type": "markdown",
   "metadata": {
    "id": "kmlW2P3y2Vlx"
   },
   "source": [
    "## Yeo-Johnson\n",
    "$$\n",
    "x'=\\left\\{\n",
    "  \\begin{array}{lr}\n",
    "  \\frac{(x+1)^{\\lambda_1}-1}{\\lambda_1} & \\lambda_1\\neq0,\\quad x\\geq0\\\\\n",
    "  \\ln(x+1) & \\lambda_1=0,\\quad x\\geq0\\\\\n",
    "  -\\frac{(-x+1)^{\\lambda_2}-1}{\\lambda_2} & \\lambda_2\\neq0,\\quad x<0\\\\\n",
    "  -\\ln(-x+1) & \\lambda_2=0,\\quad x<0.\n",
    "  \\end{array}\n",
    "  \\right.\n",
    "$$\n",
    "Donde $\\lambda_1+\\lambda_2=2$.\n",
    "\n",
    "Se sustituye $\\lambda_2=2-\\lambda_1$.\n",
    "$$\n",
    "x'=\\left\\{\n",
    "  \\begin{array}{lr}\n",
    "  \\frac{(x+1)^{\\lambda}-1}{\\lambda} & \\lambda\\neq0,\\quad x\\geq0\\\\\n",
    "  \\ln(x+1) & \\lambda=0,\\quad x\\geq0\\\\\n",
    "  -\\frac{(-x+1)^{2-\\lambda}-1}{2-\\lambda} & \\lambda\\neq2,\\quad x<0\\\\\n",
    "  -\\ln(-x+1) & \\lambda=2,\\quad x<0.\n",
    "  \\end{array}\n",
    "  \\right.\n",
    "$$"
   ]
  },
  {
   "cell_type": "code",
   "execution_count": 36,
   "metadata": {
    "executionInfo": {
     "elapsed": 13,
     "status": "ok",
     "timestamp": 1681262837670,
     "user": {
      "displayName": "Carlos Arellano",
      "userId": "03055712073717640513"
     },
     "user_tz": 360
    },
    "id": "U0bqjK3O2WRl"
   },
   "outputs": [],
   "source": [
    "from scipy.stats import yeojohnson"
   ]
  },
  {
   "cell_type": "code",
   "execution_count": 37,
   "metadata": {
    "colab": {
     "base_uri": "https://localhost:8080/",
     "height": 435
    },
    "executionInfo": {
     "elapsed": 1291,
     "status": "ok",
     "timestamp": 1681262838951,
     "user": {
      "displayName": "Carlos Arellano",
      "userId": "03055712073717640513"
     },
     "user_tz": 360
    },
    "id": "HFhL4MnZEhl3",
    "outputId": "64a31492-6691-438b-bc00-6e63900cc1be"
   },
   "outputs": [
    {
     "data": {
      "image/png": "[encoded data removed]",
      "text/plain": [
       "<Figure size 432x288 with 1 Axes>"
      ]
     },
     "metadata": {
      "needs_background": "light"
     },
     "output_type": "display_data"
    }
   ],
   "source": [
    "for lmb in LMB:\n",
    "    xp = yeojohnson(x,lmb)\n",
    "    plt.plot(x,xp,label='exponente {}'.format(lmb))\n",
    "plt.plot(x,np.sign(x)*(abs(x)), '--k')\n",
    "plt.legend()\n",
    "plt.ylim([-10,10])\n",
    "plt.grid()"
   ]
  },
  {
   "cell_type": "code",
   "execution_count": 38,
   "metadata": {},
   "outputs": [
    {
     "data": {
      "text/plain": [
       "(-12.750781894524401, -0.09169692603119495)"
      ]
     },
     "execution_count": 38,
     "metadata": {},
     "output_type": "execute_result"
    },
    {
     "data": {
      "image/png": "[encoded data removed]",
      "text/plain": [
       "<Figure size 432x288 with 1 Axes>"
      ]
     },
     "metadata": {
      "needs_background": "light"
     },
     "output_type": "display_data"
    }
   ],
   "source": [
    "df_copia['0'], l = yeojohnson(df['0'])\n",
    "df_copia['0'].hist(bins=50)\n",
    "l,df_copia['0'].skew()"
   ]
  },
  {
   "cell_type": "code",
   "execution_count": 39,
   "metadata": {
    "colab": {
     "base_uri": "https://localhost:8080/",
     "height": 282
    },
    "executionInfo": {
     "elapsed": 537,
     "status": "ok",
     "timestamp": 1680058376858,
     "user": {
      "displayName": "Carlos Arellano",
      "userId": "03055712073717640513"
     },
     "user_tz": 360
    },
    "id": "GNTnLJ0R2Yyj",
    "outputId": "fcac6145-14c1-449c-a3fd-8be63500b5b8"
   },
   "outputs": [
    {
     "data": {
      "text/plain": [
       "(22.18399892603115, -0.08515931210418183)"
      ]
     },
     "execution_count": 39,
     "metadata": {},
     "output_type": "execute_result"
    },
    {
     "data": {
      "image/png": "[encoded data removed]",
      "text/plain": [
       "<Figure size 432x288 with 1 Axes>"
      ]
     },
     "metadata": {
      "needs_background": "light"
     },
     "output_type": "display_data"
    }
   ],
   "source": [
    "df_copia['1'], l = yeojohnson(df['1'])\n",
    "df_copia['1'].hist(bins=50)\n",
    "l,df_copia['1'].skew()"
   ]
  },
  {
   "cell_type": "code",
   "execution_count": 40,
   "metadata": {
    "colab": {
     "base_uri": "https://localhost:8080/",
     "height": 282
    },
    "executionInfo": {
     "elapsed": 552,
     "status": "ok",
     "timestamp": 1680058630516,
     "user": {
      "displayName": "Carlos Arellano",
      "userId": "03055712073717640513"
     },
     "user_tz": 360
    },
    "id": "NNpBxOHOSt-9",
    "outputId": "a273a406-2e0b-4e76-d213-34a6df83e9dd"
   },
   "outputs": [
    {
     "data": {
      "text/plain": [
       "(2.0334009440523304, -0.051931710513484226)"
      ]
     },
     "execution_count": 40,
     "metadata": {},
     "output_type": "execute_result"
    },
    {
     "data": {
      "image/png": "[encoded data removed]",
      "text/plain": [
       "<Figure size 432x288 with 1 Axes>"
      ]
     },
     "metadata": {
      "needs_background": "light"
     },
     "output_type": "display_data"
    }
   ],
   "source": [
    "df_copia['2'],l=yeojohnson(df['2'])\n",
    "df_copia['2'].hist(bins=50)\n",
    "l,df_copia['2'].skew()"
   ]
  },
  {
   "cell_type": "markdown",
   "metadata": {
    "id": "SgPa4BuS2aWD"
   },
   "source": [
    "---\n",
    "# Regresión"
   ]
  },
  {
   "cell_type": "code",
   "execution_count": 41,
   "metadata": {
    "colab": {
     "base_uri": "https://localhost:8080/",
     "height": 206
    },
    "executionInfo": {
     "elapsed": 362,
     "status": "ok",
     "timestamp": 1681262912686,
     "user": {
      "displayName": "Carlos Arellano",
      "userId": "03055712073717640513"
     },
     "user_tz": 360
    },
    "id": "qyvgAqT52bIa",
    "outputId": "cf3deca1-c67d-4912-9203-65346786f844"
   },
   "outputs": [
    {
     "data": {
      "text/html": [
       "<div>\n",
       "<style scoped>\n",
       "    .dataframe tbody tr th:only-of-type {\n",
       "        vertical-align: middle;\n",
       "    }\n",
       "\n",
       "    .dataframe tbody tr th {\n",
       "        vertical-align: top;\n",
       "    }\n",
       "\n",
       "    .dataframe thead th {\n",
       "        text-align: right;\n",
       "    }\n",
       "</style>\n",
       "<table border=\"1\" class=\"dataframe\">\n",
       "  <thead>\n",
       "    <tr style=\"text-align: right;\">\n",
       "      <th></th>\n",
       "      <th>x</th>\n",
       "      <th>y</th>\n",
       "    </tr>\n",
       "  </thead>\n",
       "  <tbody>\n",
       "    <tr>\n",
       "      <th>0</th>\n",
       "      <td>0.100000</td>\n",
       "      <td>1.932916</td>\n",
       "    </tr>\n",
       "    <tr>\n",
       "      <th>1</th>\n",
       "      <td>0.101001</td>\n",
       "      <td>2.242087</td>\n",
       "    </tr>\n",
       "    <tr>\n",
       "      <th>2</th>\n",
       "      <td>0.102002</td>\n",
       "      <td>2.022414</td>\n",
       "    </tr>\n",
       "    <tr>\n",
       "      <th>3</th>\n",
       "      <td>0.103003</td>\n",
       "      <td>1.692315</td>\n",
       "    </tr>\n",
       "    <tr>\n",
       "      <th>4</th>\n",
       "      <td>0.104004</td>\n",
       "      <td>1.672025</td>\n",
       "    </tr>\n",
       "  </tbody>\n",
       "</table>\n",
       "</div>"
      ],
      "text/plain": [
       "          x         y\n",
       "0  0.100000  1.932916\n",
       "1  0.101001  2.242087\n",
       "2  0.102002  2.022414\n",
       "3  0.103003  1.692315\n",
       "4  0.104004  1.672025"
      ]
     },
     "execution_count": 41,
     "metadata": {},
     "output_type": "execute_result"
    }
   ],
   "source": [
    "reg = pd.read_csv('Data/regresion.csv')\n",
    "reg.head()"
   ]
  },
  {
   "cell_type": "code",
   "execution_count": 43,
   "metadata": {
    "colab": {
     "base_uri": "https://localhost:8080/",
     "height": 430
    },
    "executionInfo": {
     "elapsed": 351,
     "status": "ok",
     "timestamp": 1681262942528,
     "user": {
      "displayName": "Carlos Arellano",
      "userId": "03055712073717640513"
     },
     "user_tz": 360
    },
    "id": "uEJy5Py4FEPE",
    "outputId": "5b4f9138-a3b3-4586-ca0d-af4cd38402f9"
   },
   "outputs": [
    {
     "data": {
      "image/png": "[encoded data removed]",
      "text/plain": [
       "<Figure size 432x288 with 1 Axes>"
      ]
     },
     "metadata": {
      "needs_background": "light"
     },
     "output_type": "display_data"
    }
   ],
   "source": [
    "plt.scatter(reg['x'],reg['y'], s=5)\n",
    "plt.grid()"
   ]
  },
  {
   "cell_type": "code",
   "execution_count": 45,
   "metadata": {
    "colab": {
     "base_uri": "https://localhost:8080/",
     "height": 298
    },
    "executionInfo": {
     "elapsed": 822,
     "status": "ok",
     "timestamp": 1680058932215,
     "user": {
      "displayName": "Carlos Arellano",
      "userId": "03055712073717640513"
     },
     "user_tz": 360
    },
    "id": "1ZIJzt3ZTde6",
    "outputId": "5e2747dd-ce25-4aee-b195-bd587e4c6612"
   },
   "outputs": [
    {
     "data": {
      "text/plain": [
       "(-0.1640699985520419, 0.01023234941161347)"
      ]
     },
     "execution_count": 45,
     "metadata": {},
     "output_type": "execute_result"
    },
    {
     "data": {
      "image/png": "[encoded data removed]",
      "text/plain": [
       "<Figure size 432x288 with 2 Axes>"
      ]
     },
     "metadata": {
      "needs_background": "light"
     },
     "output_type": "display_data"
    }
   ],
   "source": [
    "reg_copia = reg.copy()\n",
    "reg_copia['y'],l = yeojohnson(reg['y'])\n",
    "reg_copia.hist(bins=50)\n",
    "l, reg_copia['y'].skew()"
   ]
  },
  {
   "cell_type": "code",
   "execution_count": 46,
   "metadata": {
    "colab": {
     "base_uri": "https://localhost:8080/",
     "height": 265
    },
    "executionInfo": {
     "elapsed": 481,
     "status": "ok",
     "timestamp": 1680058937297,
     "user": {
      "displayName": "Carlos Arellano",
      "userId": "03055712073717640513"
     },
     "user_tz": 360
    },
    "id": "W1enMr80T3MC",
    "outputId": "d728bb40-d219-4c12-b754-e89f1d956421"
   },
   "outputs": [
    {
     "data": {
      "image/png": "[encoded data removed]",
      "text/plain": [
       "<Figure size 432x288 with 1 Axes>"
      ]
     },
     "metadata": {
      "needs_background": "light"
     },
     "output_type": "display_data"
    }
   ],
   "source": [
    "plt.scatter(reg['x'],reg_copia['y'], s=5)\n",
    "plt.grid()"
   ]
  },
  {
   "cell_type": "code",
   "execution_count": 47,
   "metadata": {
    "id": "j1i1r8b7VE6Z"
   },
   "outputs": [],
   "source": [
    "from sklearn.linear_model import LinearRegression"
   ]
  },
  {
   "cell_type": "code",
   "execution_count": 49,
   "metadata": {
    "colab": {
     "base_uri": "https://localhost:8080/",
     "height": 74
    },
    "executionInfo": {
     "elapsed": 205,
     "status": "ok",
     "timestamp": 1680059215165,
     "user": {
      "displayName": "Carlos Arellano",
      "userId": "03055712073717640513"
     },
     "user_tz": 360
    },
    "id": "v_BK5p40UVdW",
    "outputId": "a93f4b9c-a3dc-4145-8a98-bd477cb2fbbd"
   },
   "outputs": [
    {
     "data": {
      "text/plain": [
       "LinearRegression()"
      ]
     },
     "execution_count": 49,
     "metadata": {},
     "output_type": "execute_result"
    }
   ],
   "source": [
    "X,x,Y,y = train_test_split(reg_copia[['x']], reg_copia['y'])\n",
    "lin=LinearRegression()\n",
    "lin.fit(X,Y)"
   ]
  },
  {
   "cell_type": "code",
   "execution_count": 50,
   "metadata": {
    "id": "zA4B3elaVu3l"
   },
   "outputs": [],
   "source": [
    "from sklearn.preprocessing import PowerTransformer"
   ]
  },
  {
   "cell_type": "code",
   "execution_count": 53,
   "metadata": {
    "colab": {
     "base_uri": "https://localhost:8080/"
    },
    "executionInfo": {
     "elapsed": 192,
     "status": "ok",
     "timestamp": 1680059744885,
     "user": {
      "displayName": "Carlos Arellano",
      "userId": "03055712073717640513"
     },
     "user_tz": 360
    },
    "id": "nvpajdKoWVUC",
    "outputId": "554151ef-803d-4e8a-c096-6a26efa6f3c2"
   },
   "outputs": [
    {
     "data": {
      "text/plain": [
       "(-0.1640699985520419, array([-0.16407]))"
      ]
     },
     "execution_count": 53,
     "metadata": {},
     "output_type": "execute_result"
    }
   ],
   "source": [
    "tranformer = PowerTransformer(standardize=False)\n",
    "tranformer.fit(reg[['y']])\n",
    "l,tranformer.lambdas_"
   ]
  },
  {
   "cell_type": "code",
   "execution_count": 56,
   "metadata": {
    "colab": {
     "base_uri": "https://localhost:8080/",
     "height": 320
    },
    "executionInfo": {
     "elapsed": 378,
     "status": "ok",
     "timestamp": 1680059891633,
     "user": {
      "displayName": "Carlos Arellano",
      "userId": "03055712073717640513"
     },
     "user_tz": 360
    },
    "id": "JEMeuArEVSt8",
    "outputId": "45d3c4bd-1287-41b5-efbe-d7424bfc0fc3"
   },
   "outputs": [
    {
     "data": {
      "image/png": "[encoded data removed]",
      "text/plain": [
       "<Figure size 432x288 with 1 Axes>"
      ]
     },
     "metadata": {
      "needs_background": "light"
     },
     "output_type": "display_data"
    }
   ],
   "source": [
    "plt.scatter(reg['x'], reg['y'], s=5, label='obs originales')\n",
    "f = lin.predict(reg[['x']])\n",
    "plt.plot(reg['x'], tranformer.inverse_transform(f.reshape(-1,1)), 'r', label='prediccion')\n",
    "plt.legend()\n",
    "plt.grid()"
   ]
  },
  {
   "cell_type": "code",
   "execution_count": null,
   "metadata": {},
   "outputs": [],
   "source": []
  }
 ],
 "metadata": {
  "colab": {
   "authorship_tag": "ABX9TyO+0PFd0b20UvHm7G5Xgi6a",
   "mount_file_id": "17aKn8edn-0DxHFldxHaHT98EHdHRE8DA",
   "provenance": []
  },
  "kernelspec": {
   "display_name": "Python 3 (ipykernel)",
   "language": "python",
   "name": "python3"
  },
  "language_info": {
   "codemirror_mode": {
    "name": "ipython",
    "version": 3
   },
   "file_extension": ".py",
   "mimetype": "text/x-python",
   "name": "python",
   "nbconvert_exporter": "python",
   "pygments_lexer": "ipython3",
   "version": "3.8.8"
  }
 },
 "nbformat": 4,
 "nbformat_minor": 1
}
