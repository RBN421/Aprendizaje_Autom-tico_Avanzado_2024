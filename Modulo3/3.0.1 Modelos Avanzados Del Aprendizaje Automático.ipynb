{
 "cells": [
  {
   "cell_type": "markdown",
   "id": "79baf4b7",
   "metadata": {},
   "source": [
    "<img style=\"float: left;;\" src='Figures/alinco.png' /></a>\n",
    "\n",
    "# <center> <font color= #000047> Modelos Avanzados del Aprendizaje Automático.</font>\n",
    "    \n",
    "___"
   ]
  },
  {
   "cell_type": "markdown",
   "id": "370e0d19",
   "metadata": {},
   "source": [
    "## Algoritmos"
   ]
  },
  {
   "cell_type": "markdown",
   "id": "7ed1aca9",
   "metadata": {},
   "source": [
    "### Redes Neuronales Artificiales\n",
    "<img style=\"float;\" src=Figures/red.png width=\"400px\" height=\"400px\" />\n",
    "\n",
    "### RNA Multicapa\n",
    "<img style=\"float;\" src=Figures/RNA_multicapa.png width=\"600px\" height=\"600px\" />\n",
    "\n",
    "### RNA Inversa\n",
    "<img style=\"float;\" src=Figures/RNAi.png width=\"600px\" height=\"600px\" />\n",
    "\n",
    "### Red neuro difusa (TSK)\n",
    "<img style=\"float;\" src=Figures/RNA_difusa.png width=\"600px\" height=\"600px\" />\n"
   ]
  },
  {
   "cell_type": "code",
   "execution_count": null,
   "id": "7e82e601",
   "metadata": {},
   "outputs": [],
   "source": []
  }
 ],
 "metadata": {
  "kernelspec": {
   "display_name": "Python 3 (ipykernel)",
   "language": "python",
   "name": "python3"
  },
  "language_info": {
   "codemirror_mode": {
    "name": "ipython",
    "version": 3
   },
   "file_extension": ".py",
   "mimetype": "text/x-python",
   "name": "python",
   "nbconvert_exporter": "python",
   "pygments_lexer": "ipython3",
   "version": "3.8.8"
  }
 },
 "nbformat": 4,
 "nbformat_minor": 5
}
