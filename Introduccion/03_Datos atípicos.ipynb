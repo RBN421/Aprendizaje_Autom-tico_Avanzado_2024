{
 "cells": [
  {
   "cell_type": "markdown",
   "metadata": {},
   "source": [
    "<img style=\"float: left;;\" src='Figures/alinco.png' /></a>\n",
    "\n",
    "# <center> <font color= #000047> Datos Atípicos </font> </center>"
   ]
  },
  {
   "cell_type": "code",
   "execution_count": null,
   "metadata": {
    "colab": {
     "base_uri": "https://localhost:8080/",
     "height": 206
    },
    "executionInfo": {
     "elapsed": 1620,
     "status": "ok",
     "timestamp": 1675822725909,
     "user": {
      "displayName": "Carlos Arellano",
      "userId": "03055712073717640513"
     },
     "user_tz": 360
    },
    "id": "DNB5ZKAQz4gc",
    "outputId": "cd7e4819-03ef-42a8-e5ed-9b1d7960fda2"
   },
   "outputs": [],
   "source": []
  },
  {
   "cell_type": "code",
   "execution_count": null,
   "metadata": {
    "colab": {
     "base_uri": "https://localhost:8080/"
    },
    "executionInfo": {
     "elapsed": 173,
     "status": "ok",
     "timestamp": 1675822851521,
     "user": {
      "displayName": "Carlos Arellano",
      "userId": "03055712073717640513"
     },
     "user_tz": 360
    },
    "id": "_LTHTUdU0WOO",
    "outputId": "7ea4bf6e-5de7-423f-bfe2-68dd522055fd"
   },
   "outputs": [],
   "source": []
  },
  {
   "cell_type": "code",
   "execution_count": null,
   "metadata": {
    "colab": {
     "base_uri": "https://localhost:8080/"
    },
    "executionInfo": {
     "elapsed": 162,
     "status": "ok",
     "timestamp": 1675822936080,
     "user": {
      "displayName": "Carlos Arellano",
      "userId": "03055712073717640513"
     },
     "user_tz": 360
    },
    "id": "U_J8ICNk0znT",
    "outputId": "f6c6252d-a9ce-42f4-9f4b-a88e08b7a6b3"
   },
   "outputs": [],
   "source": []
  },
  {
   "cell_type": "markdown",
   "metadata": {},
   "source": [
    "## Ejemplo Dataset"
   ]
  },
  {
   "cell_type": "markdown",
   "metadata": {},
   "source": [
    "#### Detección de outliers univariados"
   ]
  },
  {
   "cell_type": "markdown",
   "metadata": {},
   "source": [
    "> los outliers tienen una gran relevancia en la detección de anomalías, como la detección de fraudes financieros donde las transacciones fraudulentas tienen comportamientos muy diferentes a los de las transacciones normales.\n",
    "\n",
    "Existen diversas técnicas para identificar valores atípicos en un conjunto de datos, incluyendo métodos de **inspección visual, métodos estadísticos e incluso modelos de machine learning como el Local Outlier Factor (LOF), el Isolation Forest (IForest) o el algoritmo de K-nearest Neighbors (KNN)**.\n",
    "\n",
    "Si bien los modelos de machine learning son de gran ayuda en escenarios más complejos como la detección de **outliers multivariados**, para el caso de valores atípicos univariados podemos utilizar los enfoques estadísticos y la inspección visual debido a su simplicidad y eficacia.\n",
    "\n",
    "Algunos métodos:\n",
    "\n",
    "> Histograma (Visual).\n",
    "\n",
    "> Diagrama de caja.\n",
    "\n",
    ">Z-score y Z-score modificada (estadístico).\n",
    "\n",
    ">Rango Intercuartílico (IQR)."
   ]
  },
  {
   "cell_type": "code",
   "execution_count": null,
   "metadata": {},
   "outputs": [],
   "source": [
    "#dataset \"taxis\" \n"
   ]
  },
  {
   "cell_type": "code",
   "execution_count": null,
   "metadata": {},
   "outputs": [],
   "source": [
    "taxis['total'].describe()"
   ]
  },
  {
   "cell_type": "markdown",
   "metadata": {},
   "source": [
    "### Histograma"
   ]
  },
  {
   "cell_type": "code",
   "execution_count": null,
   "metadata": {},
   "outputs": [],
   "source": [
    "#Usando seaborn\n"
   ]
  },
  {
   "cell_type": "code",
   "execution_count": null,
   "metadata": {},
   "outputs": [],
   "source": [
    "#Usando matplotlib\n"
   ]
  },
  {
   "cell_type": "code",
   "execution_count": null,
   "metadata": {},
   "outputs": [],
   "source": [
    "# los datos se concentran por debajo de los 40$ aproximadamente, mientras que el resto de barras tienen alturas muy bajas\n",
    "# y se sitúan muy alejadas del resto de datos\n",
    "# en este caso los outliers se pueden visualizar con bastante claridad, hay ocasiones en las que no son tan evidentes.\n",
    "# Además, los histogramas no revelan la ubicación exacta de los outliers."
   ]
  },
  {
   "cell_type": "markdown",
   "metadata": {},
   "source": [
    "### Diagrama de caja\n"
   ]
  },
  {
   "cell_type": "markdown",
   "metadata": {},
   "source": [
    "> **Caja:** Representa el rango intercuartílico (IQR), que indica la distancia entre el primer y el tercer cuartil.\n",
    "\n",
    "> **Línea mediana:** Divide el conjunto de datos en dos partes iguales.\n",
    "\n",
    "> **Bigotes:** Son líneas que se extienden desde los extremos de la caja hasta los valores mínimo y máximo dentro de 1.5 veces el IQR del primer y tercer cuartil.\n",
    "\n",
    "> **Outliers:** Los valores que caen por fuera de los límites son considerados outliers."
   ]
  },
  {
   "cell_type": "code",
   "execution_count": null,
   "metadata": {},
   "outputs": [],
   "source": [
    "# Box plot\n",
    "\n",
    "#outliers en la columna ‘total’, pero al igual que con el histograma, es recomendable acompañarlo de técnicas adicionales para determinar\n",
    "#con exactitud la ubicación de estos valores atípicos."
   ]
  },
  {
   "cell_type": "markdown",
   "metadata": {},
   "source": [
    "### Z-score"
   ]
  },
  {
   "cell_type": "markdown",
   "metadata": {},
   "source": [
    "Un **Z-Score** (puntuación Z), es una medida estadística que indica cuántas desviaciones estándar un punto de datos específico está por encima o por debajo de la media del conjunto de datos."
   ]
  },
  {
   "cell_type": "code",
   "execution_count": null,
   "metadata": {},
   "outputs": [],
   "source": [
    "# Import zscore function\n",
    "\n",
    "\n",
    "# Calculate z-score for each data point and compute its absolute value\n",
    "\n",
    "\n",
    "# Select the outliers using a threshold of 3\n",
    "\n"
   ]
  },
  {
   "cell_type": "markdown",
   "metadata": {},
   "source": [
    "La elección de 3 como umbral proviene de la regla empírica, según la cual los datos dentro de 3 veces la desviación estándar respecto a la media representan el 99.7% de los datos de la distribución. Sabiendo esto, podemos concluir con bastante seguridad que los datos que caen más allá de este umbral son atípicos, pues son distintos al 99.7% de los datos."
   ]
  },
  {
   "cell_type": "markdown",
   "metadata": {},
   "source": [
    "###  Z-Score modificado"
   ]
  },
  {
   "cell_type": "markdown",
   "metadata": {},
   "source": [
    "Cuando los datos son asimétricos o no se distribuyen de forma normal podemos utilizar el **z-score modificado (MAD-Z Score)**. el z-score modificado mide cuánto se aleja un valor de la mediana en términos de la desviación absoluta mediana.\n",
    "\n",
    "$$ M_i = \\frac{0.6745*(x_i - Mediana)}{MAD}$$"
   ]
  },
  {
   "cell_type": "code",
   "execution_count": null,
   "metadata": {},
   "outputs": [],
   "source": [
    "\n",
    "# Obtain the MAD value\n"
   ]
  },
  {
   "cell_type": "code",
   "execution_count": null,
   "metadata": {},
   "outputs": [],
   "source": [
    "#rambíen podemos calcularlo manualmente:\n",
    "# Find the median\n",
    "\n",
    "# Find the absolute value of differences between the median and each data point\n",
    "\n",
    "# Take the median of differences\n"
   ]
  },
  {
   "cell_type": "code",
   "execution_count": null,
   "metadata": {},
   "outputs": [],
   "source": [
    "#!pip install pyod"
   ]
  },
  {
   "cell_type": "code",
   "execution_count": null,
   "metadata": {},
   "outputs": [],
   "source": [
    "# Import MAD estimator\n",
    "\n",
    "# Set threshold to 3.5\n",
    "\n",
    "# Convert the 'total' column into a 2D numpy array\n",
    "\n",
    "# Generate inline and outlier labels\n"
   ]
  },
  {
   "cell_type": "code",
   "execution_count": null,
   "metadata": {},
   "outputs": [],
   "source": []
  },
  {
   "cell_type": "markdown",
   "metadata": {},
   "source": [
    "### IQR\n"
   ]
  },
  {
   "cell_type": "markdown",
   "metadata": {},
   "source": [
    "> Límite inferior = $Q1 — (k * IQR)$\n",
    "\n",
    "> Límite superior = $Q3 + (k * IQR)$\n",
    "\n",
    "Donde $Q1$ es el primer cuartil y $Q3$ es el tercer cuartil. El valor más común del factor $k$ es 1.5\n",
    "Los valores que se encuentren por debajo del límite inferior o por encima del límite superior se consideran atípicos."
   ]
  },
  {
   "cell_type": "code",
   "execution_count": null,
   "metadata": {},
   "outputs": [],
   "source": [
    "# Calculate the percentiles\n",
    "\n",
    "# Obtain IQR\n",
    "\n",
    "# Upper and lower thresholds\n",
    "\n",
    "# Subset the dataset \n"
   ]
  },
  {
   "cell_type": "markdown",
   "metadata": {},
   "source": [
    "## ¿Qué hacer después de identificar los outliers?\n",
    "\n",
    "> **Mantenerlos:** Podemos mantener los outliers si consideramos que pueden ser representativos de un subconjunto de nuestros datos.\n",
    "\n",
    "> **Eliminarlos:** Si estamos seguros de que los outliers provienen de un error en la entrada de los datos, como un error humano o de medida, y no podemos solucionarlo, podemos eliminarlos del conjunto de datos.\n",
    "\n",
    "> **Imputar:** La imputación implica reemplazar los valores atípicos con otros valores como la mediana o la media. Esto se suele hacer cuando queremos conservar la mayor cantidad de datos, pero eliminando el efecto de los outliers.\n"
   ]
  },
  {
   "cell_type": "code",
   "execution_count": null,
   "metadata": {},
   "outputs": [],
   "source": [
    "# Mantenerlos, eliminarlos\n"
   ]
  },
  {
   "cell_type": "code",
   "execution_count": null,
   "metadata": {},
   "outputs": [],
   "source": [
    "# imputar:\n",
    "# Calculate the median\n",
    "\n",
    "\n",
    "# Impute outliers with the median\n"
   ]
  },
  {
   "cell_type": "markdown",
   "metadata": {},
   "source": [
    "### Ejercicio DS_Salaries.csv"
   ]
  },
  {
   "cell_type": "code",
   "execution_count": null,
   "metadata": {},
   "outputs": [],
   "source": [
    "ds_df = pd.read_csv('Data/ds_salaries.csv')"
   ]
  },
  {
   "cell_type": "markdown",
   "metadata": {},
   "source": [
    "## Datos atípicos en un modelo lineal"
   ]
  },
  {
   "cell_type": "code",
   "execution_count": null,
   "metadata": {},
   "outputs": [],
   "source": []
  },
  {
   "cell_type": "code",
   "execution_count": null,
   "metadata": {},
   "outputs": [],
   "source": [
    "# Graficar\n"
   ]
  },
  {
   "cell_type": "code",
   "execution_count": null,
   "metadata": {},
   "outputs": [],
   "source": [
    "# Obteniendo una relación líneal entre las dos variables\n"
   ]
  },
  {
   "cell_type": "code",
   "execution_count": null,
   "metadata": {},
   "outputs": [],
   "source": []
  }
 ],
 "metadata": {
  "colab": {
   "authorship_tag": "ABX9TyOF+MzbeIqhDgOLnPBA//FT",
   "provenance": []
  },
  "kernelspec": {
   "display_name": "Python 3 (ipykernel)",
   "language": "python",
   "name": "python3"
  },
  "language_info": {
   "codemirror_mode": {
    "name": "ipython",
    "version": 3
   },
   "file_extension": ".py",
   "mimetype": "text/x-python",
   "name": "python",
   "nbconvert_exporter": "python",
   "pygments_lexer": "ipython3",
   "version": "3.8.8"
  }
 },
 "nbformat": 4,
 "nbformat_minor": 1
}
