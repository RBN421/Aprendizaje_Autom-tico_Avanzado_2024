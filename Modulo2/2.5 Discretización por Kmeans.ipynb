{
 "cells": [
  {
   "cell_type": "markdown",
   "metadata": {},
   "source": [
    "<img style=\"float: left;;\" src='Figures/alinco.png' /></a>\n",
    "\n",
    "# <center> <font color= #000047> Discretización por Kmeans </font> </center>"
   ]
  },
  {
   "cell_type": "code",
   "execution_count": null,
   "metadata": {
    "colab": {
     "base_uri": "https://localhost:8080/",
     "height": 430
    },
    "executionInfo": {
     "elapsed": 7005,
     "status": "ok",
     "timestamp": 1683077294457,
     "user": {
      "displayName": "Carlos Arellano",
      "userId": "03055712073717640513"
     },
     "user_tz": 360
    },
    "id": "Ubbdo4wN9qJR",
    "outputId": "35746ce2-4c69-4348-f95f-009c1316606e"
   },
   "outputs": [],
   "source": [
    "import pandas as pd\n",
    "import numpy as np\n",
    "import matplotlib.pyplot as plt\n",
    "from sklearn.linear_model import LinearRegression\n",
    "\n"
   ]
  },
  {
   "cell_type": "code",
   "execution_count": null,
   "metadata": {
    "colab": {
     "base_uri": "https://localhost:8080/",
     "height": 487
    },
    "executionInfo": {
     "elapsed": 2252,
     "status": "ok",
     "timestamp": 1683077385305,
     "user": {
      "displayName": "Carlos Arellano",
      "userId": "03055712073717640513"
     },
     "user_tz": 360
    },
    "id": "La6ZS_9Z_QtT",
    "outputId": "dc722ba1-76bd-48f1-adff-4816c14bd9cb"
   },
   "outputs": [],
   "source": []
  },
  {
   "cell_type": "code",
   "execution_count": null,
   "metadata": {
    "colab": {
     "base_uri": "https://localhost:8080/"
    },
    "executionInfo": {
     "elapsed": 147,
     "status": "ok",
     "timestamp": 1683077595829,
     "user": {
      "displayName": "Carlos Arellano",
      "userId": "03055712073717640513"
     },
     "user_tz": 360
    },
    "id": "T8MTX24-OsGe",
    "outputId": "c582612d-151c-43fe-a977-380bf5f243af"
   },
   "outputs": [],
   "source": [
    "#@title Discretización con K-means\n",
    "#\n",
    "# Centroides\n"
   ]
  },
  {
   "cell_type": "code",
   "execution_count": null,
   "metadata": {
    "colab": {
     "base_uri": "https://localhost:8080/"
    },
    "executionInfo": {
     "elapsed": 181,
     "status": "ok",
     "timestamp": 1683078283449,
     "user": {
      "displayName": "Carlos Arellano",
      "userId": "03055712073717640513"
     },
     "user_tz": 360
    },
    "id": "6QXNmQFPPgD_",
    "outputId": "015e38e5-d548-4d0b-fea1-6a712718b4ae"
   },
   "outputs": [],
   "source": []
  },
  {
   "cell_type": "code",
   "execution_count": null,
   "metadata": {
    "colab": {
     "base_uri": "https://localhost:8080/"
    },
    "executionInfo": {
     "elapsed": 170,
     "status": "ok",
     "timestamp": 1683078394308,
     "user": {
      "displayName": "Carlos Arellano",
      "userId": "03055712073717640513"
     },
     "user_tz": 360
    },
    "id": "L8pyrDa8SXZ8",
    "outputId": "9f9f27bb-febf-47be-afe5-f7edabe46299"
   },
   "outputs": [],
   "source": []
  },
  {
   "cell_type": "code",
   "execution_count": null,
   "metadata": {
    "colab": {
     "base_uri": "https://localhost:8080/",
     "height": 447
    },
    "executionInfo": {
     "elapsed": 3349,
     "status": "ok",
     "timestamp": 1683078918310,
     "user": {
      "displayName": "Carlos Arellano",
      "userId": "03055712073717640513"
     },
     "user_tz": 360
    },
    "id": "JOxKAHMXSrTq",
    "outputId": "b3f43413-3b68-4621-e37c-975f69d3da23"
   },
   "outputs": [],
   "source": [
    "ctr_anterior=np.ones(k)*np.inf\n"
   ]
  },
  {
   "cell_type": "code",
   "execution_count": null,
   "metadata": {
    "colab": {
     "base_uri": "https://localhost:8080/",
     "height": 435
    },
    "executionInfo": {
     "elapsed": 34554,
     "status": "ok",
     "timestamp": 1683079498095,
     "user": {
      "displayName": "Carlos Arellano",
      "userId": "03055712073717640513"
     },
     "user_tz": 360
    },
    "id": "wINGE8TDU5hK",
    "outputId": "c6296b52-5154-4ba5-d022-6402f80aa724"
   },
   "outputs": [],
   "source": [
    "#@title Regresiones\n",
    "#\n",
    "# Modelo con datos sin discretizar\n",
    "\n",
    "# Modelo con datos discretizados con K-means\n",
    "\n",
    "# Gráfica\n"
   ]
  },
  {
   "cell_type": "code",
   "execution_count": null,
   "metadata": {
    "colab": {
     "base_uri": "https://localhost:8080/"
    },
    "executionInfo": {
     "elapsed": 7,
     "status": "ok",
     "timestamp": 1683079498095,
     "user": {
      "displayName": "Carlos Arellano",
      "userId": "03055712073717640513"
     },
     "user_tz": 360
    },
    "id": "LFC3_iH8WcJn",
    "outputId": "dc01450f-c087-4638-b494-226f5837650a"
   },
   "outputs": [],
   "source": [
    "# Modelo con datos sin discretizar\n"
   ]
  },
  {
   "cell_type": "code",
   "execution_count": null,
   "metadata": {
    "colab": {
     "base_uri": "https://localhost:8080/"
    },
    "executionInfo": {
     "elapsed": 179,
     "status": "ok",
     "timestamp": 1683079503951,
     "user": {
      "displayName": "Carlos Arellano",
      "userId": "03055712073717640513"
     },
     "user_tz": 360
    },
    "id": "cAgzc-fqWpuM",
    "outputId": "31613263-afff-45c5-fe2a-00ab995145f5"
   },
   "outputs": [],
   "source": [
    "# Modelo con datos discretizados usando K-means\n"
   ]
  },
  {
   "cell_type": "markdown",
   "metadata": {
    "id": "YL6XDyAMXGmv"
   },
   "source": [
    "### Modelos resultantes\n",
    "Modelo con datos sin discretizar\n",
    "$$\n",
    "y=0.4017x+0.000186\n",
    "$$\n",
    "Modelo con datos discretizados usando K-means\n",
    "$$\n",
    "y=0.4079x+0.000185\n",
    "$$"
   ]
  },
  {
   "cell_type": "code",
   "execution_count": null,
   "metadata": {
    "colab": {
     "base_uri": "https://localhost:8080/",
     "height": 430
    },
    "executionInfo": {
     "elapsed": 23662,
     "status": "ok",
     "timestamp": 1683080254675,
     "user": {
      "displayName": "Carlos Arellano",
      "userId": "03055712073717640513"
     },
     "user_tz": 360
    },
    "id": "bawfRVqKXzqh",
    "outputId": "b5be97aa-5c30-4f60-bd9d-dbc9f31ab5ca"
   },
   "outputs": [],
   "source": []
  }
 ],
 "metadata": {
  "colab": {
   "authorship_tag": "ABX9TyMWmjEaDy/aOVypwU0ckCBU",
   "mount_file_id": "1DWqH1H9baETkU4awaBpRdt732c-Gqnwr",
   "provenance": []
  },
  "kernelspec": {
   "display_name": "Python 3 (ipykernel)",
   "language": "python",
   "name": "python3"
  },
  "language_info": {
   "codemirror_mode": {
    "name": "ipython",
    "version": 3
   },
   "file_extension": ".py",
   "mimetype": "text/x-python",
   "name": "python",
   "nbconvert_exporter": "python",
   "pygments_lexer": "ipython3",
   "version": "3.8.8"
  }
 },
 "nbformat": 4,
 "nbformat_minor": 1
}
