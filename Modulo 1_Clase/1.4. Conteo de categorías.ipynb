{
 "cells": [
  {
   "cell_type": "markdown",
   "metadata": {},
   "source": [
    "<img style=\"float: left;;\" src='Figures/alinco.png' /></a>\n",
    "# <center> <font color= #000047> Conteo de categorías </font> </center>"
   ]
  },
  {
   "cell_type": "code",
   "execution_count": 1,
   "metadata": {
    "executionInfo": {
     "elapsed": 2191,
     "status": "ok",
     "timestamp": 1678244039491,
     "user": {
      "displayName": "Carlos Arellano",
      "userId": "03055712073717640513"
     },
     "user_tz": 360
    },
    "id": "nWi6ATDXvYXT"
   },
   "outputs": [],
   "source": [
    "import pandas as pd\n",
    "import numpy as np\n",
    "\n",
    "data=pd.read_csv('Data/temps.txt',sep='\\s+',header=None) # Fuente: http://astro.iam.udg.mx/Estacion/NOAAPRMO.TXT\n",
    "                                                         #         http://astro.iam.udg.mx/Estacion/NOAAMO.TXT\n",
    "data.columns=['Temperatura máxima','Temperatura mínima','HDD','CDD','Rain']\n",
    "d=['Sábado','Domingo','Lunes','Martes','Miércoles','Jueves','Viernes']\n",
    "dias=[d[i%7] for i in range(len(data))]\n",
    "catego=['Soleado','Mayormente soleado','Parcialmente nublado','Mayormente nublado','Nublado','Lluvioso']\n",
    "prono=[catego[-1] if data['Rain'][i]>0 else catego[int(round(1.2*(data['HDD'][i]-data['CDD'][i])+2))] for i in range(len(data))]\n",
    "df=pd.DataFrame(columns=['Días','Pronóstico','Temperatura máxima','Temperatura mínima'],index=range(len(data)))\n",
    "df.iloc[:,2:4]=data.iloc[:,0:2]\n",
    "df['Días']=dias\n",
    "df['Pronóstico']=prono\n",
    "\n",
    "txt1=\"Pedro Perez Pereira, pobre pintor portuguez, pinta preciosos paisajes para poder partir para Paris.\"\n",
    "txt2=\"Preciosos gatos y perros con mancha quiero. Partir de izquierda a derecha para poder llegar a algun lugar.\"\n",
    "txt3=\"En un lugar de la Mancha, cuyo nombre no quiero acordarme...\""
   ]
  },
  {
   "cell_type": "code",
   "execution_count": 2,
   "metadata": {
    "colab": {
     "base_uri": "https://localhost:8080/",
     "height": 206
    },
    "executionInfo": {
     "elapsed": 804,
     "status": "ok",
     "timestamp": 1678244054001,
     "user": {
      "displayName": "Carlos Arellano",
      "userId": "03055712073717640513"
     },
     "user_tz": 360
    },
    "id": "Nxcr6RIkvmiq",
    "outputId": "f3bdfa65-d0e4-4efd-85cb-559f29a9f20e"
   },
   "outputs": [
    {
     "data": {
      "text/html": [
       "<div>\n",
       "<style scoped>\n",
       "    .dataframe tbody tr th:only-of-type {\n",
       "        vertical-align: middle;\n",
       "    }\n",
       "\n",
       "    .dataframe tbody tr th {\n",
       "        vertical-align: top;\n",
       "    }\n",
       "\n",
       "    .dataframe thead th {\n",
       "        text-align: right;\n",
       "    }\n",
       "</style>\n",
       "<table border=\"1\" class=\"dataframe\">\n",
       "  <thead>\n",
       "    <tr style=\"text-align: right;\">\n",
       "      <th></th>\n",
       "      <th>Días</th>\n",
       "      <th>Pronóstico</th>\n",
       "      <th>Temperatura máxima</th>\n",
       "      <th>Temperatura mínima</th>\n",
       "    </tr>\n",
       "  </thead>\n",
       "  <tbody>\n",
       "    <tr>\n",
       "      <th>0</th>\n",
       "      <td>Sábado</td>\n",
       "      <td>Parcialmente nublado</td>\n",
       "      <td>28.2</td>\n",
       "      <td>11.2</td>\n",
       "    </tr>\n",
       "    <tr>\n",
       "      <th>1</th>\n",
       "      <td>Domingo</td>\n",
       "      <td>Parcialmente nublado</td>\n",
       "      <td>29.1</td>\n",
       "      <td>10.7</td>\n",
       "    </tr>\n",
       "    <tr>\n",
       "      <th>2</th>\n",
       "      <td>Lunes</td>\n",
       "      <td>Mayormente nublado</td>\n",
       "      <td>26.1</td>\n",
       "      <td>10.4</td>\n",
       "    </tr>\n",
       "    <tr>\n",
       "      <th>3</th>\n",
       "      <td>Martes</td>\n",
       "      <td>Mayormente soleado</td>\n",
       "      <td>29.4</td>\n",
       "      <td>11.1</td>\n",
       "    </tr>\n",
       "    <tr>\n",
       "      <th>4</th>\n",
       "      <td>Miércoles</td>\n",
       "      <td>Mayormente soleado</td>\n",
       "      <td>29.8</td>\n",
       "      <td>11.1</td>\n",
       "    </tr>\n",
       "    <tr>\n",
       "      <th>5</th>\n",
       "      <td>Jueves</td>\n",
       "      <td>Mayormente soleado</td>\n",
       "      <td>30.2</td>\n",
       "      <td>10.2</td>\n",
       "    </tr>\n",
       "    <tr>\n",
       "      <th>6</th>\n",
       "      <td>Viernes</td>\n",
       "      <td>Mayormente soleado</td>\n",
       "      <td>29.3</td>\n",
       "      <td>10.3</td>\n",
       "    </tr>\n",
       "    <tr>\n",
       "      <th>7</th>\n",
       "      <td>Sábado</td>\n",
       "      <td>Mayormente soleado</td>\n",
       "      <td>28.6</td>\n",
       "      <td>10.9</td>\n",
       "    </tr>\n",
       "    <tr>\n",
       "      <th>8</th>\n",
       "      <td>Domingo</td>\n",
       "      <td>Parcialmente nublado</td>\n",
       "      <td>29.0</td>\n",
       "      <td>9.8</td>\n",
       "    </tr>\n",
       "    <tr>\n",
       "      <th>9</th>\n",
       "      <td>Lunes</td>\n",
       "      <td>Mayormente soleado</td>\n",
       "      <td>27.2</td>\n",
       "      <td>11.2</td>\n",
       "    </tr>\n",
       "    <tr>\n",
       "      <th>10</th>\n",
       "      <td>Martes</td>\n",
       "      <td>Mayormente soleado</td>\n",
       "      <td>26.0</td>\n",
       "      <td>13.1</td>\n",
       "    </tr>\n",
       "    <tr>\n",
       "      <th>11</th>\n",
       "      <td>Miércoles</td>\n",
       "      <td>Parcialmente nublado</td>\n",
       "      <td>27.9</td>\n",
       "      <td>11.5</td>\n",
       "    </tr>\n",
       "    <tr>\n",
       "      <th>12</th>\n",
       "      <td>Jueves</td>\n",
       "      <td>Mayormente soleado</td>\n",
       "      <td>28.7</td>\n",
       "      <td>12.1</td>\n",
       "    </tr>\n",
       "    <tr>\n",
       "      <th>13</th>\n",
       "      <td>Viernes</td>\n",
       "      <td>Mayormente soleado</td>\n",
       "      <td>28.9</td>\n",
       "      <td>10.8</td>\n",
       "    </tr>\n",
       "    <tr>\n",
       "      <th>14</th>\n",
       "      <td>Sábado</td>\n",
       "      <td>Soleado</td>\n",
       "      <td>28.9</td>\n",
       "      <td>11.8</td>\n",
       "    </tr>\n",
       "    <tr>\n",
       "      <th>15</th>\n",
       "      <td>Domingo</td>\n",
       "      <td>Parcialmente nublado</td>\n",
       "      <td>26.4</td>\n",
       "      <td>12.3</td>\n",
       "    </tr>\n",
       "    <tr>\n",
       "      <th>16</th>\n",
       "      <td>Lunes</td>\n",
       "      <td>Mayormente soleado</td>\n",
       "      <td>27.2</td>\n",
       "      <td>12.2</td>\n",
       "    </tr>\n",
       "    <tr>\n",
       "      <th>17</th>\n",
       "      <td>Martes</td>\n",
       "      <td>Lluvioso</td>\n",
       "      <td>27.9</td>\n",
       "      <td>11.5</td>\n",
       "    </tr>\n",
       "    <tr>\n",
       "      <th>18</th>\n",
       "      <td>Miércoles</td>\n",
       "      <td>Parcialmente nublado</td>\n",
       "      <td>27.9</td>\n",
       "      <td>9.6</td>\n",
       "    </tr>\n",
       "    <tr>\n",
       "      <th>19</th>\n",
       "      <td>Jueves</td>\n",
       "      <td>Parcialmente nublado</td>\n",
       "      <td>26.1</td>\n",
       "      <td>12.3</td>\n",
       "    </tr>\n",
       "    <tr>\n",
       "      <th>20</th>\n",
       "      <td>Viernes</td>\n",
       "      <td>Parcialmente nublado</td>\n",
       "      <td>23.1</td>\n",
       "      <td>14.6</td>\n",
       "    </tr>\n",
       "    <tr>\n",
       "      <th>21</th>\n",
       "      <td>Sábado</td>\n",
       "      <td>Mayormente nublado</td>\n",
       "      <td>26.3</td>\n",
       "      <td>9.8</td>\n",
       "    </tr>\n",
       "    <tr>\n",
       "      <th>22</th>\n",
       "      <td>Domingo</td>\n",
       "      <td>Parcialmente nublado</td>\n",
       "      <td>26.4</td>\n",
       "      <td>11.3</td>\n",
       "    </tr>\n",
       "    <tr>\n",
       "      <th>23</th>\n",
       "      <td>Lunes</td>\n",
       "      <td>Mayormente nublado</td>\n",
       "      <td>23.6</td>\n",
       "      <td>12.5</td>\n",
       "    </tr>\n",
       "    <tr>\n",
       "      <th>24</th>\n",
       "      <td>Martes</td>\n",
       "      <td>Parcialmente nublado</td>\n",
       "      <td>26.0</td>\n",
       "      <td>12.2</td>\n",
       "    </tr>\n",
       "    <tr>\n",
       "      <th>25</th>\n",
       "      <td>Miércoles</td>\n",
       "      <td>Parcialmente nublado</td>\n",
       "      <td>26.6</td>\n",
       "      <td>10.7</td>\n",
       "    </tr>\n",
       "    <tr>\n",
       "      <th>26</th>\n",
       "      <td>Jueves</td>\n",
       "      <td>Soleado</td>\n",
       "      <td>27.7</td>\n",
       "      <td>12.8</td>\n",
       "    </tr>\n",
       "    <tr>\n",
       "      <th>27</th>\n",
       "      <td>Viernes</td>\n",
       "      <td>Soleado</td>\n",
       "      <td>30.4</td>\n",
       "      <td>11.3</td>\n",
       "    </tr>\n",
       "    <tr>\n",
       "      <th>28</th>\n",
       "      <td>Sábado</td>\n",
       "      <td>Mayormente soleado</td>\n",
       "      <td>28.3</td>\n",
       "      <td>12.6</td>\n",
       "    </tr>\n",
       "    <tr>\n",
       "      <th>29</th>\n",
       "      <td>Domingo</td>\n",
       "      <td>Soleado</td>\n",
       "      <td>28.6</td>\n",
       "      <td>10.9</td>\n",
       "    </tr>\n",
       "    <tr>\n",
       "      <th>30</th>\n",
       "      <td>Lunes</td>\n",
       "      <td>Mayormente soleado</td>\n",
       "      <td>27.4</td>\n",
       "      <td>11.6</td>\n",
       "    </tr>\n",
       "    <tr>\n",
       "      <th>31</th>\n",
       "      <td>Martes</td>\n",
       "      <td>Parcialmente nublado</td>\n",
       "      <td>27.5</td>\n",
       "      <td>9.4</td>\n",
       "    </tr>\n",
       "    <tr>\n",
       "      <th>32</th>\n",
       "      <td>Miércoles</td>\n",
       "      <td>Parcialmente nublado</td>\n",
       "      <td>28.3</td>\n",
       "      <td>9.6</td>\n",
       "    </tr>\n",
       "    <tr>\n",
       "      <th>33</th>\n",
       "      <td>Jueves</td>\n",
       "      <td>Parcialmente nublado</td>\n",
       "      <td>25.9</td>\n",
       "      <td>10.3</td>\n",
       "    </tr>\n",
       "    <tr>\n",
       "      <th>34</th>\n",
       "      <td>Viernes</td>\n",
       "      <td>Mayormente soleado</td>\n",
       "      <td>27.1</td>\n",
       "      <td>11.8</td>\n",
       "    </tr>\n",
       "    <tr>\n",
       "      <th>35</th>\n",
       "      <td>Sábado</td>\n",
       "      <td>Parcialmente nublado</td>\n",
       "      <td>27.4</td>\n",
       "      <td>11.7</td>\n",
       "    </tr>\n",
       "    <tr>\n",
       "      <th>36</th>\n",
       "      <td>Domingo</td>\n",
       "      <td>Mayormente soleado</td>\n",
       "      <td>27.1</td>\n",
       "      <td>11.1</td>\n",
       "    </tr>\n",
       "    <tr>\n",
       "      <th>37</th>\n",
       "      <td>Lunes</td>\n",
       "      <td>Parcialmente nublado</td>\n",
       "      <td>25.2</td>\n",
       "      <td>12.2</td>\n",
       "    </tr>\n",
       "    <tr>\n",
       "      <th>38</th>\n",
       "      <td>Martes</td>\n",
       "      <td>Nublado</td>\n",
       "      <td>26.8</td>\n",
       "      <td>9.7</td>\n",
       "    </tr>\n",
       "    <tr>\n",
       "      <th>39</th>\n",
       "      <td>Miércoles</td>\n",
       "      <td>Mayormente nublado</td>\n",
       "      <td>26.3</td>\n",
       "      <td>10.0</td>\n",
       "    </tr>\n",
       "    <tr>\n",
       "      <th>40</th>\n",
       "      <td>Jueves</td>\n",
       "      <td>Mayormente nublado</td>\n",
       "      <td>26.2</td>\n",
       "      <td>9.7</td>\n",
       "    </tr>\n",
       "    <tr>\n",
       "      <th>41</th>\n",
       "      <td>Viernes</td>\n",
       "      <td>Nublado</td>\n",
       "      <td>24.5</td>\n",
       "      <td>9.3</td>\n",
       "    </tr>\n",
       "    <tr>\n",
       "      <th>42</th>\n",
       "      <td>Sábado</td>\n",
       "      <td>Mayormente nublado</td>\n",
       "      <td>25.1</td>\n",
       "      <td>11.7</td>\n",
       "    </tr>\n",
       "    <tr>\n",
       "      <th>43</th>\n",
       "      <td>Domingo</td>\n",
       "      <td>Parcialmente nublado</td>\n",
       "      <td>26.2</td>\n",
       "      <td>11.6</td>\n",
       "    </tr>\n",
       "    <tr>\n",
       "      <th>44</th>\n",
       "      <td>Lunes</td>\n",
       "      <td>Lluvioso</td>\n",
       "      <td>26.6</td>\n",
       "      <td>14.2</td>\n",
       "    </tr>\n",
       "    <tr>\n",
       "      <th>45</th>\n",
       "      <td>Martes</td>\n",
       "      <td>Soleado</td>\n",
       "      <td>29.1</td>\n",
       "      <td>11.9</td>\n",
       "    </tr>\n",
       "    <tr>\n",
       "      <th>46</th>\n",
       "      <td>Miércoles</td>\n",
       "      <td>Soleado</td>\n",
       "      <td>28.7</td>\n",
       "      <td>12.1</td>\n",
       "    </tr>\n",
       "    <tr>\n",
       "      <th>47</th>\n",
       "      <td>Jueves</td>\n",
       "      <td>Parcialmente nublado</td>\n",
       "      <td>29.2</td>\n",
       "      <td>11.7</td>\n",
       "    </tr>\n",
       "  </tbody>\n",
       "</table>\n",
       "</div>"
      ],
      "text/plain": [
       "         Días            Pronóstico Temperatura máxima Temperatura mínima\n",
       "0      Sábado  Parcialmente nublado               28.2               11.2\n",
       "1     Domingo  Parcialmente nublado               29.1               10.7\n",
       "2       Lunes    Mayormente nublado               26.1               10.4\n",
       "3      Martes    Mayormente soleado               29.4               11.1\n",
       "4   Miércoles    Mayormente soleado               29.8               11.1\n",
       "5      Jueves    Mayormente soleado               30.2               10.2\n",
       "6     Viernes    Mayormente soleado               29.3               10.3\n",
       "7      Sábado    Mayormente soleado               28.6               10.9\n",
       "8     Domingo  Parcialmente nublado               29.0                9.8\n",
       "9       Lunes    Mayormente soleado               27.2               11.2\n",
       "10     Martes    Mayormente soleado               26.0               13.1\n",
       "11  Miércoles  Parcialmente nublado               27.9               11.5\n",
       "12     Jueves    Mayormente soleado               28.7               12.1\n",
       "13    Viernes    Mayormente soleado               28.9               10.8\n",
       "14     Sábado               Soleado               28.9               11.8\n",
       "15    Domingo  Parcialmente nublado               26.4               12.3\n",
       "16      Lunes    Mayormente soleado               27.2               12.2\n",
       "17     Martes              Lluvioso               27.9               11.5\n",
       "18  Miércoles  Parcialmente nublado               27.9                9.6\n",
       "19     Jueves  Parcialmente nublado               26.1               12.3\n",
       "20    Viernes  Parcialmente nublado               23.1               14.6\n",
       "21     Sábado    Mayormente nublado               26.3                9.8\n",
       "22    Domingo  Parcialmente nublado               26.4               11.3\n",
       "23      Lunes    Mayormente nublado               23.6               12.5\n",
       "24     Martes  Parcialmente nublado               26.0               12.2\n",
       "25  Miércoles  Parcialmente nublado               26.6               10.7\n",
       "26     Jueves               Soleado               27.7               12.8\n",
       "27    Viernes               Soleado               30.4               11.3\n",
       "28     Sábado    Mayormente soleado               28.3               12.6\n",
       "29    Domingo               Soleado               28.6               10.9\n",
       "30      Lunes    Mayormente soleado               27.4               11.6\n",
       "31     Martes  Parcialmente nublado               27.5                9.4\n",
       "32  Miércoles  Parcialmente nublado               28.3                9.6\n",
       "33     Jueves  Parcialmente nublado               25.9               10.3\n",
       "34    Viernes    Mayormente soleado               27.1               11.8\n",
       "35     Sábado  Parcialmente nublado               27.4               11.7\n",
       "36    Domingo    Mayormente soleado               27.1               11.1\n",
       "37      Lunes  Parcialmente nublado               25.2               12.2\n",
       "38     Martes               Nublado               26.8                9.7\n",
       "39  Miércoles    Mayormente nublado               26.3               10.0\n",
       "40     Jueves    Mayormente nublado               26.2                9.7\n",
       "41    Viernes               Nublado               24.5                9.3\n",
       "42     Sábado    Mayormente nublado               25.1               11.7\n",
       "43    Domingo  Parcialmente nublado               26.2               11.6\n",
       "44      Lunes              Lluvioso               26.6               14.2\n",
       "45     Martes               Soleado               29.1               11.9\n",
       "46  Miércoles               Soleado               28.7               12.1\n",
       "47     Jueves  Parcialmente nublado               29.2               11.7"
      ]
     },
     "execution_count": 2,
     "metadata": {},
     "output_type": "execute_result"
    }
   ],
   "source": [
    "df"
   ]
  },
  {
   "cell_type": "code",
   "execution_count": 3,
   "metadata": {},
   "outputs": [
    {
     "data": {
      "text/plain": [
       "Parcialmente nublado    18\n",
       "Mayormente soleado      14\n",
       "Mayormente nublado       6\n",
       "Soleado                  6\n",
       "Lluvioso                 2\n",
       "Nublado                  2\n",
       "Name: Pronóstico, dtype: int64"
      ]
     },
     "execution_count": 3,
     "metadata": {},
     "output_type": "execute_result"
    }
   ],
   "source": [
    "conteo = df['Pronóstico'].value_counts()\n",
    "conteo"
   ]
  },
  {
   "cell_type": "code",
   "execution_count": 4,
   "metadata": {
    "colab": {
     "base_uri": "https://localhost:8080/"
    },
    "executionInfo": {
     "elapsed": 198,
     "status": "ok",
     "timestamp": 1678244231211,
     "user": {
      "displayName": "Carlos Arellano",
      "userId": "03055712073717640513"
     },
     "user_tz": 360
    },
    "id": "-qbDalm5I__Q",
    "outputId": "f6fec15e-fe15-4350-a680-cbef26530ba7"
   },
   "outputs": [],
   "source": [
    "df['Conteo']=df['Pronóstico'].map(conteo)"
   ]
  },
  {
   "cell_type": "code",
   "execution_count": 5,
   "metadata": {
    "colab": {
     "base_uri": "https://localhost:8080/",
     "height": 206
    },
    "executionInfo": {
     "elapsed": 267,
     "status": "ok",
     "timestamp": 1678244264415,
     "user": {
      "displayName": "Carlos Arellano",
      "userId": "03055712073717640513"
     },
     "user_tz": 360
    },
    "id": "NgyPw_KaJrW_",
    "outputId": "d030e46e-b4ea-4bb2-cc18-ad27c7c1e768"
   },
   "outputs": [
    {
     "data": {
      "text/html": [
       "<div>\n",
       "<style scoped>\n",
       "    .dataframe tbody tr th:only-of-type {\n",
       "        vertical-align: middle;\n",
       "    }\n",
       "\n",
       "    .dataframe tbody tr th {\n",
       "        vertical-align: top;\n",
       "    }\n",
       "\n",
       "    .dataframe thead th {\n",
       "        text-align: right;\n",
       "    }\n",
       "</style>\n",
       "<table border=\"1\" class=\"dataframe\">\n",
       "  <thead>\n",
       "    <tr style=\"text-align: right;\">\n",
       "      <th></th>\n",
       "      <th>Días</th>\n",
       "      <th>Pronóstico</th>\n",
       "      <th>Temperatura máxima</th>\n",
       "      <th>Temperatura mínima</th>\n",
       "      <th>Conteo</th>\n",
       "    </tr>\n",
       "  </thead>\n",
       "  <tbody>\n",
       "    <tr>\n",
       "      <th>0</th>\n",
       "      <td>Sábado</td>\n",
       "      <td>Parcialmente nublado</td>\n",
       "      <td>28.2</td>\n",
       "      <td>11.2</td>\n",
       "      <td>18</td>\n",
       "    </tr>\n",
       "    <tr>\n",
       "      <th>1</th>\n",
       "      <td>Domingo</td>\n",
       "      <td>Parcialmente nublado</td>\n",
       "      <td>29.1</td>\n",
       "      <td>10.7</td>\n",
       "      <td>18</td>\n",
       "    </tr>\n",
       "    <tr>\n",
       "      <th>2</th>\n",
       "      <td>Lunes</td>\n",
       "      <td>Mayormente nublado</td>\n",
       "      <td>26.1</td>\n",
       "      <td>10.4</td>\n",
       "      <td>6</td>\n",
       "    </tr>\n",
       "    <tr>\n",
       "      <th>3</th>\n",
       "      <td>Martes</td>\n",
       "      <td>Mayormente soleado</td>\n",
       "      <td>29.4</td>\n",
       "      <td>11.1</td>\n",
       "      <td>14</td>\n",
       "    </tr>\n",
       "    <tr>\n",
       "      <th>4</th>\n",
       "      <td>Miércoles</td>\n",
       "      <td>Mayormente soleado</td>\n",
       "      <td>29.8</td>\n",
       "      <td>11.1</td>\n",
       "      <td>14</td>\n",
       "    </tr>\n",
       "  </tbody>\n",
       "</table>\n",
       "</div>"
      ],
      "text/plain": [
       "        Días            Pronóstico Temperatura máxima Temperatura mínima  \\\n",
       "0     Sábado  Parcialmente nublado               28.2               11.2   \n",
       "1    Domingo  Parcialmente nublado               29.1               10.7   \n",
       "2      Lunes    Mayormente nublado               26.1               10.4   \n",
       "3     Martes    Mayormente soleado               29.4               11.1   \n",
       "4  Miércoles    Mayormente soleado               29.8               11.1   \n",
       "\n",
       "   Conteo  \n",
       "0      18  \n",
       "1      18  \n",
       "2       6  \n",
       "3      14  \n",
       "4      14  "
      ]
     },
     "execution_count": 5,
     "metadata": {},
     "output_type": "execute_result"
    }
   ],
   "source": [
    "df.head()"
   ]
  },
  {
   "cell_type": "code",
   "execution_count": 6,
   "metadata": {
    "colab": {
     "base_uri": "https://localhost:8080/",
     "height": 206
    },
    "executionInfo": {
     "elapsed": 174,
     "status": "ok",
     "timestamp": 1678244387885,
     "user": {
      "displayName": "Carlos Arellano",
      "userId": "03055712073717640513"
     },
     "user_tz": 360
    },
    "id": "BBu_OIINJzck",
    "outputId": "c78e0fc7-d2a5-40b6-a94c-39d239f56844"
   },
   "outputs": [
    {
     "data": {
      "text/plain": [
       "Parcialmente nublado    0.375000\n",
       "Mayormente soleado      0.291667\n",
       "Mayormente nublado      0.125000\n",
       "Soleado                 0.125000\n",
       "Lluvioso                0.041667\n",
       "Nublado                 0.041667\n",
       "Name: Pronóstico, dtype: float64"
      ]
     },
     "execution_count": 6,
     "metadata": {},
     "output_type": "execute_result"
    }
   ],
   "source": [
    "freq = df['Pronóstico'].value_counts()/len(df)\n",
    "freq"
   ]
  },
  {
   "cell_type": "code",
   "execution_count": 8,
   "metadata": {},
   "outputs": [
    {
     "data": {
      "text/plain": [
       "1.0"
      ]
     },
     "execution_count": 8,
     "metadata": {},
     "output_type": "execute_result"
    }
   ],
   "source": [
    "freq.sum()"
   ]
  },
  {
   "cell_type": "code",
   "execution_count": 9,
   "metadata": {},
   "outputs": [
    {
     "data": {
      "text/plain": [
       "Parcialmente nublado    0.375000\n",
       "Mayormente soleado      0.291667\n",
       "Mayormente nublado      0.125000\n",
       "Soleado                 0.125000\n",
       "Lluvioso                0.041667\n",
       "Nublado                 0.041667\n",
       "Name: Pronóstico, dtype: float64"
      ]
     },
     "execution_count": 9,
     "metadata": {},
     "output_type": "execute_result"
    }
   ],
   "source": [
    " df['Pronóstico'].value_counts(normalize=True)"
   ]
  },
  {
   "cell_type": "code",
   "execution_count": null,
   "metadata": {},
   "outputs": [],
   "source": []
  },
  {
   "cell_type": "code",
   "execution_count": null,
   "metadata": {},
   "outputs": [],
   "source": []
  },
  {
   "cell_type": "markdown",
   "metadata": {
    "id": "AUrIh7DkvqvM"
   },
   "source": [
    "# Bag of words"
   ]
  },
  {
   "cell_type": "code",
   "execution_count": 10,
   "metadata": {
    "executionInfo": {
     "elapsed": 1130,
     "status": "ok",
     "timestamp": 1678244527588,
     "user": {
      "displayName": "Carlos Arellano",
      "userId": "03055712073717640513"
     },
     "user_tz": 360
    },
    "id": "cWwfagxFvsOd"
   },
   "outputs": [],
   "source": [
    "from sklearn.feature_extraction.text import CountVectorizer"
   ]
  },
  {
   "cell_type": "code",
   "execution_count": 12,
   "metadata": {},
   "outputs": [
    {
     "data": {
      "text/plain": [
       "'Pedro Perez Pereira, pobre pintor portuguez, pinta preciosos paisajes para poder partir para Paris.'"
      ]
     },
     "execution_count": 12,
     "metadata": {},
     "output_type": "execute_result"
    }
   ],
   "source": [
    "txt1"
   ]
  },
  {
   "cell_type": "code",
   "execution_count": 13,
   "metadata": {},
   "outputs": [
    {
     "data": {
      "text/plain": [
       "'Preciosos gatos y perros con mancha quiero. Partir de izquierda a derecha para poder llegar a algun lugar.'"
      ]
     },
     "execution_count": 13,
     "metadata": {},
     "output_type": "execute_result"
    }
   ],
   "source": [
    "txt2"
   ]
  },
  {
   "cell_type": "code",
   "execution_count": 14,
   "metadata": {},
   "outputs": [
    {
     "data": {
      "text/plain": [
       "'En un lugar de la Mancha, cuyo nombre no quiero acordarme...'"
      ]
     },
     "execution_count": 14,
     "metadata": {},
     "output_type": "execute_result"
    }
   ],
   "source": [
    "txt3"
   ]
  },
  {
   "cell_type": "code",
   "execution_count": 16,
   "metadata": {},
   "outputs": [
    {
     "data": {
      "text/plain": [
       "array([[0, 0, 0, 0, 0, 0, 0, 0, 0, 0, 0, 0, 0, 0, 0, 1, 2, 1, 1, 1, 1, 1,\n",
       "        0, 1, 1, 1, 1, 1, 1, 0, 0],\n",
       "       [0, 1, 1, 0, 1, 1, 0, 1, 1, 0, 1, 1, 1, 0, 0, 0, 1, 0, 1, 0, 0, 0,\n",
       "        1, 0, 0, 0, 1, 0, 1, 1, 0],\n",
       "       [1, 0, 0, 1, 1, 0, 1, 0, 0, 1, 0, 1, 1, 1, 1, 0, 0, 0, 0, 0, 0, 0,\n",
       "        0, 0, 0, 0, 0, 0, 0, 1, 1]], dtype=int64)"
      ]
     },
     "execution_count": 16,
     "metadata": {},
     "output_type": "execute_result"
    }
   ],
   "source": [
    "contador = CountVectorizer()\n",
    "matriz = contador.fit_transform([txt1,txt2,txt3])\n",
    "matriz.toarray()"
   ]
  },
  {
   "cell_type": "code",
   "execution_count": 17,
   "metadata": {},
   "outputs": [
    {
     "data": {
      "text/plain": [
       "['acordarme',\n",
       " 'algun',\n",
       " 'con',\n",
       " 'cuyo',\n",
       " 'de',\n",
       " 'derecha',\n",
       " 'en',\n",
       " 'gatos',\n",
       " 'izquierda',\n",
       " 'la',\n",
       " 'llegar',\n",
       " 'lugar',\n",
       " 'mancha',\n",
       " 'no',\n",
       " 'nombre',\n",
       " 'paisajes',\n",
       " 'para',\n",
       " 'paris',\n",
       " 'partir',\n",
       " 'pedro',\n",
       " 'pereira',\n",
       " 'perez',\n",
       " 'perros',\n",
       " 'pinta',\n",
       " 'pintor',\n",
       " 'pobre',\n",
       " 'poder',\n",
       " 'portuguez',\n",
       " 'preciosos',\n",
       " 'quiero',\n",
       " 'un']"
      ]
     },
     "execution_count": 17,
     "metadata": {},
     "output_type": "execute_result"
    }
   ],
   "source": [
    "contador.get_feature_names()"
   ]
  },
  {
   "cell_type": "code",
   "execution_count": 19,
   "metadata": {},
   "outputs": [
    {
     "data": {
      "text/html": [
       "<div>\n",
       "<style scoped>\n",
       "    .dataframe tbody tr th:only-of-type {\n",
       "        vertical-align: middle;\n",
       "    }\n",
       "\n",
       "    .dataframe tbody tr th {\n",
       "        vertical-align: top;\n",
       "    }\n",
       "\n",
       "    .dataframe thead th {\n",
       "        text-align: right;\n",
       "    }\n",
       "</style>\n",
       "<table border=\"1\" class=\"dataframe\">\n",
       "  <thead>\n",
       "    <tr style=\"text-align: right;\">\n",
       "      <th></th>\n",
       "      <th>acordarme</th>\n",
       "      <th>algun</th>\n",
       "      <th>con</th>\n",
       "      <th>cuyo</th>\n",
       "      <th>de</th>\n",
       "      <th>derecha</th>\n",
       "      <th>en</th>\n",
       "      <th>gatos</th>\n",
       "      <th>izquierda</th>\n",
       "      <th>la</th>\n",
       "      <th>...</th>\n",
       "      <th>perez</th>\n",
       "      <th>perros</th>\n",
       "      <th>pinta</th>\n",
       "      <th>pintor</th>\n",
       "      <th>pobre</th>\n",
       "      <th>poder</th>\n",
       "      <th>portuguez</th>\n",
       "      <th>preciosos</th>\n",
       "      <th>quiero</th>\n",
       "      <th>un</th>\n",
       "    </tr>\n",
       "  </thead>\n",
       "  <tbody>\n",
       "    <tr>\n",
       "      <th>txt1</th>\n",
       "      <td>0</td>\n",
       "      <td>0</td>\n",
       "      <td>0</td>\n",
       "      <td>0</td>\n",
       "      <td>0</td>\n",
       "      <td>0</td>\n",
       "      <td>0</td>\n",
       "      <td>0</td>\n",
       "      <td>0</td>\n",
       "      <td>0</td>\n",
       "      <td>...</td>\n",
       "      <td>1</td>\n",
       "      <td>0</td>\n",
       "      <td>1</td>\n",
       "      <td>1</td>\n",
       "      <td>1</td>\n",
       "      <td>1</td>\n",
       "      <td>1</td>\n",
       "      <td>1</td>\n",
       "      <td>0</td>\n",
       "      <td>0</td>\n",
       "    </tr>\n",
       "    <tr>\n",
       "      <th>txt2</th>\n",
       "      <td>0</td>\n",
       "      <td>1</td>\n",
       "      <td>1</td>\n",
       "      <td>0</td>\n",
       "      <td>1</td>\n",
       "      <td>1</td>\n",
       "      <td>0</td>\n",
       "      <td>1</td>\n",
       "      <td>1</td>\n",
       "      <td>0</td>\n",
       "      <td>...</td>\n",
       "      <td>0</td>\n",
       "      <td>1</td>\n",
       "      <td>0</td>\n",
       "      <td>0</td>\n",
       "      <td>0</td>\n",
       "      <td>1</td>\n",
       "      <td>0</td>\n",
       "      <td>1</td>\n",
       "      <td>1</td>\n",
       "      <td>0</td>\n",
       "    </tr>\n",
       "    <tr>\n",
       "      <th>txt3</th>\n",
       "      <td>1</td>\n",
       "      <td>0</td>\n",
       "      <td>0</td>\n",
       "      <td>1</td>\n",
       "      <td>1</td>\n",
       "      <td>0</td>\n",
       "      <td>1</td>\n",
       "      <td>0</td>\n",
       "      <td>0</td>\n",
       "      <td>1</td>\n",
       "      <td>...</td>\n",
       "      <td>0</td>\n",
       "      <td>0</td>\n",
       "      <td>0</td>\n",
       "      <td>0</td>\n",
       "      <td>0</td>\n",
       "      <td>0</td>\n",
       "      <td>0</td>\n",
       "      <td>0</td>\n",
       "      <td>1</td>\n",
       "      <td>1</td>\n",
       "    </tr>\n",
       "  </tbody>\n",
       "</table>\n",
       "<p>3 rows × 31 columns</p>\n",
       "</div>"
      ],
      "text/plain": [
       "      acordarme  algun  con  cuyo  de  derecha  en  gatos  izquierda  la  ...  \\\n",
       "txt1          0      0    0     0   0        0   0      0          0   0  ...   \n",
       "txt2          0      1    1     0   1        1   0      1          1   0  ...   \n",
       "txt3          1      0    0     1   1        0   1      0          0   1  ...   \n",
       "\n",
       "      perez  perros  pinta  pintor  pobre  poder  portuguez  preciosos  \\\n",
       "txt1      1       0      1       1      1      1          1          1   \n",
       "txt2      0       1      0       0      0      1          0          1   \n",
       "txt3      0       0      0       0      0      0          0          0   \n",
       "\n",
       "      quiero  un  \n",
       "txt1       0   0  \n",
       "txt2       1   0  \n",
       "txt3       1   1  \n",
       "\n",
       "[3 rows x 31 columns]"
      ]
     },
     "execution_count": 19,
     "metadata": {},
     "output_type": "execute_result"
    }
   ],
   "source": [
    "pd.DataFrame(matriz.toarray(),['txt1','txt2','txt3'], contador.get_feature_names()) #matriz de frecuencias de los textos"
   ]
  },
  {
   "cell_type": "markdown",
   "metadata": {
    "id": "Me-L9ctwvtnF"
   },
   "source": [
    "### n-grams"
   ]
  },
  {
   "cell_type": "code",
   "execution_count": 20,
   "metadata": {
    "colab": {
     "base_uri": "https://localhost:8080/",
     "height": 35
    },
    "executionInfo": {
     "elapsed": 202,
     "status": "ok",
     "timestamp": 1678244967201,
     "user": {
      "displayName": "Carlos Arellano",
      "userId": "03055712073717640513"
     },
     "user_tz": 360
    },
    "id": "EaEI-zVkvwNG",
    "outputId": "a1f8b00d-65ef-496b-a918-6f89e71ee5fe"
   },
   "outputs": [
    {
     "data": {
      "text/plain": [
       "'Pedro Perez Pereira, pobre pintor portuguez, pinta preciosos paisajes para poder partir para Paris.'"
      ]
     },
     "execution_count": 20,
     "metadata": {},
     "output_type": "execute_result"
    }
   ],
   "source": [
    "txt1"
   ]
  },
  {
   "cell_type": "code",
   "execution_count": 22,
   "metadata": {
    "colab": {
     "base_uri": "https://localhost:8080/",
     "height": 254
    },
    "executionInfo": {
     "elapsed": 174,
     "status": "ok",
     "timestamp": 1678245233381,
     "user": {
      "displayName": "Carlos Arellano",
      "userId": "03055712073717640513"
     },
     "user_tz": 360
    },
    "id": "BAA46ierMe8n",
    "outputId": "b7130b35-c3de-4dbd-c8fa-a3e2d1d854f9"
   },
   "outputs": [
    {
     "data": {
      "text/html": [
       "<div>\n",
       "<style scoped>\n",
       "    .dataframe tbody tr th:only-of-type {\n",
       "        vertical-align: middle;\n",
       "    }\n",
       "\n",
       "    .dataframe tbody tr th {\n",
       "        vertical-align: top;\n",
       "    }\n",
       "\n",
       "    .dataframe thead th {\n",
       "        text-align: right;\n",
       "    }\n",
       "</style>\n",
       "<table border=\"1\" class=\"dataframe\">\n",
       "  <thead>\n",
       "    <tr style=\"text-align: right;\">\n",
       "      <th></th>\n",
       "      <th>algun lugar</th>\n",
       "      <th>con mancha</th>\n",
       "      <th>cuyo nombre</th>\n",
       "      <th>de izquierda</th>\n",
       "      <th>de la</th>\n",
       "      <th>derecha para</th>\n",
       "      <th>en un</th>\n",
       "      <th>gatos perros</th>\n",
       "      <th>izquierda derecha</th>\n",
       "      <th>la mancha</th>\n",
       "      <th>...</th>\n",
       "      <th>pintor portuguez</th>\n",
       "      <th>pobre pintor</th>\n",
       "      <th>poder llegar</th>\n",
       "      <th>poder partir</th>\n",
       "      <th>portuguez pinta</th>\n",
       "      <th>preciosos gatos</th>\n",
       "      <th>preciosos paisajes</th>\n",
       "      <th>quiero acordarme</th>\n",
       "      <th>quiero partir</th>\n",
       "      <th>un lugar</th>\n",
       "    </tr>\n",
       "  </thead>\n",
       "  <tbody>\n",
       "    <tr>\n",
       "      <th>txt1</th>\n",
       "      <td>0</td>\n",
       "      <td>0</td>\n",
       "      <td>0</td>\n",
       "      <td>0</td>\n",
       "      <td>0</td>\n",
       "      <td>0</td>\n",
       "      <td>0</td>\n",
       "      <td>0</td>\n",
       "      <td>0</td>\n",
       "      <td>0</td>\n",
       "      <td>...</td>\n",
       "      <td>1</td>\n",
       "      <td>1</td>\n",
       "      <td>0</td>\n",
       "      <td>1</td>\n",
       "      <td>1</td>\n",
       "      <td>0</td>\n",
       "      <td>1</td>\n",
       "      <td>0</td>\n",
       "      <td>0</td>\n",
       "      <td>0</td>\n",
       "    </tr>\n",
       "    <tr>\n",
       "      <th>txt2</th>\n",
       "      <td>1</td>\n",
       "      <td>1</td>\n",
       "      <td>0</td>\n",
       "      <td>1</td>\n",
       "      <td>0</td>\n",
       "      <td>1</td>\n",
       "      <td>0</td>\n",
       "      <td>1</td>\n",
       "      <td>1</td>\n",
       "      <td>0</td>\n",
       "      <td>...</td>\n",
       "      <td>0</td>\n",
       "      <td>0</td>\n",
       "      <td>1</td>\n",
       "      <td>0</td>\n",
       "      <td>0</td>\n",
       "      <td>1</td>\n",
       "      <td>0</td>\n",
       "      <td>0</td>\n",
       "      <td>1</td>\n",
       "      <td>0</td>\n",
       "    </tr>\n",
       "    <tr>\n",
       "      <th>txt3</th>\n",
       "      <td>0</td>\n",
       "      <td>0</td>\n",
       "      <td>1</td>\n",
       "      <td>0</td>\n",
       "      <td>1</td>\n",
       "      <td>0</td>\n",
       "      <td>1</td>\n",
       "      <td>0</td>\n",
       "      <td>0</td>\n",
       "      <td>1</td>\n",
       "      <td>...</td>\n",
       "      <td>0</td>\n",
       "      <td>0</td>\n",
       "      <td>0</td>\n",
       "      <td>0</td>\n",
       "      <td>0</td>\n",
       "      <td>0</td>\n",
       "      <td>0</td>\n",
       "      <td>1</td>\n",
       "      <td>0</td>\n",
       "      <td>1</td>\n",
       "    </tr>\n",
       "  </tbody>\n",
       "</table>\n",
       "<p>3 rows × 36 columns</p>\n",
       "</div>"
      ],
      "text/plain": [
       "      algun lugar  con mancha  cuyo nombre  de izquierda  de la  derecha para  \\\n",
       "txt1            0           0            0             0      0             0   \n",
       "txt2            1           1            0             1      0             1   \n",
       "txt3            0           0            1             0      1             0   \n",
       "\n",
       "      en un  gatos perros  izquierda derecha  la mancha  ...  \\\n",
       "txt1      0             0                  0          0  ...   \n",
       "txt2      0             1                  1          0  ...   \n",
       "txt3      1             0                  0          1  ...   \n",
       "\n",
       "      pintor portuguez  pobre pintor  poder llegar  poder partir  \\\n",
       "txt1                 1             1             0             1   \n",
       "txt2                 0             0             1             0   \n",
       "txt3                 0             0             0             0   \n",
       "\n",
       "      portuguez pinta  preciosos gatos  preciosos paisajes  quiero acordarme  \\\n",
       "txt1                1                0                   1                 0   \n",
       "txt2                0                1                   0                 0   \n",
       "txt3                0                0                   0                 1   \n",
       "\n",
       "      quiero partir  un lugar  \n",
       "txt1              0         0  \n",
       "txt2              1         0  \n",
       "txt3              0         1  \n",
       "\n",
       "[3 rows x 36 columns]"
      ]
     },
     "execution_count": 22,
     "metadata": {},
     "output_type": "execute_result"
    }
   ],
   "source": [
    "contador = CountVectorizer(ngram_range=(2,2))\n",
    "data = contador.fit_transform([txt1,txt2,txt3]).toarray()\n",
    "pd.DataFrame(data, ['txt1','txt2','txt3'], contador.get_feature_names())"
   ]
  },
  {
   "cell_type": "code",
   "execution_count": null,
   "metadata": {},
   "outputs": [],
   "source": []
  }
 ],
 "metadata": {
  "colab": {
   "authorship_tag": "ABX9TyNC+Jim04VX4mvOK9BJVpGc",
   "mount_file_id": "1lU37d4ao3hMs-MWc2XJKvimD6E4rns4W",
   "provenance": []
  },
  "kernelspec": {
   "display_name": "Python 3 (ipykernel)",
   "language": "python",
   "name": "python3"
  },
  "language_info": {
   "codemirror_mode": {
    "name": "ipython",
    "version": 3
   },
   "file_extension": ".py",
   "mimetype": "text/x-python",
   "name": "python",
   "nbconvert_exporter": "python",
   "pygments_lexer": "ipython3",
   "version": "3.8.8"
  }
 },
 "nbformat": 4,
 "nbformat_minor": 1
}
